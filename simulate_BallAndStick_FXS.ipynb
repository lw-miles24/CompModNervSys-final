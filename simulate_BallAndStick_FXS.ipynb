{
  "cells": [
    {
      "cell_type": "markdown",
      "metadata": {
        "id": "view-in-github",
        "colab_type": "text"
      },
      "source": [
        "<a href=\"https://colab.research.google.com/github/lw-miles24/CompModNervSys-final/blob/main/simulate_BallAndStick_FXS.ipynb\" target=\"_parent\"><img src=\"https://colab.research.google.com/assets/colab-badge.svg\" alt=\"Open In Colab\"/></a>"
      ]
    },
    {
      "cell_type": "markdown",
      "source": [
        "# Initialize session"
      ],
      "metadata": {
        "id": "_zzZISAWYjKH"
      }
    },
    {
      "cell_type": "markdown",
      "metadata": {
        "id": "QvJ3jFMbyayn"
      },
      "source": [
        "Install neuron as usual."
      ]
    },
    {
      "cell_type": "code",
      "execution_count": 1,
      "metadata": {
        "id": "mpalx3RKyayo",
        "outputId": "28c497e3-552c-410c-a334-71565e1cf99f",
        "colab": {
          "base_uri": "https://localhost:8080/"
        }
      },
      "outputs": [
        {
          "output_type": "stream",
          "name": "stdout",
          "text": [
            "Requirement already satisfied: neuron in /usr/local/lib/python3.10/dist-packages (8.2.4)\n",
            "Requirement already satisfied: numpy>=1.9.3 in /usr/local/lib/python3.10/dist-packages (from neuron) (1.25.2)\n",
            "Requirement already satisfied: packaging in /usr/local/lib/python3.10/dist-packages (from neuron) (24.0)\n",
            "Requirement already satisfied: find-libpython in /usr/local/lib/python3.10/dist-packages (from neuron) (0.4.0)\n",
            "Requirement already satisfied: setuptools in /usr/local/lib/python3.10/dist-packages (from neuron) (67.7.2)\n"
          ]
        }
      ],
      "source": [
        "%pip install neuron # only need to run this cell once to install\n",
        "                    # neuron in the local jupyter environment"
      ]
    },
    {
      "cell_type": "markdown",
      "metadata": {
        "id": "D0EzkXEGyayp"
      },
      "source": [
        "Mount the rest of the model files from the github repository."
      ]
    },
    {
      "cell_type": "code",
      "execution_count": 2,
      "metadata": {
        "id": "dKMPgIzvyayp",
        "outputId": "29d059fb-f145-483d-d19c-17a99f1f6567",
        "colab": {
          "base_uri": "https://localhost:8080/"
        }
      },
      "outputs": [
        {
          "output_type": "stream",
          "name": "stdout",
          "text": [
            "/content/CompModNervSys-final\n",
            "Mod files: \"mechanisms/mechanisms/kv.mod\" \"mechanisms/mechanisms/na.mod\"\n",
            "\n",
            " -> \u001b[32mCompiling\u001b[0m mod_func.cpp\n",
            " => \u001b[32mLINKING\u001b[0m shared library ./libnrnmech.so\n",
            "Successfully created x86_64/special\n"
          ]
        }
      ],
      "source": [
        "repo_name = 'CompModNervSys-final'\n",
        "if 'google.colab' in str(get_ipython()):\n",
        "    import os\n",
        "    if not os.path.exists(repo_name):\n",
        "        !git clone https://github.com/lw-miles24/{repo_name}.git # downloads repository into our Google colab session's file system\n",
        "\n",
        "    os.chdir(repo_name) # Changing working directory to downloaded repository\n",
        "\n",
        "# Compile mechanisms\n",
        "!nrnivmodl mechanisms"
      ]
    },
    {
      "cell_type": "markdown",
      "metadata": {
        "id": "k33DevVwyayq"
      },
      "source": [
        "Import the packages we'll be using."
      ]
    },
    {
      "cell_type": "code",
      "execution_count": 3,
      "metadata": {
        "id": "mq218So0yayr"
      },
      "outputs": [],
      "source": [
        "from neuron import h # all NEURON hoc functions are accessed through h\n",
        "from neuron import gui # if you're running this notebook in a local environment (instead of on google colab), launches the GUI\n",
        "h.load_file('stdrun.hoc') # loads neuron standard hoc library, not always necessary\n",
        "import numpy as np\n",
        "import matplotlib.pyplot as plt\n",
        "import plotly\n",
        "if 'google.colab' in str(get_ipython()):\n",
        "    from google.colab import output\n",
        "    output.enable_custom_widget_manager()\n"
      ]
    },
    {
      "cell_type": "markdown",
      "source": [
        "# Setup model"
      ],
      "metadata": {
        "id": "uh_mtOMbY2-q"
      }
    },
    {
      "cell_type": "markdown",
      "metadata": {
        "id": "GIVv9ladyays"
      },
      "source": [
        "Create the Ball and Stick neuron model"
      ]
    },
    {
      "cell_type": "markdown",
      "metadata": {
        "id": "8QVpz9dIyayt"
      },
      "source": [
        "Make `NetStim`s to drive synapses and `NetCons` to connect `NetStim`s to the synapses.  "
      ]
    },
    {
      "cell_type": "markdown",
      "metadata": {
        "id": "branCapMyayu"
      },
      "source": [
        "Detect if cell fired an AP by checking for a threshold voltage in the AIS."
      ]
    },
    {
      "cell_type": "code",
      "source": [
        "def ap_fired(v_vec_AIS,t_vec,threshold=0):\n",
        "    # v_vec_AIS = vector of AIS voltage\n",
        "    # t_vec = time vector\n",
        "    # threshold = mV threshold for AP firing\n",
        "    h.run()\n",
        "    for i in np.arange(0,len(t_vec)):\n",
        "        if v_vec_AIS[i] > threshold:\n",
        "            return True\n",
        "    return False"
      ],
      "metadata": {
        "id": "WiQlCl7yg7Xl"
      },
      "execution_count": 4,
      "outputs": []
    },
    {
      "cell_type": "markdown",
      "source": [
        "Define binary sort."
      ],
      "metadata": {
        "id": "cGUAvEoToRT5"
      }
    },
    {
      "cell_type": "code",
      "source": [
        "import timeit # used to avoid infinite loop below\n",
        "\n",
        "def find_threshold(nc_estim,v_vec_AIS,t_vec,threshold=0,low=0.01,high=5,thresh_err=0.02,max_time=100,print_out=False):\n",
        "    # nc_estim - Current clamp object to vary amplitude of\n",
        "    # spike_times - NEURON Vector of spike times\n",
        "    # num_aps - Number of APs to require to consider above threshold\n",
        "    # low - starting lower bound of search\n",
        "    # high - starting upper bound of search\n",
        "    # thresh_err - criteria to end search, relative window size (high-low)/low\n",
        "    # print_out - True or False, use for troubleshooting, prints out status during search\n",
        "    start_time = timeit.default_timer()\n",
        "\n",
        "    nc_estim.weight[0] = high\n",
        "    # First course search\n",
        "    while ((low == 0.01 or high == 5) and (timeit.default_timer() - start_time < max_time)):\n",
        "        if (ap_fired(v_vec_AIS,t_vec,threshold)):\n",
        "            high = nc_estim.weight[0]\n",
        "            nc_estim.weight[0] = high/2\n",
        "            # print('High loop; high = ')\n",
        "            # print(nc_estim.weight[0])\n",
        "        else:\n",
        "            low = nc_estim.weight[0]\n",
        "            nc_estim.weight[0] = 2*low\n",
        "            # print('Low loop; low = ')\n",
        "            # print(nc_estim.weight[0])\n",
        "        if print_out:\n",
        "            print('Coarse: Weight = {}, high = {}, low = {}'.format(nc_estim.weight[0],high,low))\n",
        "        if (low > high):\n",
        "            print('Search terminated early, threshold above upper limit {}'.format(high))\n",
        "            return high\n",
        "    # At this point, high value is not more than 2 x the threshold and low is not less than half the threshold\n",
        "    # Finer search, narrow bounds of threshold window\n",
        "    while ( abs(high/low - 1) > thresh_err ):\n",
        "        if print_out:\n",
        "            print('Window size = {} %%'.format(100*abs(high/low - 1)))\n",
        "        if (ap_fired(v_vec_AIS,t_vec,threshold)):\n",
        "            high = nc_estim.weight[0]\n",
        "            if print_out:\n",
        "                print('Fired {} weight'.format(nc_estim.weight[0]))\n",
        "        else:\n",
        "            if print_out:\n",
        "                print('No AP {} weight'.format(nc_estim.weight[0]))\n",
        "            low = nc_estim.weight[0]\n",
        "        nc_estim.weight[0] = (high+low)/2\n",
        "        if print_out:\n",
        "            print('Fine: Weight = {}, high = {}, low = {}'.format(nc_estim.weight[0],high,low))\n",
        "        # fig.add_trace(go.Scatter(x=t_vec,y=V_vec,name='Vm',line=dict(color='rgb(0,0,0)')),secondary_y = False)\n",
        "        # fig.show()\n",
        "    print('Threshold to elicit APs = {:.5f} weight ({:.2f} %% error)'.format(nc_estim.weight[0],thresh_err*100))\n",
        "    return high # returns upper range of window to ensure amplitude is above threshold"
      ],
      "metadata": {
        "id": "nWhqeK7RoS1h"
      },
      "execution_count": 5,
      "outputs": []
    },
    {
      "cell_type": "markdown",
      "source": [
        "# Dendritic AIS - WT"
      ],
      "metadata": {
        "id": "bhBKNTqwNgbG"
      }
    },
    {
      "cell_type": "code",
      "execution_count": 6,
      "metadata": {
        "id": "Tqv-x3Fyyays",
        "outputId": "2118b1fa-bb12-4d25-cca5-ee62c2dcc16c",
        "colab": {
          "base_uri": "https://localhost:8080/"
        }
      },
      "outputs": [
        {
          "output_type": "stream",
          "name": "stdout",
          "text": [
            "\n",
            "|-----|       BallAndStick[0].soma(0-1)\n",
            "       `--------------------------------------------------------------------------------------------------------------------------------------------------------------------------------------------------------|       BallAndStick[0].dend[0](0-1)\n",
            "             `--------------------|       BallAndStick[0].ais_prox(0-1)\n",
            "                                   `--------------------|       BallAndStick[0].ais_dist(0-1)\n",
            "                                                         `------------------------|       BallAndStick[0].axon(0-1)\n",
            "       `----------|       BallAndStick[0].dend[1](0-1)\n",
            "    `--------------------|       BallAndStick[0].apic[0](0-1)\n",
            "                          `----|       BallAndStick[0].apic[1](0-1)\n",
            "                          `----|       BallAndStick[0].apic[2](0-1)\n",
            "\n"
          ]
        }
      ],
      "source": [
        "from ballandstick import BallAndStick\n",
        "\n",
        "ais_mode = 'dend' # set to either 'soma' or 'dend'\n",
        "ais_loc = 0.028 # if ais_mode is 'dend', sets how far along the basal dendrite to attach the AIS\n",
        "               # benchmark values from Hodapp et al. 2022, ranging 0 to 1 (along 200 µm basal dendrite)\n",
        "               # mean axonal distance: 0.028 (5.7 µm)\n",
        "               # 95th percentile:      0.06   (12 µm)\n",
        "ais_length = 25.9 # µm; from Booker et al. 2020\n",
        "cell_WT_dAIS = BallAndStick(0,ais_mode,ais_loc,ais_length=ais_length)\n",
        "\n",
        "h.topology()\n",
        "# Time vector\n",
        "t_vec = h.Vector().record(h._ref_t)\n",
        "# Simulation parameter settings\n",
        "h.celsius = 37 # degC\n",
        "h.steps_per_ms = 1/0.025\n",
        "h.dt = 0.025 # ms\n",
        "h.tstop = 20 # ms\n",
        "h.v_init = -69 # mV\n",
        "\n",
        "# Stimulation\n",
        "iclamp = h.IClamp(cell_WT_dAIS.soma(0.5))\n",
        "iclamp.delay = 5 # ms\n",
        "iclamp.dur = 5 # ms\n",
        "iclamp.amp = 0 # ms\n",
        "iclamp_i = h.Vector().record(iclamp._ref_i)\n",
        "\n",
        "# Add excitatory synapse to basal dendrite\n",
        "exc_syn_loc = 0.438 # 0 to 1, sets how far along basal dendrite excitatory synapse is added\n",
        "                    # 0.438 = 87.6 µm along 200 µm basal dendrite (average stim\n",
        "                    # location used in Hodapp et al. 2022 simulations)\n",
        "exc_syn = h.Exp2Syn(cell_WT_dAIS.dend[0](exc_syn_loc))\n",
        "exc_syn.tau1 = 0.175 # ms - rise time (taken from Hodapp 2022 supp materials)\n",
        "exc_syn.tau2 = 5 # ms - decay time\n",
        "exc_syn.e = 0 # mV - eversal potential\n",
        "\n",
        "# Add inhibitory synapse to soma\n",
        "inh_syn = h.Exp2Syn(cell_WT_dAIS.soma(0.5))\n",
        "inh_syn.tau1 = 1.6 # ms\n",
        "inh_syn.tau2 = 11 # ms\n",
        "inh_syn.e = -75 # mV\n",
        "\n",
        "# synaptic current recordings\n",
        "exc_syn_i = h.Vector().record(exc_syn._ref_i)\n",
        "exc_syn_g = h.Vector().record(exc_syn._ref_g)\n",
        "inh_syn_i = h.Vector().record(inh_syn._ref_i)\n",
        "inh_syn_g = h.Vector().record(inh_syn._ref_g)\n",
        "\n",
        "# NetStim to simulate excitatory presynaptic spikes\n",
        "estim = h.NetStim()\n",
        "estim.number = 1\n",
        "estim.interval = 10 # ms - interval between spikes\n",
        "estim.start = 5 # ms\n",
        "estim.noise = 0\n",
        "\n",
        "# NetCon to connect excitatory presynaptic spikes to excitatory postsynaptic conductance\n",
        "nc_estim = h.NetCon(estim,exc_syn)\n",
        "nc_estim.delay = 1 # ms - synaptic delay\n",
        "nc_estim.weight[0] = 1 # µS - peak conductance\n",
        "\n",
        "# NetStim to simulate inhibitory presynaptic spikes\n",
        "istim = h.NetStim()\n",
        "istim.number = 1\n",
        "istim.interval = 10 # ms - interval between spikes\n",
        "istim.start = 5 # ms\n",
        "istim.noise = 0\n",
        "\n",
        "# NetCon to connect inhibitory presynaptic spikes to excitatory postsynaptic conductance\n",
        "nc_istim = h.NetCon(istim,inh_syn)\n",
        "nc_istim.delay = 1 # ms - synaptic delay\n",
        "nc_istim.weight[0] = 1 # µS - peak conductance"
      ]
    },
    {
      "cell_type": "markdown",
      "source": [
        "Simulate a range of excitatory and inhibitory weights from Hodapp et al. 2022."
      ],
      "metadata": {
        "id": "QZ9jSRcWbybT"
      }
    },
    {
      "cell_type": "code",
      "source": [
        "# set bounds of inhibitory & excitatory input to test\n",
        "inh_range = [0.0,0.08] # µS\n",
        "num_samples = 13 # 5\n",
        "exc_range = [0.001,0.12] # µS\n",
        "\n",
        "# setup\n",
        "WT_dAIS_threshfire = []\n",
        "inh_values = np.linspace(inh_range[0],inh_range[1],num_samples)\n",
        "\n",
        "# run simulations, find minimum excitatory weight needed to get AP\n",
        "for i in np.arange(0,len(inh_values)):\n",
        "    nc_istim.weight[0] = inh_values[i]\n",
        "    WT_dAIS_threshfire.append(find_threshold(nc_estim,cell_WT_dAIS.ais_v,t_vec,low=exc_range[0],high=exc_range[1]))\n",
        "\n",
        "print(WT_dAIS_threshfire)"
      ],
      "metadata": {
        "id": "RyU0BMbFEqF9",
        "outputId": "ae864e11-3cba-45da-90a9-e4140a4c8265",
        "colab": {
          "base_uri": "https://localhost:8080/"
        }
      },
      "execution_count": 7,
      "outputs": [
        {
          "output_type": "stream",
          "name": "stdout",
          "text": [
            "Threshold to elicit APs = 0.00873 weight (2.00 %% error)\n",
            "Threshold to elicit APs = 0.01413 weight (2.00 %% error)\n",
            "Threshold to elicit APs = 0.01808 weight (2.00 %% error)\n",
            "Threshold to elicit APs = 0.02064 weight (2.00 %% error)\n",
            "Threshold to elicit APs = 0.02354 weight (2.00 %% error)\n",
            "Threshold to elicit APs = 0.02773 weight (2.00 %% error)\n",
            "Threshold to elicit APs = 0.03470 weight (2.00 %% error)\n",
            "Threshold to elicit APs = 0.04446 weight (2.00 %% error)\n",
            "Threshold to elicit APs = 0.05818 weight (2.00 %% error)\n",
            "Threshold to elicit APs = 0.07770 weight (2.00 %% error)\n",
            "Threshold to elicit APs = 0.10605 weight (2.00 %% error)\n",
            "Threshold to elicit APs = 0.12000 weight (2.00 %% error)\n",
            "Threshold to elicit APs = 0.12000 weight (2.00 %% error)\n",
            "[0.0087861328125, 0.014248046875, 0.018199218750000003, 0.020755859374999998, 0.02377734375, 0.027960937499999998, 0.034933593750000005, 0.0446953125, 0.058640625, 0.07816406249999999, 0.10698437499999999, 0.12, 0.12]\n"
          ]
        }
      ]
    },
    {
      "cell_type": "markdown",
      "source": [
        "# Dendritic AIS - FXS"
      ],
      "metadata": {
        "id": "_s6AJjouNq9D"
      }
    },
    {
      "cell_type": "code",
      "source": [
        "from ballandstick import BallAndStick\n",
        "\n",
        "ais_mode = 'dend' # set to either 'soma' or 'dend'\n",
        "ais_loc = 0.028 # if ais_mode is 'dend', sets how far along the basal dendrite to attach the AIS\n",
        "               # benchmark values from Hodapp et al. 2022, ranging 0 to 1 (along 200 µm basal dendrite)\n",
        "               # mean axonal distance: 0.028 (5.7 µm)\n",
        "               # 95th percentile:      0.06   (12 µm)\n",
        "ais_length = 31.9 # µm; from Booker et al. 2020\n",
        "cell_FXS_dAIS = BallAndStick(0,ais_mode,ais_loc,ais_length=ais_length)\n",
        "\n",
        "h.topology()\n",
        "# Time vector\n",
        "t_vec = h.Vector().record(h._ref_t)\n",
        "# Simulation parameter settings\n",
        "h.celsius = 37 # degC\n",
        "h.steps_per_ms = 1/0.025\n",
        "h.dt = 0.025 # ms\n",
        "h.tstop = 20 # ms\n",
        "h.v_init = -69 # mV\n",
        "\n",
        "# Stimulation\n",
        "iclamp = h.IClamp(cell_FXS_dAIS.soma(0.5))\n",
        "iclamp.delay = 5 # ms\n",
        "iclamp.dur = 5 # ms\n",
        "iclamp.amp = 0 # ms\n",
        "iclamp_i = h.Vector().record(iclamp._ref_i)\n",
        "\n",
        "# Add excitatory synapse to basal dendrite\n",
        "exc_syn_loc = 0.438 # 0 to 1, sets how far along basal dendrite excitatory synapse is added\n",
        "                    # 0.438 = 87.6 µm along 200 µm basal dendrite (average stim\n",
        "                    # location used in Hodapp et al. 2022 simulations)\n",
        "exc_syn = h.Exp2Syn(cell_FXS_dAIS.dend[0](exc_syn_loc))\n",
        "exc_syn.tau1 = 0.175 # ms - rise time (taken from Hodapp 2022 supp materials)\n",
        "exc_syn.tau2 = 5 # ms - decay time\n",
        "exc_syn.e = 0 # mV - eversal potential\n",
        "\n",
        "# Add inhibitory synapse to soma\n",
        "inh_syn = h.Exp2Syn(cell_FXS_dAIS.soma(0.5))\n",
        "inh_syn.tau1 = 1.6 # ms\n",
        "inh_syn.tau2 = 11 # ms\n",
        "inh_syn.e = -75 # mV\n",
        "\n",
        "# synaptic current recordings\n",
        "exc_syn_i = h.Vector().record(exc_syn._ref_i)\n",
        "exc_syn_g = h.Vector().record(exc_syn._ref_g)\n",
        "inh_syn_i = h.Vector().record(inh_syn._ref_i)\n",
        "inh_syn_g = h.Vector().record(inh_syn._ref_g)\n",
        "\n",
        "# NetStim to simulate excitatory presynaptic spikes\n",
        "estim = h.NetStim()\n",
        "estim.number = 1\n",
        "estim.interval = 10 # ms - interval between spikes\n",
        "estim.start = 5 # ms\n",
        "estim.noise = 0\n",
        "\n",
        "# NetCon to connect excitatory presynaptic spikes to excitatory postsynaptic conductance\n",
        "nc_estim = h.NetCon(estim,exc_syn)\n",
        "nc_estim.delay = 1 # ms - synaptic delay\n",
        "nc_estim.weight[0] = 1 # µS - peak conductance\n",
        "\n",
        "# NetStim to simulate inhibitory presynaptic spikes\n",
        "istim = h.NetStim()\n",
        "istim.number = 1\n",
        "istim.interval = 10 # ms - interval between spikes\n",
        "istim.start = 5 # ms\n",
        "istim.noise = 0\n",
        "\n",
        "# NetCon to connect inhibitory presynaptic spikes to excitatory postsynaptic conductance\n",
        "nc_istim = h.NetCon(istim,inh_syn)\n",
        "nc_istim.delay = 1 # ms - synaptic delay\n",
        "nc_istim.weight[0] = 1 # µS - peak conductance"
      ],
      "metadata": {
        "id": "ezLLEt3jNx64",
        "outputId": "6d86a1e1-2c40-4250-8908-3da1e3558b40",
        "colab": {
          "base_uri": "https://localhost:8080/"
        }
      },
      "execution_count": 8,
      "outputs": [
        {
          "output_type": "stream",
          "name": "stdout",
          "text": [
            "\n",
            "|-----|       BallAndStick[0].soma(0-1)\n",
            "       `--------------------------------------------------------------------------------------------------------------------------------------------------------------------------------------------------------|       BallAndStick[0].dend[0](0-1)\n",
            "             `--------------------|       BallAndStick[0].ais_prox(0-1)\n",
            "                                   `--------------------|       BallAndStick[0].ais_dist(0-1)\n",
            "                                                         `------------------------|       BallAndStick[0].axon(0-1)\n",
            "       `----------|       BallAndStick[0].dend[1](0-1)\n",
            "    `--------------------|       BallAndStick[0].apic[0](0-1)\n",
            "                          `----|       BallAndStick[0].apic[1](0-1)\n",
            "                          `----|       BallAndStick[0].apic[2](0-1)\n",
            "|-----|       BallAndStick[0].soma(0-1)\n",
            "       `--------------------------------------------------------------------------------------------------------------------------------------------------------------------------------------------------------|       BallAndStick[0].dend[0](0-1)\n",
            "             `--------------------|       BallAndStick[0].ais_prox(0-1)\n",
            "                                   `--------------------|       BallAndStick[0].ais_dist(0-1)\n",
            "                                                         `------------------------|       BallAndStick[0].axon(0-1)\n",
            "       `----------|       BallAndStick[0].dend[1](0-1)\n",
            "    `--------------------|       BallAndStick[0].apic[0](0-1)\n",
            "                          `----|       BallAndStick[0].apic[1](0-1)\n",
            "                          `----|       BallAndStick[0].apic[2](0-1)\n",
            "\n"
          ]
        }
      ]
    },
    {
      "cell_type": "code",
      "source": [
        "# set bounds of inhibitory & excitatory input to test\n",
        "inh_range = [0.0,0.08] # µS\n",
        "num_samples = 13 # 5\n",
        "exc_range = [0.001,0.12] # µS\n",
        "\n",
        "# setup\n",
        "FXS_dAIS_threshfire = []\n",
        "inh_values = np.linspace(inh_range[0],inh_range[1],num_samples)\n",
        "\n",
        "# run simulations, find minimum excitatory weight needed to get AP\n",
        "for i in np.arange(0,len(inh_values)):\n",
        "    nc_istim.weight[0] = inh_values[i]\n",
        "    FXS_dAIS_threshfire.append(find_threshold(nc_estim,cell_FXS_dAIS.ais_v,t_vec,low=exc_range[0],high=exc_range[1]))\n",
        "\n",
        "print(FXS_dAIS_threshfire)"
      ],
      "metadata": {
        "id": "wwrXXkPeN_Pg",
        "outputId": "835de057-17e6-4cad-aadc-9a248b9fc9ac",
        "colab": {
          "base_uri": "https://localhost:8080/"
        }
      },
      "execution_count": 9,
      "outputs": [
        {
          "output_type": "stream",
          "name": "stdout",
          "text": [
            "Threshold to elicit APs = 0.00850 weight (2.00 %% error)\n",
            "Threshold to elicit APs = 0.01367 weight (2.00 %% error)\n",
            "Threshold to elicit APs = 0.01762 weight (2.00 %% error)\n",
            "Threshold to elicit APs = 0.02017 weight (2.00 %% error)\n",
            "Threshold to elicit APs = 0.02273 weight (2.00 %% error)\n",
            "Threshold to elicit APs = 0.02587 weight (2.00 %% error)\n",
            "Threshold to elicit APs = 0.03098 weight (2.00 %% error)\n",
            "Threshold to elicit APs = 0.03842 weight (2.00 %% error)\n",
            "Threshold to elicit APs = 0.04888 weight (2.00 %% error)\n",
            "Threshold to elicit APs = 0.06282 weight (2.00 %% error)\n",
            "Threshold to elicit APs = 0.08142 weight (2.00 %% error)\n",
            "Threshold to elicit APs = 0.10791 weight (2.00 %% error)\n",
            "Threshold to elicit APs = 0.12000 weight (2.00 %% error)\n",
            "[0.0085537109375, 0.013783203125, 0.017734375, 0.020291015625, 0.02284765625, 0.0261015625, 0.03121484375, 0.03865234375, 0.04934375, 0.06328906249999999, 0.08188281249999999, 0.10884374999999999, 0.12]\n"
          ]
        }
      ]
    },
    {
      "cell_type": "markdown",
      "source": [
        "# Somatic AIS - WT"
      ],
      "metadata": {
        "id": "OgOrEeANNtT2"
      }
    },
    {
      "cell_type": "code",
      "source": [
        "from ballandstick import BallAndStick\n",
        "\n",
        "ais_mode = 'soma' # set to either 'soma' or 'dend'\n",
        "ais_loc = 0 # if ais_mode is 'dend', sets how far along the basal dendrite to attach the AIS\n",
        "               # benchmark values from Hodapp et al. 2022, ranging 0 to 1 (along 200 µm basal dendrite)\n",
        "               # mean axonal distance: 0.028 (5.7 µm)\n",
        "               # 95th percentile:      0.06   (12 µm)\n",
        "ais_length = 25.6 # µm; from Booker et al. 2020\n",
        "cell_WT_sAIS = BallAndStick(0,ais_mode,ais_loc,ais_length=ais_length)\n",
        "\n",
        "h.topology()\n",
        "# Time vector\n",
        "t_vec = h.Vector().record(h._ref_t)\n",
        "# Simulation parameter settings\n",
        "h.celsius = 37 # degC\n",
        "h.steps_per_ms = 1/0.025\n",
        "h.dt = 0.025 # ms\n",
        "h.tstop = 20 # ms\n",
        "h.v_init = -69 # mV\n",
        "\n",
        "# Stimulation\n",
        "iclamp = h.IClamp(cell_WT_sAIS.soma(0.5))\n",
        "iclamp.delay = 5 # ms\n",
        "iclamp.dur = 5 # ms\n",
        "iclamp.amp = 0 # ms\n",
        "iclamp_i = h.Vector().record(iclamp._ref_i)\n",
        "\n",
        "# Add excitatory synapse to basal dendrite\n",
        "exc_syn_loc = 0.438 # 0 to 1, sets how far along basal dendrite excitatory synapse is added\n",
        "                    # 0.438 = 87.6 µm along 200 µm basal dendrite (average stim\n",
        "                    # location used in Hodapp et al. 2022 simulations)\n",
        "exc_syn = h.Exp2Syn(cell_WT_sAIS.dend[0](exc_syn_loc))\n",
        "exc_syn.tau1 = 0.175 # ms - rise time (taken from Hodapp 2022 supp materials)\n",
        "exc_syn.tau2 = 5 # ms - decay time\n",
        "exc_syn.e = 0 # mV - eversal potential\n",
        "\n",
        "# Add inhibitory synapse to soma\n",
        "inh_syn = h.Exp2Syn(cell_WT_sAIS.soma(0.5))\n",
        "inh_syn.tau1 = 1.6 # ms\n",
        "inh_syn.tau2 = 11 # ms\n",
        "inh_syn.e = -75 # mV\n",
        "\n",
        "# synaptic current recordings\n",
        "exc_syn_i = h.Vector().record(exc_syn._ref_i)\n",
        "exc_syn_g = h.Vector().record(exc_syn._ref_g)\n",
        "inh_syn_i = h.Vector().record(inh_syn._ref_i)\n",
        "inh_syn_g = h.Vector().record(inh_syn._ref_g)\n",
        "\n",
        "# NetStim to simulate excitatory presynaptic spikes\n",
        "estim = h.NetStim()\n",
        "estim.number = 1\n",
        "estim.interval = 10 # ms - interval between spikes\n",
        "estim.start = 5 # ms\n",
        "estim.noise = 0\n",
        "\n",
        "# NetCon to connect excitatory presynaptic spikes to excitatory postsynaptic conductance\n",
        "nc_estim = h.NetCon(estim,exc_syn)\n",
        "nc_estim.delay = 1 # ms - synaptic delay\n",
        "nc_estim.weight[0] = 1 # µS - peak conductance\n",
        "\n",
        "# NetStim to simulate inhibitory presynaptic spikes\n",
        "istim = h.NetStim()\n",
        "istim.number = 1\n",
        "istim.interval = 10 # ms - interval between spikes\n",
        "istim.start = 5 # ms\n",
        "istim.noise = 0\n",
        "\n",
        "# NetCon to connect inhibitory presynaptic spikes to excitatory postsynaptic conductance\n",
        "nc_istim = h.NetCon(istim,inh_syn)\n",
        "nc_istim.delay = 1 # ms - synaptic delay\n",
        "nc_istim.weight[0] = 1 # µS - peak conductance"
      ],
      "metadata": {
        "id": "qMQ2myMbOFpI",
        "outputId": "58b69cac-6188-4713-e366-34cc78e5b3d3",
        "colab": {
          "base_uri": "https://localhost:8080/"
        }
      },
      "execution_count": 10,
      "outputs": [
        {
          "output_type": "stream",
          "name": "stdout",
          "text": [
            "\n",
            "|-----|       BallAndStick[0].soma(0-1)\n",
            "       `--------------------------------------------------------------------------------------------------------------------------------------------------------------------------------------------------------|       BallAndStick[0].dend[0](0-1)\n",
            "             `--------------------|       BallAndStick[0].ais_prox(0-1)\n",
            "                                   `--------------------|       BallAndStick[0].ais_dist(0-1)\n",
            "                                                         `------------------------|       BallAndStick[0].axon(0-1)\n",
            "       `----------|       BallAndStick[0].dend[1](0-1)\n",
            "    `--------------------|       BallAndStick[0].apic[0](0-1)\n",
            "                          `----|       BallAndStick[0].apic[1](0-1)\n",
            "                          `----|       BallAndStick[0].apic[2](0-1)\n",
            "|-----|       BallAndStick[0].soma(0-1)\n",
            "       `--------------------------------------------------------------------------------------------------------------------------------------------------------------------------------------------------------|       BallAndStick[0].dend[0](0-1)\n",
            "             `--------------------|       BallAndStick[0].ais_prox(0-1)\n",
            "                                   `--------------------|       BallAndStick[0].ais_dist(0-1)\n",
            "                                                         `------------------------|       BallAndStick[0].axon(0-1)\n",
            "       `----------|       BallAndStick[0].dend[1](0-1)\n",
            "    `--------------------|       BallAndStick[0].apic[0](0-1)\n",
            "                          `----|       BallAndStick[0].apic[1](0-1)\n",
            "                          `----|       BallAndStick[0].apic[2](0-1)\n",
            "|-----|       BallAndStick[0].soma(0-1)\n",
            "       `--------------------------------------------------------------------------------------------------------------------------------------------------------------------------------------------------------|       BallAndStick[0].dend[0](0-1)\n",
            "       `----------|       BallAndStick[0].dend[1](0-1)\n",
            "       `--------------------|       BallAndStick[0].ais_prox(0-1)\n",
            "                             `--------------------|       BallAndStick[0].ais_dist(0-1)\n",
            "                                                   `------------------------|       BallAndStick[0].axon(0-1)\n",
            "    `--------------------|       BallAndStick[0].apic[0](0-1)\n",
            "                          `----|       BallAndStick[0].apic[1](0-1)\n",
            "                          `----|       BallAndStick[0].apic[2](0-1)\n",
            "\n"
          ]
        }
      ]
    },
    {
      "cell_type": "code",
      "source": [
        "# set bounds of inhibitory & excitatory input to test\n",
        "inh_range = [0.0,0.08] # µS\n",
        "num_samples = 13 # 5\n",
        "exc_range = [0.001,0.12] # µS\n",
        "\n",
        "# setup\n",
        "WT_sAIS_threshfire = []\n",
        "inh_values = np.linspace(inh_range[0],inh_range[1],num_samples)\n",
        "\n",
        "# run simulations, find minimum excitatory weight needed to get AP\n",
        "for i in np.arange(0,len(inh_values)):\n",
        "    nc_istim.weight[0] = inh_values[i]\n",
        "    WT_sAIS_threshfire.append(find_threshold(nc_estim,cell_WT_sAIS.ais_v,t_vec,low=exc_range[0],high=exc_range[1]))\n",
        "\n",
        "print(WT_sAIS_threshfire)"
      ],
      "metadata": {
        "id": "1jp9LpyiOWjr",
        "outputId": "0102e68f-5081-4044-b223-a18685c6d699",
        "colab": {
          "base_uri": "https://localhost:8080/"
        }
      },
      "execution_count": 11,
      "outputs": [
        {
          "output_type": "stream",
          "name": "stdout",
          "text": [
            "Threshold to elicit APs = 0.00896 weight (2.00 %% error)\n",
            "Threshold to elicit APs = 0.01460 weight (2.00 %% error)\n",
            "Threshold to elicit APs = 0.01832 weight (2.00 %% error)\n",
            "Threshold to elicit APs = 0.02134 weight (2.00 %% error)\n",
            "Threshold to elicit APs = 0.02633 weight (2.00 %% error)\n",
            "Threshold to elicit APs = 0.03610 weight (2.00 %% error)\n",
            "Threshold to elicit APs = 0.05260 weight (2.00 %% error)\n",
            "Threshold to elicit APs = 0.08049 weight (2.00 %% error)\n",
            "Threshold to elicit APs = 0.12000 weight (2.00 %% error)\n",
            "Threshold to elicit APs = 0.12000 weight (2.00 %% error)\n",
            "Threshold to elicit APs = 0.12000 weight (2.00 %% error)\n",
            "Threshold to elicit APs = 0.12000 weight (2.00 %% error)\n",
            "Threshold to elicit APs = 0.12000 weight (2.00 %% error)\n",
            "[0.0090185546875, 0.014712890624999999, 0.018431640625000002, 0.021453125, 0.02656640625, 0.036328125, 0.0530625, 0.08095312499999999, 0.12, 0.12, 0.12, 0.12, 0.12]\n"
          ]
        }
      ]
    },
    {
      "cell_type": "markdown",
      "source": [
        "# Somatic AIS - FXS"
      ],
      "metadata": {
        "id": "sEq3utzBNvRF"
      }
    },
    {
      "cell_type": "code",
      "source": [
        "from ballandstick import BallAndStick\n",
        "\n",
        "ais_mode = 'soma' # set to either 'soma' or 'dend'\n",
        "ais_loc = 0 # if ais_mode is 'dend', sets how far along the basal dendrite to attach the AIS\n",
        "               # benchmark values from Hodapp et al. 2022, ranging 0 to 1 (along 200 µm basal dendrite)\n",
        "               # mean axonal distance: 0.028 (5.7 µm)\n",
        "               # 95th percentile:      0.06   (12 µm)\n",
        "ais_length = 31.9 # µm; from Booker et al. 2020\n",
        "cell_FXS_sAIS = BallAndStick(0,ais_mode,ais_loc,ais_length=ais_length)\n",
        "\n",
        "h.topology()\n",
        "# Time vector\n",
        "t_vec = h.Vector().record(h._ref_t)\n",
        "# Simulation parameter settings\n",
        "h.celsius = 37 # degC\n",
        "h.steps_per_ms = 1/0.025\n",
        "h.dt = 0.025 # ms\n",
        "h.tstop = 20 # ms\n",
        "h.v_init = -69 # mV\n",
        "\n",
        "# Stimulation\n",
        "iclamp = h.IClamp(cell_FXS_sAIS.soma(0.5))\n",
        "iclamp.delay = 5 # ms\n",
        "iclamp.dur = 5 # ms\n",
        "iclamp.amp = 0 # ms\n",
        "iclamp_i = h.Vector().record(iclamp._ref_i)\n",
        "\n",
        "# Add excitatory synapse to basal dendrite\n",
        "exc_syn_loc = 0.438 # 0 to 1, sets how far along basal dendrite excitatory synapse is added\n",
        "                    # 0.438 = 87.6 µm along 200 µm basal dendrite (average stim\n",
        "                    # location used in Hodapp et al. 2022 simulations)\n",
        "exc_syn = h.Exp2Syn(cell_FXS_sAIS.dend[0](exc_syn_loc))\n",
        "exc_syn.tau1 = 0.175 # ms - rise time (taken from Hodapp 2022 supp materials)\n",
        "exc_syn.tau2 = 5 # ms - decay time\n",
        "exc_syn.e = 0 # mV - eversal potential\n",
        "\n",
        "# Add inhibitory synapse to soma\n",
        "inh_syn = h.Exp2Syn(cell_FXS_sAIS.soma(0.5))\n",
        "inh_syn.tau1 = 1.6 # ms\n",
        "inh_syn.tau2 = 11 # ms\n",
        "inh_syn.e = -75 # mV\n",
        "\n",
        "# synaptic current recordings\n",
        "exc_syn_i = h.Vector().record(exc_syn._ref_i)\n",
        "exc_syn_g = h.Vector().record(exc_syn._ref_g)\n",
        "inh_syn_i = h.Vector().record(inh_syn._ref_i)\n",
        "inh_syn_g = h.Vector().record(inh_syn._ref_g)\n",
        "\n",
        "# NetStim to simulate excitatory presynaptic spikes\n",
        "estim = h.NetStim()\n",
        "estim.number = 1\n",
        "estim.interval = 10 # ms - interval between spikes\n",
        "estim.start = 5 # ms\n",
        "estim.noise = 0\n",
        "\n",
        "# NetCon to connect excitatory presynaptic spikes to excitatory postsynaptic conductance\n",
        "nc_estim = h.NetCon(estim,exc_syn)\n",
        "nc_estim.delay = 1 # ms - synaptic delay\n",
        "nc_estim.weight[0] = 1 # µS - peak conductance\n",
        "\n",
        "# NetStim to simulate inhibitory presynaptic spikes\n",
        "istim = h.NetStim()\n",
        "istim.number = 1\n",
        "istim.interval = 10 # ms - interval between spikes\n",
        "istim.start = 5 # ms\n",
        "istim.noise = 0\n",
        "\n",
        "# NetCon to connect inhibitory presynaptic spikes to excitatory postsynaptic conductance\n",
        "nc_istim = h.NetCon(istim,inh_syn)\n",
        "nc_istim.delay = 1 # ms - synaptic delay\n",
        "nc_istim.weight[0] = 1 # µS - peak conductance"
      ],
      "metadata": {
        "id": "LZvFrxtGOJdZ",
        "outputId": "e0a6049d-4fb6-49af-b897-178c919fe91a",
        "colab": {
          "base_uri": "https://localhost:8080/"
        }
      },
      "execution_count": 12,
      "outputs": [
        {
          "output_type": "stream",
          "name": "stdout",
          "text": [
            "\n",
            "|-----|       BallAndStick[0].soma(0-1)\n",
            "       `--------------------------------------------------------------------------------------------------------------------------------------------------------------------------------------------------------|       BallAndStick[0].dend[0](0-1)\n",
            "             `--------------------|       BallAndStick[0].ais_prox(0-1)\n",
            "                                   `--------------------|       BallAndStick[0].ais_dist(0-1)\n",
            "                                                         `------------------------|       BallAndStick[0].axon(0-1)\n",
            "       `----------|       BallAndStick[0].dend[1](0-1)\n",
            "    `--------------------|       BallAndStick[0].apic[0](0-1)\n",
            "                          `----|       BallAndStick[0].apic[1](0-1)\n",
            "                          `----|       BallAndStick[0].apic[2](0-1)\n",
            "|-----|       BallAndStick[0].soma(0-1)\n",
            "       `--------------------------------------------------------------------------------------------------------------------------------------------------------------------------------------------------------|       BallAndStick[0].dend[0](0-1)\n",
            "             `--------------------|       BallAndStick[0].ais_prox(0-1)\n",
            "                                   `--------------------|       BallAndStick[0].ais_dist(0-1)\n",
            "                                                         `------------------------|       BallAndStick[0].axon(0-1)\n",
            "       `----------|       BallAndStick[0].dend[1](0-1)\n",
            "    `--------------------|       BallAndStick[0].apic[0](0-1)\n",
            "                          `----|       BallAndStick[0].apic[1](0-1)\n",
            "                          `----|       BallAndStick[0].apic[2](0-1)\n",
            "|-----|       BallAndStick[0].soma(0-1)\n",
            "       `--------------------------------------------------------------------------------------------------------------------------------------------------------------------------------------------------------|       BallAndStick[0].dend[0](0-1)\n",
            "       `----------|       BallAndStick[0].dend[1](0-1)\n",
            "       `--------------------|       BallAndStick[0].ais_prox(0-1)\n",
            "                             `--------------------|       BallAndStick[0].ais_dist(0-1)\n",
            "                                                   `------------------------|       BallAndStick[0].axon(0-1)\n",
            "    `--------------------|       BallAndStick[0].apic[0](0-1)\n",
            "                          `----|       BallAndStick[0].apic[1](0-1)\n",
            "                          `----|       BallAndStick[0].apic[2](0-1)\n",
            "|-----|       BallAndStick[0].soma(0-1)\n",
            "       `--------------------------------------------------------------------------------------------------------------------------------------------------------------------------------------------------------|       BallAndStick[0].dend[0](0-1)\n",
            "       `----------|       BallAndStick[0].dend[1](0-1)\n",
            "       `--------------------|       BallAndStick[0].ais_prox(0-1)\n",
            "                             `--------------------|       BallAndStick[0].ais_dist(0-1)\n",
            "                                                   `------------------------|       BallAndStick[0].axon(0-1)\n",
            "    `--------------------|       BallAndStick[0].apic[0](0-1)\n",
            "                          `----|       BallAndStick[0].apic[1](0-1)\n",
            "                          `----|       BallAndStick[0].apic[2](0-1)\n",
            "\n"
          ]
        }
      ]
    },
    {
      "cell_type": "code",
      "source": [
        "# set bounds of inhibitory & excitatory input to test\n",
        "inh_range = [0.0,0.08] # µS\n",
        "num_samples = 13 # 5\n",
        "exc_range = [0.001,0.12] # µS\n",
        "\n",
        "# setup\n",
        "FXS_sAIS_threshfire = []\n",
        "inh_values = np.linspace(inh_range[0],inh_range[1],num_samples)\n",
        "\n",
        "# run simulations, find minimum excitatory weight needed to get AP\n",
        "for i in np.arange(0,len(inh_values)):\n",
        "    nc_istim.weight[0] = inh_values[i]\n",
        "    FXS_sAIS_threshfire.append(find_threshold(nc_estim,cell_FXS_sAIS.ais_v,t_vec,low=exc_range[0],high=exc_range[1]))\n",
        "\n",
        "print(inh_values)\n",
        "print(WT_sAIS_threshfire)"
      ],
      "metadata": {
        "id": "s-Wt3AWNOcGo",
        "outputId": "34a37a02-2056-4943-ee12-55e33a2548a4",
        "colab": {
          "base_uri": "https://localhost:8080/"
        }
      },
      "execution_count": 13,
      "outputs": [
        {
          "output_type": "stream",
          "name": "stdout",
          "text": [
            "Threshold to elicit APs = 0.00861 weight (2.00 %% error)\n",
            "Threshold to elicit APs = 0.01413 weight (2.00 %% error)\n",
            "Threshold to elicit APs = 0.01808 weight (2.00 %% error)\n",
            "Threshold to elicit APs = 0.02087 weight (2.00 %% error)\n",
            "Threshold to elicit APs = 0.02494 weight (2.00 %% error)\n",
            "Threshold to elicit APs = 0.03191 weight (2.00 %% error)\n",
            "Threshold to elicit APs = 0.04400 weight (2.00 %% error)\n",
            "Threshold to elicit APs = 0.06375 weight (2.00 %% error)\n",
            "Threshold to elicit APs = 0.09490 weight (2.00 %% error)\n",
            "Threshold to elicit APs = 0.12000 weight (2.00 %% error)\n",
            "Threshold to elicit APs = 0.12000 weight (2.00 %% error)\n",
            "Threshold to elicit APs = 0.12000 weight (2.00 %% error)\n",
            "Threshold to elicit APs = 0.12000 weight (2.00 %% error)\n",
            "[0.         0.00666667 0.01333333 0.02       0.02666667 0.03333333\n",
            " 0.04       0.04666667 0.05333333 0.06       0.06666667 0.07333333\n",
            " 0.08      ]\n",
            "[0.0090185546875, 0.014712890624999999, 0.018431640625000002, 0.021453125, 0.02656640625, 0.036328125, 0.0530625, 0.08095312499999999, 0.12, 0.12, 0.12, 0.12, 0.12]\n"
          ]
        }
      ]
    },
    {
      "cell_type": "markdown",
      "source": [
        "# Graph results"
      ],
      "metadata": {
        "id": "1CUvF1T7PFVw"
      }
    },
    {
      "cell_type": "code",
      "source": [
        "fig = plt.figure()\n",
        "ax = fig.add_subplot(111)\n",
        "ax.plot(inh_values*1e3,np.array(WT_dAIS_threshfire)*1e3,label='dendritic AIS; WT')\n",
        "ax.plot(inh_values*1e3,np.array(FXS_dAIS_threshfire)*1e3,label='dendritic AIS; FXS')\n",
        "ax.plot(inh_values*1e3,np.array(WT_sAIS_threshfire)*1e3,label='somatic AIS; WT')\n",
        "ax.plot(inh_values*1e3,np.array(FXS_sAIS_threshfire)*1e3,label='somatic AIS; FXS')\n",
        "ax.set_xlabel('inhibitory weight (nS)')\n",
        "ax.set_ylabel('excitatory weight (nS)')\n",
        "ax.set_xlim(0,80)\n",
        "ax.set_ylim(0,120)\n",
        "ax.legend()"
      ],
      "metadata": {
        "id": "D--loznPPHPU",
        "outputId": "fc29ff53-d92f-4656-e7ae-84106c9bf4d6",
        "colab": {
          "base_uri": "https://localhost:8080/",
          "height": 473
        }
      },
      "execution_count": 14,
      "outputs": [
        {
          "output_type": "execute_result",
          "data": {
            "text/plain": [
              "<matplotlib.legend.Legend at 0x7ec33bf41390>"
            ]
          },
          "metadata": {},
          "execution_count": 14
        },
        {
          "output_type": "display_data",
          "data": {
            "text/plain": [
              "<Figure size 640x480 with 1 Axes>"
            ],
            "image/png": "[encoded data removed]"
          },
          "metadata": {}
        }
      ]
    }
  ],
  "metadata": {
    "colab": {
      "provenance": [],
      "toc_visible": true,
      "include_colab_link": true
    },
    "kernelspec": {
      "display_name": "cmns_env",
      "language": "python",
      "name": "python3"
    },
    "language_info": {
      "codemirror_mode": {
        "name": "ipython",
        "version": 3
      },
      "file_extension": ".py",
      "mimetype": "text/x-python",
      "name": "python",
      "nbconvert_exporter": "python",
      "pygments_lexer": "ipython3",
      "version": "3.9.16"
    },
    "vscode": {
      "interpreter": {
        "hash": "d0488761690764cced0e7b1e141a742f06ea2f3fa8f54952eb1b54a94bfd6a2a"
      }
    }
  },
  "nbformat": 4,
  "nbformat_minor": 0
}