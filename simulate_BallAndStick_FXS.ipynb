{
  "cells": [
    {
      "cell_type": "markdown",
      "metadata": {
        "id": "view-in-github",
        "colab_type": "text"
      },
      "source": [
        "<a href=\"https://colab.research.google.com/github/lw-miles24/CompModNervSys-final/blob/main/simulate_BallAndStick_FXS.ipynb\" target=\"_parent\"><img src=\"https://colab.research.google.com/assets/colab-badge.svg\" alt=\"Open In Colab\"/></a>"
      ]
    },
    {
      "cell_type": "markdown",
      "source": [
        "# Initialize session"
      ],
      "metadata": {
        "id": "_zzZISAWYjKH"
      }
    },
    {
      "cell_type": "markdown",
      "metadata": {
        "id": "QvJ3jFMbyayn"
      },
      "source": [
        "Install neuron as usual."
      ]
    },
    {
      "cell_type": "code",
      "execution_count": 1,
      "metadata": {
        "id": "mpalx3RKyayo",
        "outputId": "d8f1d1fa-5ad7-4eeb-c858-903c02f04ab3",
        "colab": {
          "base_uri": "https://localhost:8080/"
        }
      },
      "outputs": [
        {
          "output_type": "stream",
          "name": "stdout",
          "text": [
            "Collecting neuron\n",
            "  Downloading NEURON-8.2.4-cp310-cp310-manylinux_2_17_x86_64.manylinux2014_x86_64.whl (15.0 MB)\n",
            "\u001b[2K     \u001b[90m━━━━━━━━━━━━━━━━━━━━━━━━━━━━━━━━━━━━━━━━\u001b[0m \u001b[32m15.0/15.0 MB\u001b[0m \u001b[31m23.3 MB/s\u001b[0m eta \u001b[36m0:00:00\u001b[0m\n",
            "\u001b[?25hRequirement already satisfied: numpy>=1.9.3 in /usr/local/lib/python3.10/dist-packages (from neuron) (1.25.2)\n",
            "Requirement already satisfied: packaging in /usr/local/lib/python3.10/dist-packages (from neuron) (24.0)\n",
            "Collecting find-libpython (from neuron)\n",
            "  Downloading find_libpython-0.4.0-py3-none-any.whl (8.7 kB)\n",
            "Requirement already satisfied: setuptools in /usr/local/lib/python3.10/dist-packages (from neuron) (67.7.2)\n",
            "Installing collected packages: find-libpython, neuron\n",
            "Successfully installed find-libpython-0.4.0 neuron-8.2.4\n"
          ]
        }
      ],
      "source": [
        "%pip install neuron # only need to run this cell once to install\n",
        "                    # neuron in the local jupyter environment"
      ]
    },
    {
      "cell_type": "markdown",
      "metadata": {
        "id": "D0EzkXEGyayp"
      },
      "source": [
        "Mount the rest of the model files from the github repository."
      ]
    },
    {
      "cell_type": "code",
      "execution_count": 2,
      "metadata": {
        "id": "dKMPgIzvyayp",
        "outputId": "e7bd3cfc-9add-4441-90a5-b1e4c860db95",
        "colab": {
          "base_uri": "https://localhost:8080/"
        }
      },
      "outputs": [
        {
          "output_type": "stream",
          "name": "stdout",
          "text": [
            "Cloning into 'CompModNervSys-final'...\n",
            "remote: Enumerating objects: 98, done.\u001b[K\n",
            "remote: Counting objects: 100% (98/98), done.\u001b[K\n",
            "remote: Compressing objects: 100% (79/79), done.\u001b[K\n",
            "remote: Total 98 (delta 41), reused 41 (delta 13), pack-reused 0\u001b[K\n",
            "Receiving objects: 100% (98/98), 560.33 KiB | 7.47 MiB/s, done.\n",
            "Resolving deltas: 100% (41/41), done.\n",
            "/content/CompModNervSys-final\n",
            "Mod files: \"mechanisms/mechanisms/kv.mod\" \"mechanisms/mechanisms/na.mod\"\n",
            "\n",
            "Creating 'x86_64' directory for .o files.\n",
            "\n",
            " -> \u001b[32mNMODL\u001b[0m ../mechanisms/kv.mod\n",
            " -> \u001b[32mCompiling\u001b[0m mod_func.cpp\n",
            " -> \u001b[32mNMODL\u001b[0m ../mechanisms/na.mod\n",
            "Translating kv.mod into /content/CompModNervSys-final/x86_64/kv.c\n",
            "Thread Safe\n",
            " -> \u001b[32mCompiling\u001b[0m kv.c\n",
            "Translating na.mod into /content/CompModNervSys-final/x86_64/na.c\n",
            "Thread Safe\n",
            " -> \u001b[32mCompiling\u001b[0m na.c\n",
            " => \u001b[32mLINKING\u001b[0m shared library ./libnrnmech.so\n",
            " => \u001b[32mLINKING\u001b[0m executable ./special LDFLAGS are:    -pthread\n",
            "Successfully created x86_64/special\n"
          ]
        }
      ],
      "source": [
        "repo_name = 'CompModNervSys-final'\n",
        "if 'google.colab' in str(get_ipython()):\n",
        "    import os\n",
        "    if not os.path.exists(repo_name):\n",
        "        !git clone https://github.com/lw-miles24/{repo_name}.git # downloads repository into our Google colab session's file system\n",
        "\n",
        "    os.chdir(repo_name) # Changing working directory to downloaded repository\n",
        "\n",
        "# Compile mechanisms\n",
        "!nrnivmodl mechanisms"
      ]
    },
    {
      "cell_type": "markdown",
      "metadata": {
        "id": "k33DevVwyayq"
      },
      "source": [
        "Import the packages we'll be using."
      ]
    },
    {
      "cell_type": "code",
      "execution_count": 3,
      "metadata": {
        "id": "mq218So0yayr"
      },
      "outputs": [],
      "source": [
        "from neuron import h # all NEURON hoc functions are accessed through h\n",
        "from neuron import gui # if you're running this notebook in a local environment (instead of on google colab), launches the GUI\n",
        "h.load_file('stdrun.hoc') # loads neuron standard hoc library, not always necessary\n",
        "import numpy as np\n",
        "import matplotlib.pyplot as plt\n",
        "import plotly\n",
        "if 'google.colab' in str(get_ipython()):\n",
        "    from google.colab import output\n",
        "    output.enable_custom_widget_manager()\n"
      ]
    },
    {
      "cell_type": "markdown",
      "source": [
        "# Dendritic AIS model"
      ],
      "metadata": {
        "id": "uh_mtOMbY2-q"
      }
    },
    {
      "cell_type": "markdown",
      "metadata": {
        "id": "GIVv9ladyays"
      },
      "source": [
        "Create the Ball and Stick neuron model"
      ]
    },
    {
      "cell_type": "code",
      "execution_count": null,
      "metadata": {
        "id": "Tqv-x3Fyyays",
        "outputId": "05e86edd-276f-4008-c7e0-d3b703741bf5",
        "colab": {
          "base_uri": "https://localhost:8080/"
        }
      },
      "outputs": [
        {
          "output_type": "stream",
          "name": "stdout",
          "text": [
            "\n",
            "|-----|       BallAndStick[0].soma(0-1)\n",
            "       `--------------------------------------------------------------------------------------------------------------------------------------------------------------------------------------------------------|       BallAndStick[0].dend[0](0-1)\n",
            "             `--------------------|       BallAndStick[0].ais_prox(0-1)\n",
            "                                   `--------------------|       BallAndStick[0].ais_dist(0-1)\n",
            "                                                         `------------------------|       BallAndStick[0].axon(0-1)\n",
            "       `----------|       BallAndStick[0].dend[1](0-1)\n",
            "    `--------------------|       BallAndStick[0].apic[0](0-1)\n",
            "                          `----|       BallAndStick[0].apic[1](0-1)\n",
            "                          `----|       BallAndStick[0].apic[2](0-1)\n",
            "\n"
          ]
        }
      ],
      "source": [
        "from ballandstick import BallAndStick\n",
        "\n",
        "ais_mode = 'dend' # set to either 'soma' or 'dend'\n",
        "ais_loc = 0.028 # if ais_mode is 'dend', sets how far along the basal dendrite to attach the AIS\n",
        "               # benchmark values from Hodapp et al. 2022, ranging 0 to 1 (along 200 µm basal dendrite)\n",
        "               # mean axonal distance: 0.028 (5.7 µm)\n",
        "               # 95th percentile:      0.06   (12 µm)\n",
        "ais_length = 25.9 # µm; from Booker et al. 2020\n",
        "cell_WT_dAIS = BallAndStick(0,ais_mode,ais_loc,ais_length=ais_length)\n",
        "\n",
        "h.topology()\n",
        "# Time vector\n",
        "t_vec = h.Vector().record(h._ref_t)\n",
        "# Simulation parameter settings\n",
        "h.celsius = 37 # degC\n",
        "h.steps_per_ms = 1/0.025\n",
        "h.dt = 0.025 # ms\n",
        "h.tstop = 20 # ms\n",
        "h.v_init = -69 # mV\n",
        "\n",
        "# Stimulation\n",
        "iclamp = h.IClamp(cell_dAIS.soma(0.5))\n",
        "iclamp.delay = 5 # ms\n",
        "iclamp.dur = 5 # ms\n",
        "iclamp.amp = 1 # ms\n",
        "iclamp_i = h.Vector().record(iclamp._ref_i)"
      ]
    },
    {
      "cell_type": "markdown",
      "metadata": {
        "id": "pu3F7sP5yayt"
      },
      "source": [
        "Add excitatory synapse to basal dendritic branch with AIS (`dend[0]`), distal to AIS. Add inhibitory synapse to soma."
      ]
    },
    {
      "cell_type": "code",
      "execution_count": null,
      "metadata": {
        "id": "sAMx3pw9yayt"
      },
      "outputs": [],
      "source": [
        "# Add excitatory synapse to basal dendrite\n",
        "exc_syn_loc = 0.438 # 0 to 1, sets how far along basal dendrite excitatory synapse is added\n",
        "                    # 0.438 = 87.6 µm along 200 µm basal dendrite (average stim\n",
        "                    # location used in Hodapp et al. 2022 simulations)\n",
        "exc_syn = h.Exp2Syn(cell_dAIS.dend[0](exc_syn_loc))\n",
        "exc_syn.tau1 = 0.175 # ms - rise time (taken from Hodapp 2022 supp materials)\n",
        "exc_syn.tau2 = 5 # ms - decay time\n",
        "exc_syn.e = 0 # mV - eversal potential\n",
        "\n",
        "# Add inhibitory synapse to soma\n",
        "inh_syn = h.Exp2Syn(cell_dAIS.soma(0.5))\n",
        "inh_syn.tau1 = 1.6 # ms\n",
        "inh_syn.tau2 = 11 # ms\n",
        "inh_syn.e = -75 # mV\n",
        "\n",
        "# synaptic current recordings\n",
        "exc_syn_i = h.Vector().record(exc_syn._ref_i)\n",
        "exc_syn_g = h.Vector().record(exc_syn._ref_g)\n",
        "inh_syn_i = h.Vector().record(inh_syn._ref_i)\n",
        "inh_syn_g = h.Vector().record(inh_syn._ref_g)"
      ]
    },
    {
      "cell_type": "markdown",
      "metadata": {
        "id": "8QVpz9dIyayt"
      },
      "source": [
        "Make `NetStim`s to drive synapses and `NetCons` to connect `NetStim`s to the synapses.  "
      ]
    },
    {
      "cell_type": "code",
      "execution_count": null,
      "metadata": {
        "id": "pxkzQ8weyayu"
      },
      "outputs": [],
      "source": [
        "# NetStim to simulate excitatory presynaptic spikes\n",
        "estim = h.NetStim()\n",
        "estim.number = 1\n",
        "estim.interval = 10 # ms - interval between spikes\n",
        "estim.start = 5 # ms\n",
        "estim.noise = 0\n",
        "\n",
        "# NetCon to connect excitatory presynaptic spikes to excitatory postsynaptic conductance\n",
        "nc_estim = h.NetCon(estim,exc_syn)\n",
        "nc_estim.delay = 1 # ms - synaptic delay\n",
        "nc_estim.weight[0] = 1 # µS - peak conductance\n",
        "\n",
        "# NetStim to simulate inhibitory presynaptic spikes\n",
        "istim = h.NetStim()\n",
        "istim.number = 1\n",
        "istim.interval = 10 # ms - interval between spikes\n",
        "istim.start = 5 # ms\n",
        "istim.noise = 0\n",
        "\n",
        "# NetCon to connect inhibitory presynaptic spikes to excitatory postsynaptic conductance\n",
        "nc_istim = h.NetCon(istim,inh_syn)\n",
        "nc_istim.delay = 1 # ms - synaptic delay\n",
        "nc_istim.weight[0] = 1 # µS - peak conductance"
      ]
    },
    {
      "cell_type": "markdown",
      "metadata": {
        "id": "branCapMyayu"
      },
      "source": [
        "**Opt. 1** Define helper function to detect if the cell fired an AP. If it did, also determine at what voltage threshold this occurred.\n",
        "\n",
        "**Opt. 2** Define helper function to detect if the cell fired an AP, checking if it happened in the soma & AIS (1.0) vs. AIS only (0.5) vs. neither (0)."
      ]
    },
    {
      "cell_type": "code",
      "execution_count": null,
      "metadata": {
        "id": "AcwgWb4Vyayu"
      },
      "outputs": [],
      "source": [
        "# def what_v_fire(v_vec,t_vec,dt=h.dt,threshold=30):\n",
        "    # v_vec = vector of AIS voltage, used to determine if an AP fired\n",
        "    # t_vec = time vector\n",
        "    # dt = size of time step (ms)\n",
        "    # threshold = rate of change of Vm for AP (10 mV/ms taken from Hodapp et al. 2022)\n",
        "    # returns 1 if Vm gets over threshold mV\n",
        "#    for i in np.arange(1,len(v_vec)):\n",
        "#        if (v_vec[i] - v_vec[i-1])/dt > threshold:\n",
        "#            return v_vec[i],t_vec[i]\n",
        "#    return False,0"
      ]
    },
    {
      "cell_type": "code",
      "source": [
        "def what_v_fire(v_vec_AIS,v_vec_soma,t_vec,threshold=0):\n",
        "    # returns 1 if Vm in AIS & soma exceeds threshold; 0.5 if only AIS exceeds; 0 if neither exceed\n",
        "    # v_vec_AIS = vector of AIS voltage\n",
        "    # v_vec_soma = vector of soma voltage\n",
        "    # t_vec = time vector\n",
        "    # dt = size of time step (ms)\n",
        "    # threshold = mV\n",
        "    # for i in np.arange(1,len(t_vec)):\n",
        "    #    if v_vec_AIS[i] > threshold:\n",
        "    #        if v_vec_soma[i] > threshold:\n",
        "    #            return 1\n",
        "    #        else:\n",
        "    #            return 0.5\n",
        "    # return 0\n",
        "    for i in np.arange(0,len(t_vec)):\n",
        "        if v_vec_AIS[i] > threshold:\n",
        "            return v_vec_soma.max()\n",
        "    return False"
      ],
      "metadata": {
        "id": "WiQlCl7yg7Xl"
      },
      "execution_count": null,
      "outputs": []
    },
    {
      "cell_type": "markdown",
      "source": [
        "Simulate a range of excitatory and inhibitory weights from Hodapp et al. 2022."
      ],
      "metadata": {
        "id": "QZ9jSRcWbybT"
      }
    },
    {
      "cell_type": "code",
      "source": [
        "exc_range = np.linspace(0,0.12,25) #13\n",
        "inh_range = np.linspace(0,0.08,17) #9\n",
        "iclamp.amp=0\n",
        "\n",
        "dAIS_fire_matrix = np.zeros((len(exc_range),len(inh_range)))\n",
        "\n",
        "for e in np.arange(0,len(exc_range)):\n",
        "    for i in np.arange(0,len(inh_range)):\n",
        "        nc_estim.weight[0] = exc_range[e]\n",
        "        nc_istim.weight[0] = inh_range[i]\n",
        "        h.run()\n",
        "        ifAP_soma_v_max = what_v_fire(cell_dAIS.ais_v,cell_dAIS.soma_v,t_vec,threshold=0)\n",
        "        if ifAP_soma_v_max:\n",
        "            dAIS_fire_matrix[e,i] = ifAP_soma_v_max\n",
        "        else:\n",
        "            dAIS_fire_matrix[e,i] = np.nan\n"
      ],
      "metadata": {
        "id": "RyU0BMbFEqF9"
      },
      "execution_count": null,
      "outputs": []
    },
    {
      "cell_type": "markdown",
      "source": [
        "Plot on heatmap."
      ],
      "metadata": {
        "id": "Pr15o5vniNRm"
      }
    },
    {
      "cell_type": "code",
      "source": [
        "import plotly.graph_objects as go\n",
        "\n",
        "fig = go.Figure(data=go.Heatmap(z=dAIS_fire_matrix,x=inh_range*1e3,y=exc_range*1e3))\n",
        "fig.update_xaxes(title_text=\"Inhibitory weight (nS)\")\n",
        "fig.update_yaxes(title_text=\"Excitatory weight (nS)\")\n",
        "fig.update_traces(zmax=25,zmin=-45,colorbar_title_text='peak soma voltage (mV)',colorbar_title_side='right',selector=dict(type='heatmap'))\n",
        "fig.show()"
      ],
      "metadata": {
        "id": "Vzzb5aq6HY4r",
        "outputId": "9d7752c8-d2af-4c2a-a06d-1fed92241ccd",
        "colab": {
          "base_uri": "https://localhost:8080/",
          "height": 542
        }
      },
      "execution_count": null,
      "outputs": [
        {
          "output_type": "display_data",
          "data": {
            "text/html": [
              "<html>\n",
              "<head><meta charset=\"utf-8\" /></head>\n",
              "<body>\n",
              "    <div>            <script src=\"https://cdnjs.cloudflare.com/ajax/libs/mathjax/2.7.5/MathJax.js?config=TeX-AMS-MML_SVG\"></script><script type=\"text/javascript\">if (window.MathJax && window.MathJax.Hub && window.MathJax.Hub.Config) {window.MathJax.Hub.Config({SVG: {font: \"STIX-Web\"}});}</script>                <script type=\"text/javascript\">window.PlotlyConfig = {MathJaxConfig: 'local'};</script>\n",
              "        <script charset=\"utf-8\" src=\"https://cdn.plot.ly/plotly-2.24.1.min.js\"></script>                <div id=\"35abc709-9c98-4155-9bb8-94c7a9a8283b\" class=\"plotly-graph-div\" style=\"height:525px; width:100%;\"></div>            <script type=\"text/javascript\">                                    window.PLOTLYENV=window.PLOTLYENV || {};                                    if (document.getElementById(\"35abc709-9c98-4155-9bb8-94c7a9a8283b\")) {                    Plotly.newPlot(                        \"35abc709-9c98-4155-9bb8-94c7a9a8283b\",                        [{\"x\":[0.0,5.0,10.0,15.0,20.0,25.0,30.0,35.0,40.0,45.0,50.0,55.0,60.0,65.0,70.0,75.0,80.0],\"y\":[0.0,5.0,10.0,15.0,20.0,25.0,30.0,35.0,40.0,45.0,50.0,55.0,60.0,65.0,70.0,75.0,80.0,85.0,90.0,95.0,100.0,105.0,110.0,115.0,120.0],\"z\":[[null,null,null,null,null,null,null,null,null,null,null,null,null,null,null,null,null],[null,null,null,null,null,null,null,null,null,null,null,null,null,null,null,null,null],[19.4632680101911,null,null,null,null,null,null,null,null,null,null,null,null,null,null,null,null],[21.06689667878158,19.133626510502907,16.048761523655244,null,null,null,null,null,null,null,null,null,null,null,null,null,null],[21.844772700163734,20.470481742383214,18.786016142541005,17.037844230035763,14.464392486189407,null,null,null,null,null,null,null,null,null,null,null,null],[22.079499649668126,20.76476880720562,19.527098884845877,18.079946580069254,16.50562669059359,14.713800450053222,12.464185423024807,9.279692010098143,null,null,null,null,null,null,null,null,null],[22.199254556977685,21.010001786404043,19.688001753427194,18.38321794718587,16.938856346847075,15.485721856000323,13.742246170872239,11.766292540240697,9.141474476242076,3.494513481200503,null,null,null,null,null,null,null],[22.226795700400913,21.08069132720693,19.890749384086515,18.640923437803654,17.25368058031575,15.83286609224895,14.3293233054568,12.588673650160755,10.54316201667478,7.813408754754315,2.170334821790775,null,null,null,null,null,null],[22.17635846896785,21.09055840502053,19.979371255988365,18.776456758807097,17.514459650233157,16.09702859816654,14.717890706064177,13.100062347407308,11.32186147951519,9.140681868741314,5.994235927852027,-1.7403873525829996,null,null,null,null,null],[22.217999424032346,21.07527522265983,20.02566167082404,18.86843535109805,17.630312317964705,16.355857630838194,14.959744341453192,13.482375678413538,11.799332402299244,9.860862173637585,7.36648162063973,3.1767436856054596,-9.978176264683636,null,null,null,null],[22.20607440509532,21.064036178668154,20.083014975013093,18.857118242834325,17.72811811987467,16.496423790210958,15.136199829420322,13.722725859570655,12.108097093591104,10.366164050023778,8.171482661952107,5.110603100680076,-1.6409685878723161,-31.151044848785748,null,null,null],[22.14127466719478,21.177935903616806,20.09373631790561,18.965754831371626,17.806963086180197,16.62642353147745,15.334163425896646,13.917228138550062,12.426785453895015,10.732734961381823,8.67919386845797,6.123702740997694,1.641187845085406,-12.215679169547176,-35.443893025967974,null,null],[22.16129177982878,21.078615500469578,20.12547237627243,19.040070488325522,17.878115560593027,16.667775577432344,15.445454688965382,14.083115420794138,12.608404065176597,10.974414818062415,9.132029898985893,6.824620996008994,3.3112697036644487,-4.801023435196091,-31.71622592051618,null,null],[22.181215202171224,21.136751779861633,20.091205797280843,19.093203739380364,17.918425931866583,16.80553599588707,15.531252713342091,14.204256478944586,12.826039511578758,11.21077772101955,9.432229885182105,7.335861323161681,4.362600431369749,-1.5687048349046415,-27.46822669105194,-35.669800827348055,null],[22.157160778043952,21.13297330494655,20.102857386326942,19.11949262814527,18.00646100070487,16.845950477308993,15.596420152312245,14.349128356323103,12.94522821311357,11.443103800692228,9.6876273469997,7.735722023923057,5.0676921631747165,0.46533522445137226,-12.301891523932113,-33.41840423709595,null],[22.070433191893216,21.117360527745042,20.16044598174657,19.157464215816606,18.04572537930561,16.89807445053704,15.706060366405264,14.473668264650883,13.116991962488237,11.603404722130463,9.984225010303604,8.053688068716346,5.611757693924453,1.766084091110932,-7.101006753376054,-31.432703181821488,-36.980553970446],[22.16453623686782,21.203615462846816,20.21878532136584,19.181712521798623,18.03809895332407,16.973464733637883,15.765231742975285,14.564619611751462,13.230089109566162,11.781388620077475,10.121607989284005,8.261087744018301,6.026775836964919,2.6747610329724436,-4.464083556271016,-29.15473195606198,-35.206450683486814],[22.174528091906232,21.212535090717946,20.206784753741527,19.134072617380056,18.091580629246376,17.036170445999847,15.770937966246247,14.637650143044668,13.33218046061044,11.913263628359905,10.288034034240319,8.540660363021667,6.3337878311160605,3.350738055488161,-2.5370099516020055,-26.004375912909204,-33.90854806519263],[22.09850424007435,21.1434129566538,20.182693093813622,19.205357007195133,18.177248584136706,17.03746838079788,15.901905005215779,14.669099467743811,13.418462566048646,12.023811705109674,10.443632176627254,8.75130093991391,6.6516588985305765,3.8589410119185534,-1.1314589280888026,-15.378309346641865,-32.740602476590915],[22.173735654639056,21.22998550097595,20.253524135767673,19.23155018256109,18.13538597387937,17.072179124239486,15.97593044387059,14.723316238018738,13.456684045078738,12.101361377751184,10.54655747194546,8.92456228465515,6.919284518670443,4.295739107185683,-0.05970024212759446,-10.346980666672795,-31.57775666540682],[22.1097123546931,21.153270522655955,20.191399974432304,19.221064344888447,18.22023210050025,17.147127368204394,15.924205752478324,14.83592189051735,13.528445895279713,12.13697414063915,10.694292360409806,9.074991133315292,7.136606456855064,4.608165736689278,0.7482137717670875,-7.854093841481521,-30.338605383950195],[22.14177676608311,21.223051151475172,20.263388490902205,19.259383924893427,18.19241865200876,17.11292123777982,16.06193650647239,14.818808598206202,13.638909873991283,12.292899760213842,10.839337995081797,9.189946629985515,7.3223816649334355,4.881799544808889,1.3932708899462902,-6.1236874823832474,-28.946422287915503],[22.156876743621908,21.213911507516734,20.25353570810813,19.276501297826,18.271381842400178,17.205039818026194,16.017994467993084,14.92996035326732,13.612616226867436,12.354272171615314,10.916950507801683,9.26939988243404,7.476163251736551,5.144729280806236,1.8803266440564146,-4.71387099337323,-27.266177939224406],[22.04667743077953,21.149790676604315,20.218172712475226,19.22946221528014,18.18781475191579,17.199532598081618,16.136411653543394,14.912893763301962,13.752681130204612,12.40792993783787,10.978296957470869,9.445258962376354,7.570561977522702,5.399895360070945,2.2947516050509424,-3.5827901535607594,-25.15610499465328],[22.140705153513,21.238706006759475,20.296474358555244,19.32026085475804,18.303193925228253,17.221654150289268,16.09318970840075,15.018089139554796,13.71251321296123,12.496011824939663,11.100694369925487,9.52914716830205,7.7675869735805225,5.634857414500976,2.6667899980546736,-2.631262463869781,-18.60157419914506]],\"type\":\"heatmap\",\"colorbar\":{\"title\":{\"side\":\"right\",\"text\":\"peak soma voltage (mV)\"}},\"zmax\":25,\"zmin\":-45}],                        {\"template\":{\"data\":{\"histogram2dcontour\":[{\"type\":\"histogram2dcontour\",\"colorbar\":{\"outlinewidth\":0,\"ticks\":\"\"},\"colorscale\":[[0.0,\"#0d0887\"],[0.1111111111111111,\"#46039f\"],[0.2222222222222222,\"#7201a8\"],[0.3333333333333333,\"#9c179e\"],[0.4444444444444444,\"#bd3786\"],[0.5555555555555556,\"#d8576b\"],[0.6666666666666666,\"#ed7953\"],[0.7777777777777778,\"#fb9f3a\"],[0.8888888888888888,\"#fdca26\"],[1.0,\"#f0f921\"]]}],\"choropleth\":[{\"type\":\"choropleth\",\"colorbar\":{\"outlinewidth\":0,\"ticks\":\"\"}}],\"histogram2d\":[{\"type\":\"histogram2d\",\"colorbar\":{\"outlinewidth\":0,\"ticks\":\"\"},\"colorscale\":[[0.0,\"#0d0887\"],[0.1111111111111111,\"#46039f\"],[0.2222222222222222,\"#7201a8\"],[0.3333333333333333,\"#9c179e\"],[0.4444444444444444,\"#bd3786\"],[0.5555555555555556,\"#d8576b\"],[0.6666666666666666,\"#ed7953\"],[0.7777777777777778,\"#fb9f3a\"],[0.8888888888888888,\"#fdca26\"],[1.0,\"#f0f921\"]]}],\"heatmap\":[{\"type\":\"heatmap\",\"colorbar\":{\"outlinewidth\":0,\"ticks\":\"\"},\"colorscale\":[[0.0,\"#0d0887\"],[0.1111111111111111,\"#46039f\"],[0.2222222222222222,\"#7201a8\"],[0.3333333333333333,\"#9c179e\"],[0.4444444444444444,\"#bd3786\"],[0.5555555555555556,\"#d8576b\"],[0.6666666666666666,\"#ed7953\"],[0.7777777777777778,\"#fb9f3a\"],[0.8888888888888888,\"#fdca26\"],[1.0,\"#f0f921\"]]}],\"heatmapgl\":[{\"type\":\"heatmapgl\",\"colorbar\":{\"outlinewidth\":0,\"ticks\":\"\"},\"colorscale\":[[0.0,\"#0d0887\"],[0.1111111111111111,\"#46039f\"],[0.2222222222222222,\"#7201a8\"],[0.3333333333333333,\"#9c179e\"],[0.4444444444444444,\"#bd3786\"],[0.5555555555555556,\"#d8576b\"],[0.6666666666666666,\"#ed7953\"],[0.7777777777777778,\"#fb9f3a\"],[0.8888888888888888,\"#fdca26\"],[1.0,\"#f0f921\"]]}],\"contourcarpet\":[{\"type\":\"contourcarpet\",\"colorbar\":{\"outlinewidth\":0,\"ticks\":\"\"}}],\"contour\":[{\"type\":\"contour\",\"colorbar\":{\"outlinewidth\":0,\"ticks\":\"\"},\"colorscale\":[[0.0,\"#0d0887\"],[0.1111111111111111,\"#46039f\"],[0.2222222222222222,\"#7201a8\"],[0.3333333333333333,\"#9c179e\"],[0.4444444444444444,\"#bd3786\"],[0.5555555555555556,\"#d8576b\"],[0.6666666666666666,\"#ed7953\"],[0.7777777777777778,\"#fb9f3a\"],[0.8888888888888888,\"#fdca26\"],[1.0,\"#f0f921\"]]}],\"surface\":[{\"type\":\"surface\",\"colorbar\":{\"outlinewidth\":0,\"ticks\":\"\"},\"colorscale\":[[0.0,\"#0d0887\"],[0.1111111111111111,\"#46039f\"],[0.2222222222222222,\"#7201a8\"],[0.3333333333333333,\"#9c179e\"],[0.4444444444444444,\"#bd3786\"],[0.5555555555555556,\"#d8576b\"],[0.6666666666666666,\"#ed7953\"],[0.7777777777777778,\"#fb9f3a\"],[0.8888888888888888,\"#fdca26\"],[1.0,\"#f0f921\"]]}],\"mesh3d\":[{\"type\":\"mesh3d\",\"colorbar\":{\"outlinewidth\":0,\"ticks\":\"\"}}],\"scatter\":[{\"fillpattern\":{\"fillmode\":\"overlay\",\"size\":10,\"solidity\":0.2},\"type\":\"scatter\"}],\"parcoords\":[{\"type\":\"parcoords\",\"line\":{\"colorbar\":{\"outlinewidth\":0,\"ticks\":\"\"}}}],\"scatterpolargl\":[{\"type\":\"scatterpolargl\",\"marker\":{\"colorbar\":{\"outlinewidth\":0,\"ticks\":\"\"}}}],\"bar\":[{\"error_x\":{\"color\":\"#2a3f5f\"},\"error_y\":{\"color\":\"#2a3f5f\"},\"marker\":{\"line\":{\"color\":\"#E5ECF6\",\"width\":0.5},\"pattern\":{\"fillmode\":\"overlay\",\"size\":10,\"solidity\":0.2}},\"type\":\"bar\"}],\"scattergeo\":[{\"type\":\"scattergeo\",\"marker\":{\"colorbar\":{\"outlinewidth\":0,\"ticks\":\"\"}}}],\"scatterpolar\":[{\"type\":\"scatterpolar\",\"marker\":{\"colorbar\":{\"outlinewidth\":0,\"ticks\":\"\"}}}],\"histogram\":[{\"marker\":{\"pattern\":{\"fillmode\":\"overlay\",\"size\":10,\"solidity\":0.2}},\"type\":\"histogram\"}],\"scattergl\":[{\"type\":\"scattergl\",\"marker\":{\"colorbar\":{\"outlinewidth\":0,\"ticks\":\"\"}}}],\"scatter3d\":[{\"type\":\"scatter3d\",\"line\":{\"colorbar\":{\"outlinewidth\":0,\"ticks\":\"\"}},\"marker\":{\"colorbar\":{\"outlinewidth\":0,\"ticks\":\"\"}}}],\"scattermapbox\":[{\"type\":\"scattermapbox\",\"marker\":{\"colorbar\":{\"outlinewidth\":0,\"ticks\":\"\"}}}],\"scatterternary\":[{\"type\":\"scatterternary\",\"marker\":{\"colorbar\":{\"outlinewidth\":0,\"ticks\":\"\"}}}],\"scattercarpet\":[{\"type\":\"scattercarpet\",\"marker\":{\"colorbar\":{\"outlinewidth\":0,\"ticks\":\"\"}}}],\"carpet\":[{\"aaxis\":{\"endlinecolor\":\"#2a3f5f\",\"gridcolor\":\"white\",\"linecolor\":\"white\",\"minorgridcolor\":\"white\",\"startlinecolor\":\"#2a3f5f\"},\"baxis\":{\"endlinecolor\":\"#2a3f5f\",\"gridcolor\":\"white\",\"linecolor\":\"white\",\"minorgridcolor\":\"white\",\"startlinecolor\":\"#2a3f5f\"},\"type\":\"carpet\"}],\"table\":[{\"cells\":{\"fill\":{\"color\":\"#EBF0F8\"},\"line\":{\"color\":\"white\"}},\"header\":{\"fill\":{\"color\":\"#C8D4E3\"},\"line\":{\"color\":\"white\"}},\"type\":\"table\"}],\"barpolar\":[{\"marker\":{\"line\":{\"color\":\"#E5ECF6\",\"width\":0.5},\"pattern\":{\"fillmode\":\"overlay\",\"size\":10,\"solidity\":0.2}},\"type\":\"barpolar\"}],\"pie\":[{\"automargin\":true,\"type\":\"pie\"}]},\"layout\":{\"autotypenumbers\":\"strict\",\"colorway\":[\"#636efa\",\"#EF553B\",\"#00cc96\",\"#ab63fa\",\"#FFA15A\",\"#19d3f3\",\"#FF6692\",\"#B6E880\",\"#FF97FF\",\"#FECB52\"],\"font\":{\"color\":\"#2a3f5f\"},\"hovermode\":\"closest\",\"hoverlabel\":{\"align\":\"left\"},\"paper_bgcolor\":\"white\",\"plot_bgcolor\":\"#E5ECF6\",\"polar\":{\"bgcolor\":\"#E5ECF6\",\"angularaxis\":{\"gridcolor\":\"white\",\"linecolor\":\"white\",\"ticks\":\"\"},\"radialaxis\":{\"gridcolor\":\"white\",\"linecolor\":\"white\",\"ticks\":\"\"}},\"ternary\":{\"bgcolor\":\"#E5ECF6\",\"aaxis\":{\"gridcolor\":\"white\",\"linecolor\":\"white\",\"ticks\":\"\"},\"baxis\":{\"gridcolor\":\"white\",\"linecolor\":\"white\",\"ticks\":\"\"},\"caxis\":{\"gridcolor\":\"white\",\"linecolor\":\"white\",\"ticks\":\"\"}},\"coloraxis\":{\"colorbar\":{\"outlinewidth\":0,\"ticks\":\"\"}},\"colorscale\":{\"sequential\":[[0.0,\"#0d0887\"],[0.1111111111111111,\"#46039f\"],[0.2222222222222222,\"#7201a8\"],[0.3333333333333333,\"#9c179e\"],[0.4444444444444444,\"#bd3786\"],[0.5555555555555556,\"#d8576b\"],[0.6666666666666666,\"#ed7953\"],[0.7777777777777778,\"#fb9f3a\"],[0.8888888888888888,\"#fdca26\"],[1.0,\"#f0f921\"]],\"sequentialminus\":[[0.0,\"#0d0887\"],[0.1111111111111111,\"#46039f\"],[0.2222222222222222,\"#7201a8\"],[0.3333333333333333,\"#9c179e\"],[0.4444444444444444,\"#bd3786\"],[0.5555555555555556,\"#d8576b\"],[0.6666666666666666,\"#ed7953\"],[0.7777777777777778,\"#fb9f3a\"],[0.8888888888888888,\"#fdca26\"],[1.0,\"#f0f921\"]],\"diverging\":[[0,\"#8e0152\"],[0.1,\"#c51b7d\"],[0.2,\"#de77ae\"],[0.3,\"#f1b6da\"],[0.4,\"#fde0ef\"],[0.5,\"#f7f7f7\"],[0.6,\"#e6f5d0\"],[0.7,\"#b8e186\"],[0.8,\"#7fbc41\"],[0.9,\"#4d9221\"],[1,\"#276419\"]]},\"xaxis\":{\"gridcolor\":\"white\",\"linecolor\":\"white\",\"ticks\":\"\",\"title\":{\"standoff\":15},\"zerolinecolor\":\"white\",\"automargin\":true,\"zerolinewidth\":2},\"yaxis\":{\"gridcolor\":\"white\",\"linecolor\":\"white\",\"ticks\":\"\",\"title\":{\"standoff\":15},\"zerolinecolor\":\"white\",\"automargin\":true,\"zerolinewidth\":2},\"scene\":{\"xaxis\":{\"backgroundcolor\":\"#E5ECF6\",\"gridcolor\":\"white\",\"linecolor\":\"white\",\"showbackground\":true,\"ticks\":\"\",\"zerolinecolor\":\"white\",\"gridwidth\":2},\"yaxis\":{\"backgroundcolor\":\"#E5ECF6\",\"gridcolor\":\"white\",\"linecolor\":\"white\",\"showbackground\":true,\"ticks\":\"\",\"zerolinecolor\":\"white\",\"gridwidth\":2},\"zaxis\":{\"backgroundcolor\":\"#E5ECF6\",\"gridcolor\":\"white\",\"linecolor\":\"white\",\"showbackground\":true,\"ticks\":\"\",\"zerolinecolor\":\"white\",\"gridwidth\":2}},\"shapedefaults\":{\"line\":{\"color\":\"#2a3f5f\"}},\"annotationdefaults\":{\"arrowcolor\":\"#2a3f5f\",\"arrowhead\":0,\"arrowwidth\":1},\"geo\":{\"bgcolor\":\"white\",\"landcolor\":\"#E5ECF6\",\"subunitcolor\":\"white\",\"showland\":true,\"showlakes\":true,\"lakecolor\":\"white\"},\"title\":{\"x\":0.05},\"mapbox\":{\"style\":\"light\"}}},\"xaxis\":{\"title\":{\"text\":\"Inhibitory weight (nS)\"}},\"yaxis\":{\"title\":{\"text\":\"Excitatory weight (nS)\"}}},                        {\"responsive\": true}                    ).then(function(){\n",
              "                            \n",
              "var gd = document.getElementById('35abc709-9c98-4155-9bb8-94c7a9a8283b');\n",
              "var x = new MutationObserver(function (mutations, observer) {{\n",
              "        var display = window.getComputedStyle(gd).display;\n",
              "        if (!display || display === 'none') {{\n",
              "            console.log([gd, 'removed!']);\n",
              "            Plotly.purge(gd);\n",
              "            observer.disconnect();\n",
              "        }}\n",
              "}});\n",
              "\n",
              "// Listen for the removal of the full notebook cells\n",
              "var notebookContainer = gd.closest('#notebook-container');\n",
              "if (notebookContainer) {{\n",
              "    x.observe(notebookContainer, {childList: true});\n",
              "}}\n",
              "\n",
              "// Listen for the clearing of the current output cell\n",
              "var outputEl = gd.closest('.output');\n",
              "if (outputEl) {{\n",
              "    x.observe(outputEl, {childList: true});\n",
              "}}\n",
              "\n",
              "                        })                };                            </script>        </div>\n",
              "</body>\n",
              "</html>"
            ]
          },
          "metadata": {}
        }
      ]
    },
    {
      "cell_type": "markdown",
      "source": [
        "# Somatic AIS model"
      ],
      "metadata": {
        "id": "OKwRhVT4hJym"
      }
    },
    {
      "cell_type": "markdown",
      "metadata": {
        "id": "KMmXe78whN0u"
      },
      "source": [
        "Create the Ball and Stick neuron model"
      ]
    },
    {
      "cell_type": "code",
      "execution_count": null,
      "metadata": {
        "outputId": "f9757669-8d75-4481-b3e5-b55ffd04376d",
        "colab": {
          "base_uri": "https://localhost:8080/"
        },
        "id": "KfxCn86QhRcc"
      },
      "outputs": [
        {
          "output_type": "stream",
          "name": "stdout",
          "text": [
            "\n",
            "|-----|       BallAndStick[0].soma(0-1)\n",
            "       `--------------------------------------------------------------------------------------------------------------------------------------------------------------------------------------------------------|       BallAndStick[0].dend[0](0-1)\n",
            "             `--------------------|       BallAndStick[0].ais_prox(0-1)\n",
            "                                   `--------------------|       BallAndStick[0].ais_dist(0-1)\n",
            "                                                         `------------------------|       BallAndStick[0].axon(0-1)\n",
            "       `----------|       BallAndStick[0].dend[1](0-1)\n",
            "    `--------------------|       BallAndStick[0].apic[0](0-1)\n",
            "                          `----|       BallAndStick[0].apic[1](0-1)\n",
            "                          `----|       BallAndStick[0].apic[2](0-1)\n",
            "|-----|       BallAndStick[0].soma(0-1)\n",
            "       `--------------------------------------------------------------------------------------------------------------------------------------------------------------------------------------------------------|       BallAndStick[0].dend[0](0-1)\n",
            "       `----------|       BallAndStick[0].dend[1](0-1)\n",
            "       `--------------------|       BallAndStick[0].ais_prox(0-1)\n",
            "                             `--------------------|       BallAndStick[0].ais_dist(0-1)\n",
            "                                                   `------------------------|       BallAndStick[0].axon(0-1)\n",
            "    `--------------------|       BallAndStick[0].apic[0](0-1)\n",
            "                          `----|       BallAndStick[0].apic[1](0-1)\n",
            "                          `----|       BallAndStick[0].apic[2](0-1)\n",
            "\n"
          ]
        }
      ],
      "source": [
        "from ballandstick import BallAndStick\n",
        "\n",
        "ais_mode = 'soma' # set to either 'soma' or 'dend'\n",
        "ais_loc = 0 # if ais_mode is 'dend', sets how far along the basal dendrite to attach the AIS\n",
        "               # benchmark values from Hodapp et al. 2022, ranging 0 to 1 (along 200 µm basal dendrite)\n",
        "               # mean axonal distance: 0.028 (5.7 µm)\n",
        "               # 95th percentile:      0.06   (12 µm)\n",
        "cell_sAIS = BallAndStick(0,ais_mode,ais_loc)\n",
        "\n",
        "h.topology()\n",
        "# Time vector\n",
        "t_vec = h.Vector().record(h._ref_t)\n",
        "# Simulation parameter settings\n",
        "h.celsius = 37 # degC\n",
        "h.steps_per_ms = 1/0.025\n",
        "h.dt = 0.025 # ms\n",
        "h.tstop = 20 # ms\n",
        "h.v_init = -69 # mV\n",
        "\n",
        "# Stimulation\n",
        "iclamp = h.IClamp(cell_sAIS.soma(0.5))\n",
        "iclamp.delay = 5 # ms\n",
        "iclamp.dur = 5 # ms\n",
        "iclamp.amp = 1 # ms\n",
        "iclamp_i = h.Vector().record(iclamp._ref_i)"
      ]
    },
    {
      "cell_type": "markdown",
      "metadata": {
        "id": "6mYCHr1KhcfL"
      },
      "source": [
        "Add excitatory synapse to basal dendritic branch with AIS (`dend[0]`), distal to AIS. Add inhibitory synapse to soma."
      ]
    },
    {
      "cell_type": "code",
      "execution_count": null,
      "metadata": {
        "id": "ahCDnA1qhfED"
      },
      "outputs": [],
      "source": [
        "# Add excitatory synapse to basal dendrite\n",
        "exc_syn_loc = 0.438 # 0 to 1, sets how far along basal dendrite excitatory synapse is added\n",
        "                    # 0.438 = 87.6 µm along 200 µm basal dendrite (average stim\n",
        "                    # location used in Hodapp et al. 2022 simulations)\n",
        "exc_syn = h.Exp2Syn(cell_sAIS.dend[0](exc_syn_loc))\n",
        "exc_syn.tau1 = 0.175 # ms - rise time (taken from Hodapp 2022 supp materials)\n",
        "exc_syn.tau2 = 5 # ms - decay time\n",
        "exc_syn.e = 0 # mV - eversal potential\n",
        "\n",
        "# Add inhibitory synapse to soma\n",
        "inh_syn = h.Exp2Syn(cell_sAIS.soma(0.5))\n",
        "inh_syn.tau1 = 1.6 # ms\n",
        "inh_syn.tau2 = 11 # ms\n",
        "inh_syn.e = -75 # mV\n",
        "\n",
        "# synaptic current recordings\n",
        "exc_syn_i = h.Vector().record(exc_syn._ref_i)\n",
        "exc_syn_g = h.Vector().record(exc_syn._ref_g)\n",
        "inh_syn_i = h.Vector().record(inh_syn._ref_i)\n",
        "inh_syn_g = h.Vector().record(inh_syn._ref_g)"
      ]
    },
    {
      "cell_type": "markdown",
      "metadata": {
        "id": "C0RKIGtjhkFv"
      },
      "source": [
        "Make `NetStim`s to drive synapses and `NetCons` to connect `NetStim`s to the synapses.  "
      ]
    },
    {
      "cell_type": "code",
      "execution_count": null,
      "metadata": {
        "id": "YAdEQDufhmE1"
      },
      "outputs": [],
      "source": [
        "# NetStim to simulate excitatory presynaptic spikes\n",
        "estim = h.NetStim()\n",
        "estim.number = 1\n",
        "estim.interval = 10 # ms - interval between spikes\n",
        "estim.start = 5 # ms\n",
        "estim.noise = 0\n",
        "\n",
        "# NetCon to connect excitatory presynaptic spikes to excitatory postsynaptic conductance\n",
        "nc_estim = h.NetCon(estim,exc_syn)\n",
        "nc_estim.delay = 1 # ms - synaptic delay\n",
        "nc_estim.weight[0] = 1 # µS - peak conductance\n",
        "\n",
        "# NetStim to simulate inhibitory presynaptic spikes\n",
        "istim = h.NetStim()\n",
        "istim.number = 1\n",
        "istim.interval = 10 # ms - interval between spikes\n",
        "istim.start = 5 # ms\n",
        "istim.noise = 0\n",
        "\n",
        "# NetCon to connect inhibitory presynaptic spikes to excitatory postsynaptic conductance\n",
        "nc_istim = h.NetCon(istim,inh_syn)\n",
        "nc_istim.delay = 1 # ms - synaptic delay\n",
        "nc_istim.weight[0] = 1 # µS - peak conductance"
      ]
    },
    {
      "cell_type": "markdown",
      "metadata": {
        "id": "pFaAax4siIqh"
      },
      "source": [
        "**Opt. 1** Define helper function to detect if the cell fired an AP. If it did, also determine at what voltage threshold this occurred.\n",
        "\n",
        "**Opt. 2** Define helper function to detect if the cell fired an AP, checking if it happened in the soma & AIS (1.0) vs. AIS only (0.5) vs. neither (0)."
      ]
    },
    {
      "cell_type": "code",
      "execution_count": null,
      "metadata": {
        "id": "bK9fb0hoiLDO"
      },
      "outputs": [],
      "source": [
        "# def what_v_fire(v_vec,t_vec,dt=h.dt,threshold=30):\n",
        "    # v_vec = vector of AIS voltage, used to determine if an AP fired\n",
        "    # t_vec = time vector\n",
        "    # dt = size of time step (ms)\n",
        "    # threshold = rate of change of Vm for AP (10 mV/ms taken from Hodapp et al. 2022)\n",
        "    # returns 1 if Vm gets over threshold mV\n",
        "#    for i in np.arange(1,len(v_vec)):\n",
        "#        if (v_vec[i] - v_vec[i-1])/dt > threshold:\n",
        "#            return v_vec[i],t_vec[i]\n",
        "#    return False,0"
      ]
    },
    {
      "cell_type": "code",
      "source": [
        "def what_v_fire(v_vec_AIS,v_vec_soma,t_vec,threshold=0):\n",
        "    # returns 1 if Vm in AIS & soma exceeds threshold; 0.5 if only AIS exceeds; 0 if neither exceed\n",
        "    # v_vec_AIS = vector of AIS voltage\n",
        "    # v_vec_soma = vector of soma voltage\n",
        "    # t_vec = time vector\n",
        "    # dt = size of time step (ms)\n",
        "    # threshold = mV\n",
        "    # for i in np.arange(1,len(t_vec)):\n",
        "    #    if v_vec_AIS[i] > threshold:\n",
        "    #        if v_vec_soma[i] > threshold:\n",
        "    #            return 1\n",
        "    #        else:\n",
        "    #            return 0.5\n",
        "    # return 0\n",
        "    for i in np.arange(0,len(t_vec)):\n",
        "        if v_vec_AIS[i] > threshold:\n",
        "            return v_vec_soma.max()\n",
        "    return False"
      ],
      "metadata": {
        "id": "xVyrpQo-i5oF"
      },
      "execution_count": null,
      "outputs": []
    },
    {
      "cell_type": "markdown",
      "source": [
        "Simulate a range of excitatory and inhibitory weights from Hodapp et al. 2022."
      ],
      "metadata": {
        "id": "feeHdWeIiQX3"
      }
    },
    {
      "cell_type": "code",
      "source": [
        "exc_range = np.linspace(0,0.12,25) #13\n",
        "inh_range = np.linspace(0,0.08,17) #9\n",
        "iclamp.amp=0\n",
        "\n",
        "sAIS_fire_matrix = np.zeros((len(exc_range),len(inh_range)))\n",
        "\n",
        "for e in np.arange(0,len(exc_range)):\n",
        "    for i in np.arange(0,len(inh_range)):\n",
        "        nc_estim.weight[0] = exc_range[e]\n",
        "        nc_istim.weight[0] = inh_range[i]\n",
        "        h.run()\n",
        "        ifAP_soma_v_max = what_v_fire(cell_sAIS.ais_v,cell_sAIS.soma_v,t_vec,threshold=0)\n",
        "        if ifAP_soma_v_max:\n",
        "            sAIS_fire_matrix[e,i] = ifAP_soma_v_max\n",
        "        else:\n",
        "            sAIS_fire_matrix[e,i] = np.nan\n"
      ],
      "metadata": {
        "id": "QFuMjMYLiSdv"
      },
      "execution_count": null,
      "outputs": []
    },
    {
      "cell_type": "markdown",
      "source": [
        "Plot on heatmap."
      ],
      "metadata": {
        "id": "pWcL43r8iVr3"
      }
    },
    {
      "cell_type": "code",
      "source": [
        "import plotly.graph_objects as go\n",
        "\n",
        "fig = go.Figure(data=go.Heatmap(z=sAIS_fire_matrix,x=inh_range*1e3,y=exc_range*1e3))\n",
        "fig.update_xaxes(title_text=\"Inhibitory weight (nS)\")\n",
        "fig.update_yaxes(title_text=\"Excitatory weight (nS)\")\n",
        "fig.update_traces(zmax=25,zmin=-45,colorbar_title_text='peak soma voltage (mV)',colorbar_title_side='right',selector=dict(type='heatmap'))\n",
        "fig.show()"
      ],
      "metadata": {
        "outputId": "af5f0cbc-b76b-4be9-d400-b3947a6868af",
        "colab": {
          "base_uri": "https://localhost:8080/",
          "height": 542
        },
        "id": "Ddk1Ay2qiVHC"
      },
      "execution_count": null,
      "outputs": [
        {
          "output_type": "display_data",
          "data": {
            "text/html": [
              "<html>\n",
              "<head><meta charset=\"utf-8\" /></head>\n",
              "<body>\n",
              "    <div>            <script src=\"https://cdnjs.cloudflare.com/ajax/libs/mathjax/2.7.5/MathJax.js?config=TeX-AMS-MML_SVG\"></script><script type=\"text/javascript\">if (window.MathJax && window.MathJax.Hub && window.MathJax.Hub.Config) {window.MathJax.Hub.Config({SVG: {font: \"STIX-Web\"}});}</script>                <script type=\"text/javascript\">window.PlotlyConfig = {MathJaxConfig: 'local'};</script>\n",
              "        <script charset=\"utf-8\" src=\"https://cdn.plot.ly/plotly-2.24.1.min.js\"></script>                <div id=\"b21a5e90-2ad8-4896-bb77-f85bae765d94\" class=\"plotly-graph-div\" style=\"height:525px; width:100%;\"></div>            <script type=\"text/javascript\">                                    window.PLOTLYENV=window.PLOTLYENV || {};                                    if (document.getElementById(\"b21a5e90-2ad8-4896-bb77-f85bae765d94\")) {                    Plotly.newPlot(                        \"b21a5e90-2ad8-4896-bb77-f85bae765d94\",                        [{\"x\":[0.0,5.0,10.0,15.0,20.0,25.0,30.0,35.0,40.0,45.0,50.0,55.0,60.0,65.0,70.0,75.0,80.0],\"y\":[0.0,5.0,10.0,15.0,20.0,25.0,30.0,35.0,40.0,45.0,50.0,55.0,60.0,65.0,70.0,75.0,80.0,85.0,90.0,95.0,100.0,105.0,110.0,115.0,120.0],\"z\":[[null,null,null,null,null,null,null,null,null,null,null,null,null,null,null,null,null],[null,null,null,null,null,null,null,null,null,null,null,null,null,null,null,null,null],[18.92494939734086,null,null,null,null,null,null,null,null,null,null,null,null,null,null,null,null],[20.976053208254136,18.72952913744946,14.039601112189736,null,null,null,null,null,null,null,null,null,null,null,null,null,null],[22.06750972029586,20.51205840958208,18.932306577081008,16.828949919323588,13.305723154012853,null,null,null,null,null,null,null,null,null,null,null,null],[22.318407702845874,21.014400228009517,19.59913236361086,18.098959147031753,16.317587627570713,14.29952510605279,11.349161436410887,null,null,null,null,null,null,null,null,null,null],[22.386819023778934,21.18729643600372,19.87748255625788,18.523850365723117,17.005622523309643,15.299834344078755,13.26857294633547,10.565199769431484,null,null,null,null,null,null,null,null,null],[22.33934650472005,21.1852489634281,20.0515601160473,18.697720081152568,17.326069933304673,15.735358362853036,13.970054705324866,11.940315323323833,9.013337664905313,null,null,null,null,null,null,null,null],[22.444726965540287,21.32130255093389,20.14327159039892,18.821518591206814,17.55016218528523,16.06776731116459,14.47724100506915,12.620605363040749,10.264744700906181,6.5351729467329935,null,null,null,null,null,null,null],[22.341850320129073,21.31853206951922,20.195895499050614,18.96153274991853,17.6740889931473,16.230625357964144,14.799531026586195,13.088304926872611,11.028173105595515,8.262739057459692,null,null,null,null,null,null,null],[22.360019388388935,21.356782966016848,20.256544463027247,19.077798286575167,17.827675546419364,16.455187803950366,15.00632804480484,13.372626887795986,11.54756063400872,9.201652956249582,5.269911778182866,null,null,null,null,null,null],[22.439638519546566,21.283743507035673,20.279711345847584,19.14776849093404,17.929354032780697,16.543347901756633,15.210906278673876,13.602878382124212,11.89327962843954,9.743207431287948,6.740659546747409,null,null,null,null,null,null],[22.401431382441093,21.390346868233927,20.297887783927166,19.088693786731017,17.925093780408748,16.695713417047077,15.363493184805975,13.861694223569335,12.213389925810878,10.233832156918375,7.585669690784208,2.0648962011877927,null,null,null,null,null],[22.37154066854165,21.4160216204618,20.25285291819153,19.23064905455987,18.08069675938961,16.83129278503006,15.43878260117396,13.994234817911668,12.444605683528184,10.535689890201176,8.175719263641067,4.380465944838672,null,null,null,null,null],[22.391617812208036,21.42410747052818,20.263423820996948,19.28386646626152,18.13412786694502,16.917716199040928,15.607953874911699,14.202214183603001,12.641270553364524,10.842498057813877,8.640013739034293,5.451161698917844,null,null,null,null,null],[22.423523244692966,21.40980655236619,20.331145393871775,19.31130198691175,18.184200056652124,16.976427130624256,15.715665837345403,14.254884307381923,12.752542976468488,11.031995427195236,8.95941420964847,6.189560344220537,-1.4016969860424873,null,null,null,null],[22.39359554470608,21.317082563997396,20.407305827530337,19.297626983793037,18.236014115117428,17.04649678404226,15.797976179057974,14.374707138453589,12.923609659753,11.273817378391735,9.228416389667347,6.707490807156851,1.707219332914614,null,null,null,null],[22.341012570121347,21.43138067954791,20.423165948980753,19.310676674837076,18.253160274032307,17.110514062655916,15.870600501083514,14.46974153612745,13.072045434520565,11.377211754853692,9.541797996240492,7.126357161302671,3.0678516513434753,null,null,null,null],[22.41557181853505,21.419402878848135,20.351284416931517,19.40528120675473,18.21561831363763,17.12423683717391,15.907129969339877,14.535648777013337,13.181126222430068,11.547121693948558,9.695681793139714,7.468654033076047,3.9887604123790505,null,null,null,null],[22.315685457446,21.420028590213626,20.46238291070165,19.352262802006084,18.341162598227537,17.142886722955446,15.909593396197394,14.673002141999417,13.259449373054737,11.68356531994439,9.92903903444788,7.712681323256175,4.577635401844018,-7.239322361658877,null,null,null],[22.405941962372392,21.425731655404107,20.357703119369205,19.43995172556202,18.310065116823285,17.244406445693404,16.04406287740424,14.768377492432833,13.293061833735647,11.770549671967558,10.09903237211672,7.996261784090993,5.084182780227524,-2.2260628805780023,null,null,null],[22.366002391672406,21.451572290742508,20.483939355369863,19.388671884242882,18.391852140333892,17.17028927341998,16.051792470581116,14.767515530887907,13.447877116274936,11.913009942111977,10.239390925322487,8.184743097451266,5.445053943254959,-0.10790075927646689,null,null,null],[22.348331810670444,21.363647752144765,20.43604907462725,19.482418995188144,18.348001568099086,17.314980193618442,16.12175637636771,14.874219600330619,13.52757329238153,12.049243983770284,10.345946683206334,8.35445039293515,5.7926874606366745,1.0968717787627484,null,null,null],[22.40795467750531,21.470113311646315,20.46739198443059,19.410023357002988,18.447446745248644,17.258046944998043,16.140395286511502,14.907047984280402,13.533481114362823,12.11524936815264,10.414440955565924,8.527014792264357,6.022300741218308,1.9480537678605996,null,null,null],[22.351796935797267,21.446316347941767,20.510321948366784,19.49270492269283,18.395534199177987,17.365658549257986,16.209608380757555,14.972166259908033,13.665548326928802,12.173367981638474,10.585190724318833,8.695864980493024,6.303272948216819,2.57670324402966,-31.473705149821303,null,null]],\"type\":\"heatmap\",\"colorbar\":{\"title\":{\"side\":\"right\",\"text\":\"peak soma voltage (mV)\"}},\"zmax\":25,\"zmin\":-45}],                        {\"template\":{\"data\":{\"histogram2dcontour\":[{\"type\":\"histogram2dcontour\",\"colorbar\":{\"outlinewidth\":0,\"ticks\":\"\"},\"colorscale\":[[0.0,\"#0d0887\"],[0.1111111111111111,\"#46039f\"],[0.2222222222222222,\"#7201a8\"],[0.3333333333333333,\"#9c179e\"],[0.4444444444444444,\"#bd3786\"],[0.5555555555555556,\"#d8576b\"],[0.6666666666666666,\"#ed7953\"],[0.7777777777777778,\"#fb9f3a\"],[0.8888888888888888,\"#fdca26\"],[1.0,\"#f0f921\"]]}],\"choropleth\":[{\"type\":\"choropleth\",\"colorbar\":{\"outlinewidth\":0,\"ticks\":\"\"}}],\"histogram2d\":[{\"type\":\"histogram2d\",\"colorbar\":{\"outlinewidth\":0,\"ticks\":\"\"},\"colorscale\":[[0.0,\"#0d0887\"],[0.1111111111111111,\"#46039f\"],[0.2222222222222222,\"#7201a8\"],[0.3333333333333333,\"#9c179e\"],[0.4444444444444444,\"#bd3786\"],[0.5555555555555556,\"#d8576b\"],[0.6666666666666666,\"#ed7953\"],[0.7777777777777778,\"#fb9f3a\"],[0.8888888888888888,\"#fdca26\"],[1.0,\"#f0f921\"]]}],\"heatmap\":[{\"type\":\"heatmap\",\"colorbar\":{\"outlinewidth\":0,\"ticks\":\"\"},\"colorscale\":[[0.0,\"#0d0887\"],[0.1111111111111111,\"#46039f\"],[0.2222222222222222,\"#7201a8\"],[0.3333333333333333,\"#9c179e\"],[0.4444444444444444,\"#bd3786\"],[0.5555555555555556,\"#d8576b\"],[0.6666666666666666,\"#ed7953\"],[0.7777777777777778,\"#fb9f3a\"],[0.8888888888888888,\"#fdca26\"],[1.0,\"#f0f921\"]]}],\"heatmapgl\":[{\"type\":\"heatmapgl\",\"colorbar\":{\"outlinewidth\":0,\"ticks\":\"\"},\"colorscale\":[[0.0,\"#0d0887\"],[0.1111111111111111,\"#46039f\"],[0.2222222222222222,\"#7201a8\"],[0.3333333333333333,\"#9c179e\"],[0.4444444444444444,\"#bd3786\"],[0.5555555555555556,\"#d8576b\"],[0.6666666666666666,\"#ed7953\"],[0.7777777777777778,\"#fb9f3a\"],[0.8888888888888888,\"#fdca26\"],[1.0,\"#f0f921\"]]}],\"contourcarpet\":[{\"type\":\"contourcarpet\",\"colorbar\":{\"outlinewidth\":0,\"ticks\":\"\"}}],\"contour\":[{\"type\":\"contour\",\"colorbar\":{\"outlinewidth\":0,\"ticks\":\"\"},\"colorscale\":[[0.0,\"#0d0887\"],[0.1111111111111111,\"#46039f\"],[0.2222222222222222,\"#7201a8\"],[0.3333333333333333,\"#9c179e\"],[0.4444444444444444,\"#bd3786\"],[0.5555555555555556,\"#d8576b\"],[0.6666666666666666,\"#ed7953\"],[0.7777777777777778,\"#fb9f3a\"],[0.8888888888888888,\"#fdca26\"],[1.0,\"#f0f921\"]]}],\"surface\":[{\"type\":\"surface\",\"colorbar\":{\"outlinewidth\":0,\"ticks\":\"\"},\"colorscale\":[[0.0,\"#0d0887\"],[0.1111111111111111,\"#46039f\"],[0.2222222222222222,\"#7201a8\"],[0.3333333333333333,\"#9c179e\"],[0.4444444444444444,\"#bd3786\"],[0.5555555555555556,\"#d8576b\"],[0.6666666666666666,\"#ed7953\"],[0.7777777777777778,\"#fb9f3a\"],[0.8888888888888888,\"#fdca26\"],[1.0,\"#f0f921\"]]}],\"mesh3d\":[{\"type\":\"mesh3d\",\"colorbar\":{\"outlinewidth\":0,\"ticks\":\"\"}}],\"scatter\":[{\"fillpattern\":{\"fillmode\":\"overlay\",\"size\":10,\"solidity\":0.2},\"type\":\"scatter\"}],\"parcoords\":[{\"type\":\"parcoords\",\"line\":{\"colorbar\":{\"outlinewidth\":0,\"ticks\":\"\"}}}],\"scatterpolargl\":[{\"type\":\"scatterpolargl\",\"marker\":{\"colorbar\":{\"outlinewidth\":0,\"ticks\":\"\"}}}],\"bar\":[{\"error_x\":{\"color\":\"#2a3f5f\"},\"error_y\":{\"color\":\"#2a3f5f\"},\"marker\":{\"line\":{\"color\":\"#E5ECF6\",\"width\":0.5},\"pattern\":{\"fillmode\":\"overlay\",\"size\":10,\"solidity\":0.2}},\"type\":\"bar\"}],\"scattergeo\":[{\"type\":\"scattergeo\",\"marker\":{\"colorbar\":{\"outlinewidth\":0,\"ticks\":\"\"}}}],\"scatterpolar\":[{\"type\":\"scatterpolar\",\"marker\":{\"colorbar\":{\"outlinewidth\":0,\"ticks\":\"\"}}}],\"histogram\":[{\"marker\":{\"pattern\":{\"fillmode\":\"overlay\",\"size\":10,\"solidity\":0.2}},\"type\":\"histogram\"}],\"scattergl\":[{\"type\":\"scattergl\",\"marker\":{\"colorbar\":{\"outlinewidth\":0,\"ticks\":\"\"}}}],\"scatter3d\":[{\"type\":\"scatter3d\",\"line\":{\"colorbar\":{\"outlinewidth\":0,\"ticks\":\"\"}},\"marker\":{\"colorbar\":{\"outlinewidth\":0,\"ticks\":\"\"}}}],\"scattermapbox\":[{\"type\":\"scattermapbox\",\"marker\":{\"colorbar\":{\"outlinewidth\":0,\"ticks\":\"\"}}}],\"scatterternary\":[{\"type\":\"scatterternary\",\"marker\":{\"colorbar\":{\"outlinewidth\":0,\"ticks\":\"\"}}}],\"scattercarpet\":[{\"type\":\"scattercarpet\",\"marker\":{\"colorbar\":{\"outlinewidth\":0,\"ticks\":\"\"}}}],\"carpet\":[{\"aaxis\":{\"endlinecolor\":\"#2a3f5f\",\"gridcolor\":\"white\",\"linecolor\":\"white\",\"minorgridcolor\":\"white\",\"startlinecolor\":\"#2a3f5f\"},\"baxis\":{\"endlinecolor\":\"#2a3f5f\",\"gridcolor\":\"white\",\"linecolor\":\"white\",\"minorgridcolor\":\"white\",\"startlinecolor\":\"#2a3f5f\"},\"type\":\"carpet\"}],\"table\":[{\"cells\":{\"fill\":{\"color\":\"#EBF0F8\"},\"line\":{\"color\":\"white\"}},\"header\":{\"fill\":{\"color\":\"#C8D4E3\"},\"line\":{\"color\":\"white\"}},\"type\":\"table\"}],\"barpolar\":[{\"marker\":{\"line\":{\"color\":\"#E5ECF6\",\"width\":0.5},\"pattern\":{\"fillmode\":\"overlay\",\"size\":10,\"solidity\":0.2}},\"type\":\"barpolar\"}],\"pie\":[{\"automargin\":true,\"type\":\"pie\"}]},\"layout\":{\"autotypenumbers\":\"strict\",\"colorway\":[\"#636efa\",\"#EF553B\",\"#00cc96\",\"#ab63fa\",\"#FFA15A\",\"#19d3f3\",\"#FF6692\",\"#B6E880\",\"#FF97FF\",\"#FECB52\"],\"font\":{\"color\":\"#2a3f5f\"},\"hovermode\":\"closest\",\"hoverlabel\":{\"align\":\"left\"},\"paper_bgcolor\":\"white\",\"plot_bgcolor\":\"#E5ECF6\",\"polar\":{\"bgcolor\":\"#E5ECF6\",\"angularaxis\":{\"gridcolor\":\"white\",\"linecolor\":\"white\",\"ticks\":\"\"},\"radialaxis\":{\"gridcolor\":\"white\",\"linecolor\":\"white\",\"ticks\":\"\"}},\"ternary\":{\"bgcolor\":\"#E5ECF6\",\"aaxis\":{\"gridcolor\":\"white\",\"linecolor\":\"white\",\"ticks\":\"\"},\"baxis\":{\"gridcolor\":\"white\",\"linecolor\":\"white\",\"ticks\":\"\"},\"caxis\":{\"gridcolor\":\"white\",\"linecolor\":\"white\",\"ticks\":\"\"}},\"coloraxis\":{\"colorbar\":{\"outlinewidth\":0,\"ticks\":\"\"}},\"colorscale\":{\"sequential\":[[0.0,\"#0d0887\"],[0.1111111111111111,\"#46039f\"],[0.2222222222222222,\"#7201a8\"],[0.3333333333333333,\"#9c179e\"],[0.4444444444444444,\"#bd3786\"],[0.5555555555555556,\"#d8576b\"],[0.6666666666666666,\"#ed7953\"],[0.7777777777777778,\"#fb9f3a\"],[0.8888888888888888,\"#fdca26\"],[1.0,\"#f0f921\"]],\"sequentialminus\":[[0.0,\"#0d0887\"],[0.1111111111111111,\"#46039f\"],[0.2222222222222222,\"#7201a8\"],[0.3333333333333333,\"#9c179e\"],[0.4444444444444444,\"#bd3786\"],[0.5555555555555556,\"#d8576b\"],[0.6666666666666666,\"#ed7953\"],[0.7777777777777778,\"#fb9f3a\"],[0.8888888888888888,\"#fdca26\"],[1.0,\"#f0f921\"]],\"diverging\":[[0,\"#8e0152\"],[0.1,\"#c51b7d\"],[0.2,\"#de77ae\"],[0.3,\"#f1b6da\"],[0.4,\"#fde0ef\"],[0.5,\"#f7f7f7\"],[0.6,\"#e6f5d0\"],[0.7,\"#b8e186\"],[0.8,\"#7fbc41\"],[0.9,\"#4d9221\"],[1,\"#276419\"]]},\"xaxis\":{\"gridcolor\":\"white\",\"linecolor\":\"white\",\"ticks\":\"\",\"title\":{\"standoff\":15},\"zerolinecolor\":\"white\",\"automargin\":true,\"zerolinewidth\":2},\"yaxis\":{\"gridcolor\":\"white\",\"linecolor\":\"white\",\"ticks\":\"\",\"title\":{\"standoff\":15},\"zerolinecolor\":\"white\",\"automargin\":true,\"zerolinewidth\":2},\"scene\":{\"xaxis\":{\"backgroundcolor\":\"#E5ECF6\",\"gridcolor\":\"white\",\"linecolor\":\"white\",\"showbackground\":true,\"ticks\":\"\",\"zerolinecolor\":\"white\",\"gridwidth\":2},\"yaxis\":{\"backgroundcolor\":\"#E5ECF6\",\"gridcolor\":\"white\",\"linecolor\":\"white\",\"showbackground\":true,\"ticks\":\"\",\"zerolinecolor\":\"white\",\"gridwidth\":2},\"zaxis\":{\"backgroundcolor\":\"#E5ECF6\",\"gridcolor\":\"white\",\"linecolor\":\"white\",\"showbackground\":true,\"ticks\":\"\",\"zerolinecolor\":\"white\",\"gridwidth\":2}},\"shapedefaults\":{\"line\":{\"color\":\"#2a3f5f\"}},\"annotationdefaults\":{\"arrowcolor\":\"#2a3f5f\",\"arrowhead\":0,\"arrowwidth\":1},\"geo\":{\"bgcolor\":\"white\",\"landcolor\":\"#E5ECF6\",\"subunitcolor\":\"white\",\"showland\":true,\"showlakes\":true,\"lakecolor\":\"white\"},\"title\":{\"x\":0.05},\"mapbox\":{\"style\":\"light\"}}},\"xaxis\":{\"title\":{\"text\":\"Inhibitory weight (nS)\"}},\"yaxis\":{\"title\":{\"text\":\"Excitatory weight (nS)\"}}},                        {\"responsive\": true}                    ).then(function(){\n",
              "                            \n",
              "var gd = document.getElementById('b21a5e90-2ad8-4896-bb77-f85bae765d94');\n",
              "var x = new MutationObserver(function (mutations, observer) {{\n",
              "        var display = window.getComputedStyle(gd).display;\n",
              "        if (!display || display === 'none') {{\n",
              "            console.log([gd, 'removed!']);\n",
              "            Plotly.purge(gd);\n",
              "            observer.disconnect();\n",
              "        }}\n",
              "}});\n",
              "\n",
              "// Listen for the removal of the full notebook cells\n",
              "var notebookContainer = gd.closest('#notebook-container');\n",
              "if (notebookContainer) {{\n",
              "    x.observe(notebookContainer, {childList: true});\n",
              "}}\n",
              "\n",
              "// Listen for the clearing of the current output cell\n",
              "var outputEl = gd.closest('.output');\n",
              "if (outputEl) {{\n",
              "    x.observe(outputEl, {childList: true});\n",
              "}}\n",
              "\n",
              "                        })                };                            </script>        </div>\n",
              "</body>\n",
              "</html>"
            ]
          },
          "metadata": {}
        }
      ]
    },
    {
      "cell_type": "markdown",
      "source": [
        "# Single Traces"
      ],
      "metadata": {
        "id": "CYu3LS8yg6xZ"
      }
    },
    {
      "cell_type": "markdown",
      "metadata": {
        "id": "uZ8am8lJh83p"
      },
      "source": [
        "Define helper function to convert between `x` values (normalized distance along a cable) and the segment index (a number between `0` and `nseg-1`) within the dendrite."
      ]
    },
    {
      "cell_type": "code",
      "source": [
        "def xind(vec,val):\n",
        "    # finds closest value to x in x_vals vector, outputs index\n",
        "    # if x>1, outputs index for x = 1, and if x<0, outputs index for x = 0\n",
        "    return np.argmin(np.abs(vec-val))\n",
        "\n",
        "dend0_x_vals = np.array([seg.x for seg in cell_sAIS.dend[0]])\n",
        "dend1_x_vals = np.array([seg.x for seg in cell_sAIS.dend[1]])"
      ],
      "metadata": {
        "id": "CYhvk22ihz8h"
      },
      "execution_count": null,
      "outputs": []
    },
    {
      "cell_type": "markdown",
      "metadata": {
        "id": "4eZuK01cyayu"
      },
      "source": [
        "Set amplitude of current pulse, excitatory synapse, and/or inhibitory synapse, run, and plot"
      ]
    },
    {
      "cell_type": "code",
      "execution_count": null,
      "metadata": {
        "id": "pMWvGgzHyayu",
        "outputId": "4b316825-3abe-432a-fabe-23dff67d1232",
        "colab": {
          "base_uri": "https://localhost:8080/",
          "height": 607
        }
      },
      "outputs": [
        {
          "output_type": "display_data",
          "data": {
            "text/plain": [
              "<Figure size 500x600 with 2 Axes>"
            ],
            "image/png": "[encoded data removed]"
          },
          "metadata": {}
        }
      ],
      "source": [
        "nc_estim.weight[0] = 0.050\n",
        "nc_istim.weight[0] = 0.05\n",
        "iclamp.amp=0\n",
        "h.run()\n",
        "\n",
        "fig = plt.figure(figsize=(5,6))\n",
        "ax0 = fig.add_subplot(211) # soma voltage\n",
        "ax0.plot(t_vec,cell_sAIS.soma_v,label='soma')\n",
        "# Uncomment to plot other voltages\n",
        "ax0.plot(t_vec,cell_sAIS.ais_v,label='Distal AIS')\n",
        "ax0.plot(t_vec,cell_sAIS.dend0_vs[xind(dend0_x_vals,0.5)],label='dend[0](0.5)')\n",
        "ax0.plot(t_vec,cell_sAIS.dend1_vs[xind(dend1_x_vals,0.5)],label='dend[1](0.5)',ls='--')\n",
        "# ax0.legend()\n",
        "ax0.set_ylim(-80,40)\n",
        "ax0.set_ylabel('Vm (mV)')\n",
        "ax0.set_title('Voltage')\n",
        "ax0.legend()\n",
        "# ax1 = fig.add_subplot(312) # injected current\n",
        "# ax1.plot(t_vec,iclamp_i)\n",
        "# ax1.set_ylabel('Current (nA)')\n",
        "# ax1.set_title('Somatic current injection')\n",
        "ax2 = fig.add_subplot(212)\n",
        "ax2.plot(t_vec,exc_syn_g,label='Excitatory synapse')\n",
        "ax2.plot(t_vec,inh_syn_g,label='Inhibitory synapse')\n",
        "ax2.set_ylabel('Conductance (uS)')\n",
        "# ax2.plot(t_vec,exc_syn_i,label='Excitatory synapse')\n",
        "# ax2.plot(t_vec,inh_syn_i,label='Inhibitory synapse')\n",
        "ax2.set_xlabel('time (ms)')\n",
        "ax2.legend()\n",
        "ax2.set_title('Synaptic currents')\n",
        "fig.tight_layout()"
      ]
    },
    {
      "cell_type": "code",
      "source": [
        "diffs = []\n",
        "range_l = 250\n",
        "range_h = 360\n",
        "\n",
        "for i in np.arange(range_l,range_h):\n",
        "    diffs.append((np.array(cell_sAIS.ais_v)[i]-np.array(cell_sAIS.ais_v)[i-1])/(h.dt))\n",
        "\n",
        "diffs = np.array(diffs)\n",
        "\n",
        "fig = plt.figure()\n",
        "ax = fig.add_subplot(111)\n",
        "ax.plot(np.array(t_vec)[range_l:range_h],np.array(cell_sAIS.ais_v)[range_l:range_h])\n",
        "ax.plot(np.array(t_vec)[range_l:range_h],diffs*1e-1)"
      ],
      "metadata": {
        "id": "yaUtpqBWoHS1",
        "outputId": "58c6f47a-eed3-42ee-aaab-39b226a98487",
        "colab": {
          "base_uri": "https://localhost:8080/",
          "height": 448
        }
      },
      "execution_count": null,
      "outputs": [
        {
          "output_type": "execute_result",
          "data": {
            "text/plain": [
              "[<matplotlib.lines.Line2D at 0x7c7c8c59a200>]"
            ]
          },
          "metadata": {},
          "execution_count": 20
        },
        {
          "output_type": "display_data",
          "data": {
            "text/plain": [
              "<Figure size 640x480 with 1 Axes>"
            ],
            "image/png": "[encoded data removed]"
          },
          "metadata": {}
        }
      ]
    }
  ],
  "metadata": {
    "colab": {
      "provenance": [],
      "toc_visible": true,
      "include_colab_link": true
    },
    "kernelspec": {
      "display_name": "cmns_env",
      "language": "python",
      "name": "python3"
    },
    "language_info": {
      "codemirror_mode": {
        "name": "ipython",
        "version": 3
      },
      "file_extension": ".py",
      "mimetype": "text/x-python",
      "name": "python",
      "nbconvert_exporter": "python",
      "pygments_lexer": "ipython3",
      "version": "3.9.16"
    },
    "vscode": {
      "interpreter": {
        "hash": "d0488761690764cced0e7b1e141a742f06ea2f3fa8f54952eb1b54a94bfd6a2a"
      }
    }
  },
  "nbformat": 4,
  "nbformat_minor": 0
}