{
  "cells": [
    {
      "cell_type": "markdown",
      "metadata": {
        "id": "view-in-github",
        "colab_type": "text"
      },
      "source": [
        "<a href=\"https://colab.research.google.com/github/lw-miles24/CompModNervSys-final/blob/main/simulate_BallAndStick_soma_Gaussian.ipynb\" target=\"_parent\"><img src=\"https://colab.research.google.com/assets/colab-badge.svg\" alt=\"Open In Colab\"/></a>"
      ]
    },
    {
      "cell_type": "markdown",
      "metadata": {
        "id": "QvJ3jFMbyayn"
      },
      "source": [
        "We'll first install neuron as usual."
      ]
    },
    {
      "cell_type": "code",
      "execution_count": 1,
      "metadata": {
        "id": "mpalx3RKyayo",
        "outputId": "7dae9820-0834-4473-9b5e-dd615b4bfdd2",
        "colab": {
          "base_uri": "https://localhost:8080/"
        }
      },
      "outputs": [
        {
          "output_type": "stream",
          "name": "stdout",
          "text": [
            "Collecting neuron\n",
            "  Downloading NEURON-8.2.4-cp310-cp310-manylinux_2_17_x86_64.manylinux2014_x86_64.whl (15.0 MB)\n",
            "\u001b[2K     \u001b[90m━━━━━━━━━━━━━━━━━━━━━━━━━━━━━━━━━━━━━━━━\u001b[0m \u001b[32m15.0/15.0 MB\u001b[0m \u001b[31m31.1 MB/s\u001b[0m eta \u001b[36m0:00:00\u001b[0m\n",
            "\u001b[?25hRequirement already satisfied: numpy>=1.9.3 in /usr/local/lib/python3.10/dist-packages (from neuron) (1.25.2)\n",
            "Requirement already satisfied: packaging in /usr/local/lib/python3.10/dist-packages (from neuron) (24.0)\n",
            "Collecting find-libpython (from neuron)\n",
            "  Downloading find_libpython-0.4.0-py3-none-any.whl (8.7 kB)\n",
            "Requirement already satisfied: setuptools in /usr/local/lib/python3.10/dist-packages (from neuron) (67.7.2)\n",
            "Installing collected packages: find-libpython, neuron\n",
            "Successfully installed find-libpython-0.4.0 neuron-8.2.4\n"
          ]
        }
      ],
      "source": [
        "%pip install neuron # only need to run this cell once to install\n",
        "                    # neuron in the local jupyter environment"
      ]
    },
    {
      "cell_type": "markdown",
      "metadata": {
        "id": "D0EzkXEGyayp"
      },
      "source": [
        "Run the code block below to mount the google drive folder with the rest of the model files. Save your files in a folder in your main google drive folder and set `drive_folder_name` equal to it as a string. It also compiles the mod files in the `mechanisms` folder"
      ]
    },
    {
      "cell_type": "code",
      "execution_count": 1,
      "metadata": {
        "id": "dKMPgIzvyayp",
        "outputId": "93b85544-e8d6-40d0-ef33-9136bf4ab155",
        "colab": {
          "base_uri": "https://localhost:8080/"
        }
      },
      "outputs": [
        {
          "output_type": "stream",
          "name": "stdout",
          "text": [
            "/content/CompModNervSys-final\n",
            "Mod files: \"mechanisms/mechanisms/kv.mod\" \"mechanisms/mechanisms/na.mod\"\n",
            "\n",
            " -> \u001b[32mCompiling\u001b[0m mod_func.cpp\n",
            " => \u001b[32mLINKING\u001b[0m shared library ./libnrnmech.so\n",
            "Successfully created x86_64/special\n"
          ]
        }
      ],
      "source": [
        "repo_name = 'CompModNervSys-final'\n",
        "if 'google.colab' in str(get_ipython()):\n",
        "    import os\n",
        "    if not os.path.exists(repo_name):\n",
        "        !git clone https://github.com/lw-miles24/{repo_name}.git # downloads repository into our Google colab session's file system\n",
        "\n",
        "    os.chdir(repo_name) # Changing working directory to downloaded repository\n",
        "\n",
        "# Compile mechanisms\n",
        "!nrnivmodl mechanisms"
      ]
    },
    {
      "cell_type": "markdown",
      "metadata": {
        "id": "k33DevVwyayq"
      },
      "source": [
        "Now we can import the packages we'll be using"
      ]
    },
    {
      "cell_type": "code",
      "execution_count": 19,
      "metadata": {
        "id": "mq218So0yayr"
      },
      "outputs": [],
      "source": [
        "from neuron import h # all NEURON hoc functions are accessed through h\n",
        "from neuron import gui # if you're running this notebook in a local environment (instead of on google colab), launches the GUI\n",
        "h.load_file('stdrun.hoc') # loads neuron standard hoc library, not always necessary\n",
        "import numpy as np\n",
        "import matplotlib.pyplot as plt\n",
        "import plotly\n",
        "from scipy.stats import norm\n",
        "if 'google.colab' in str(get_ipython()):\n",
        "    from google.colab import output\n",
        "    output.enable_custom_widget_manager()\n"
      ]
    },
    {
      "cell_type": "markdown",
      "metadata": {
        "id": "GIVv9ladyays"
      },
      "source": [
        "Create the Ball and Stick neuron model"
      ]
    },
    {
      "cell_type": "code",
      "execution_count": 3,
      "metadata": {
        "id": "Tqv-x3Fyyays",
        "outputId": "82e98df4-8ad4-4a36-93e0-ec35dbaade90",
        "colab": {
          "base_uri": "https://localhost:8080/"
        }
      },
      "outputs": [
        {
          "output_type": "stream",
          "name": "stdout",
          "text": [
            "\n",
            "|-----|       BallAndStick[0].soma(0-1)\n",
            "       `--------------------------------------------------------------------------------------------------------------------------------------------------------------------------------------------------------|       BallAndStick[0].dend[0](0-1)\n",
            "       `----------|       BallAndStick[0].dend[1](0-1)\n",
            "       `--------------------|       BallAndStick[0].ais_prox(0-1)\n",
            "                             `--------------------|       BallAndStick[0].ais_dist(0-1)\n",
            "                                                   `------------------------|       BallAndStick[0].axon(0-1)\n",
            "    `--------------------|       BallAndStick[0].apic[0](0-1)\n",
            "                          `----|       BallAndStick[0].apic[1](0-1)\n",
            "                          `----|       BallAndStick[0].apic[2](0-1)\n",
            "\n"
          ]
        }
      ],
      "source": [
        "from ballandstick import BallAndStick\n",
        "\n",
        "ais_mode = 'soma' # set to either 'soma' or 'dend'\n",
        "ais_loc = 0.6 # 0 to 1, if ais_mode is 'dend', sets how far along the basal dendrite to attach the AIS\n",
        "ais_length = 100\n",
        "cell = BallAndStick(0,ais_mode,ais_loc,ais_length)\n",
        "\n",
        "h.topology()\n",
        "# Time vector\n",
        "t_vec = h.Vector().record(h._ref_t)\n",
        "# Simulation parameter settings\n",
        "h.celsius = 37 # degC\n",
        "h.steps_per_ms = 1/0.025\n",
        "h.dt = 0.025 # ms\n",
        "h.tstop = 20 # ms\n",
        "h.v_init = -69 # mV\n",
        "\n",
        "# Stimulation\n",
        "iclamp = h.IClamp(cell.soma(0.5))\n",
        "iclamp.delay = 5 # ms\n",
        "iclamp.dur = 5 # ms\n",
        "iclamp.amp = 1 # ms\n",
        "iclamp_i = h.Vector().record(iclamp._ref_i)"
      ]
    },
    {
      "cell_type": "markdown",
      "metadata": {
        "id": "pu3F7sP5yayt"
      },
      "source": [
        "Add excitatory synapse to basal dendritic branch with AIS (`dend[0]`), distal to AIS. Add inhibitory synapse to soma. (see Exercise 9 for detail instructions on how to make synapses)"
      ]
    },
    {
      "cell_type": "code",
      "execution_count": 59,
      "metadata": {
        "id": "sAMx3pw9yayt"
      },
      "outputs": [],
      "source": [
        "# Add synapses, in line with Hodapp et al. 2022...\n",
        "exc_weight = 0\n",
        "inh_weight = 0\n",
        "\n",
        "num_syn = 1000\n",
        "exc_loc_spread = [75,100] # µm from soma, along basal dendrite\n",
        "exc_fdhm = 4 # ms\n",
        "\n",
        "exc_locs = np.linspace(exc_loc_spread[0]/cell.dend[0].L,exc_loc_spread[1]/cell.dend[0].L,num_syn)\n",
        "\n",
        "# pseudorandom activation times: Gaussian curve with specified full-duration at half-maximum\n",
        "time_points = norm.ppf(np.linspace(0.001,0.999,num_syn))\n",
        "exc_times = time_points * exc_fdhm + 20\n",
        "inh_fdhm = exc_fdhm * (2/3) # ms\n",
        "inh_times = time_points * inh_fdhm + 22.5\n",
        "\n",
        "exc_syns = []\n",
        "inh_syns = []\n",
        "\n",
        "for i in np.arange(1,num_syn):\n",
        "\n",
        "    # 1000 excitatory synapses distributed evenly between 75 and 100 µm (0.375 - 0.5)\n",
        "    exc_syn_i = h.Exp2Syn(cell.dend[0](exc_locs[i]))\n",
        "    exc_syn_i.tau1 = 0.175 # ms - rise time\n",
        "    exc_syn_i.tau2 = 5 # ms - decay time\n",
        "    exc_syn_i.e = 0 # mV - 4eversal potential\n",
        "    exc_syns.append(exc_syn_i)\n",
        "\n",
        "    estim_i = h.NetStim()\n",
        "    estim_i.number = i\n",
        "    estim_i.interval = 10 # ms\n",
        "    estim_i.start = exc_times[i] # ms\n",
        "    estim_i.noise = 0\n",
        "\n",
        "    nc_estim_i = h.NetCon(estim_i,exc_syn_i)\n",
        "    nc_estim_i.delay = 1 # ms - synaptic delay\n",
        "    nc_estim_i.weight[0] = exc_weight/num_syn # µS - peak conductance\n",
        "\n",
        "    # 1000 inhibitory synapses at soma\n",
        "    inh_syn_i = h.Exp2Syn(cell.soma(0.5))\n",
        "    inh_syn_i.tau1 = 1.6 # ms\n",
        "    inh_syn_i.tau2 = 11 # ms\n",
        "    inh_syn_i.e = -75 # mV\n",
        "    inh_syns.append(inh_syn_i)\n",
        "\n",
        "    # NetStim to simulate inhibitory presynaptic spikes\n",
        "    istim_i = h.NetStim()\n",
        "    istim_i.number = i\n",
        "    istim_i.interval = 10 # ms - interval between spikes\n",
        "    istim_i.start = 5 # ms\n",
        "    istim_i.noise = 0\n",
        "\n",
        "    # NetCon to connect inhibitory presynaptic spikes to excitatory postsynaptic conductance\n",
        "    nc_istim_i = h.NetCon(istim_i,inh_syn_i)\n",
        "    nc_istim_i.delay = 1 # ms - synaptic delay\n",
        "    nc_istim_i.weight[0] = inh_weight/num_syn # µS - peak conductance"
      ]
    },
    {
      "cell_type": "code",
      "source": [
        "# set up synaptic current recordings\n",
        "exc_syn_i = np.zeros(int(h.tstop/h.dt))\n",
        "exc_syn_g = np.zeros(int(h.tstop/h.dt))\n",
        "inh_syn_i = np.zeros(int(h.tstop/h.dt))\n",
        "inh_syn_g = np.zeros(int(h.tstop/h.dt))\n",
        "for i in np.arange(1,num_syn):\n",
        "    exc_syn_i = exc_syn_i + h.Vector().record(exc_syns[i]._ref_i)\n",
        "    exc_syn_g = exc_syn_g + h.Vector().record(exc_syns[i]._ref_g)\n",
        "    inh_syn_i = inh_syn_i + h.Vector().record(inh_syns[i]._ref_i)\n",
        "    inh_syn_g = inh_syn_g + h.Vector().record(inh_syns[i]._ref_g)"
      ],
      "metadata": {
        "id": "dq8nhbrDBmSh",
        "outputId": "cd085389-85e4-4fa9-ae5d-69a6e83d50af",
        "colab": {
          "base_uri": "https://localhost:8080/",
          "height": 313
        }
      },
      "execution_count": 50,
      "outputs": [
        {
          "output_type": "error",
          "ename": "ValueError",
          "evalue": "setting an array element with a sequence.",
          "traceback": [
            "\u001b[0;31m---------------------------------------------------------------------------\u001b[0m",
            "\u001b[0;31mTypeError\u001b[0m                                 Traceback (most recent call last)",
            "\u001b[0;31mTypeError\u001b[0m: float() argument must be a string or a real number, not 'hoc.HocObject'",
            "\nThe above exception was the direct cause of the following exception:\n",
            "\u001b[0;31mValueError\u001b[0m                                Traceback (most recent call last)",
            "\u001b[0;32m<ipython-input-50-3b68802e59f0>\u001b[0m in \u001b[0;36m<cell line: 6>\u001b[0;34m()\u001b[0m\n\u001b[1;32m      5\u001b[0m \u001b[0minh_syn_g\u001b[0m \u001b[0;34m=\u001b[0m \u001b[0mnp\u001b[0m\u001b[0;34m.\u001b[0m\u001b[0mzeros\u001b[0m\u001b[0;34m(\u001b[0m\u001b[0mint\u001b[0m\u001b[0;34m(\u001b[0m\u001b[0mh\u001b[0m\u001b[0;34m.\u001b[0m\u001b[0mtstop\u001b[0m\u001b[0;34m/\u001b[0m\u001b[0mh\u001b[0m\u001b[0;34m.\u001b[0m\u001b[0mdt\u001b[0m\u001b[0;34m)\u001b[0m\u001b[0;34m)\u001b[0m\u001b[0;34m\u001b[0m\u001b[0;34m\u001b[0m\u001b[0m\n\u001b[1;32m      6\u001b[0m \u001b[0;32mfor\u001b[0m \u001b[0mi\u001b[0m \u001b[0;32min\u001b[0m \u001b[0mnp\u001b[0m\u001b[0;34m.\u001b[0m\u001b[0marange\u001b[0m\u001b[0;34m(\u001b[0m\u001b[0;36m1\u001b[0m\u001b[0;34m,\u001b[0m\u001b[0mnum_syn\u001b[0m\u001b[0;34m)\u001b[0m\u001b[0;34m:\u001b[0m\u001b[0;34m\u001b[0m\u001b[0;34m\u001b[0m\u001b[0m\n\u001b[0;32m----> 7\u001b[0;31m     \u001b[0mexc_syn_i\u001b[0m \u001b[0;34m=\u001b[0m \u001b[0mexc_syn_i\u001b[0m \u001b[0;34m+\u001b[0m \u001b[0mh\u001b[0m\u001b[0;34m.\u001b[0m\u001b[0mVector\u001b[0m\u001b[0;34m(\u001b[0m\u001b[0;34m)\u001b[0m\u001b[0;34m.\u001b[0m\u001b[0mrecord\u001b[0m\u001b[0;34m(\u001b[0m\u001b[0mexc_syns\u001b[0m\u001b[0;34m[\u001b[0m\u001b[0mi\u001b[0m\u001b[0;34m]\u001b[0m\u001b[0;34m.\u001b[0m\u001b[0m_ref_i\u001b[0m\u001b[0;34m)\u001b[0m\u001b[0;34m\u001b[0m\u001b[0;34m\u001b[0m\u001b[0m\n\u001b[0m\u001b[1;32m      8\u001b[0m     \u001b[0mexc_syn_g\u001b[0m \u001b[0;34m=\u001b[0m \u001b[0mexc_syn_g\u001b[0m \u001b[0;34m+\u001b[0m \u001b[0mh\u001b[0m\u001b[0;34m.\u001b[0m\u001b[0mVector\u001b[0m\u001b[0;34m(\u001b[0m\u001b[0;34m)\u001b[0m\u001b[0;34m.\u001b[0m\u001b[0mrecord\u001b[0m\u001b[0;34m(\u001b[0m\u001b[0mexc_syns\u001b[0m\u001b[0;34m[\u001b[0m\u001b[0mi\u001b[0m\u001b[0;34m]\u001b[0m\u001b[0;34m.\u001b[0m\u001b[0m_ref_g\u001b[0m\u001b[0;34m)\u001b[0m\u001b[0;34m\u001b[0m\u001b[0;34m\u001b[0m\u001b[0m\n\u001b[1;32m      9\u001b[0m     \u001b[0minh_syn_i\u001b[0m \u001b[0;34m=\u001b[0m \u001b[0minh_syn_i\u001b[0m \u001b[0;34m+\u001b[0m \u001b[0mh\u001b[0m\u001b[0;34m.\u001b[0m\u001b[0mVector\u001b[0m\u001b[0;34m(\u001b[0m\u001b[0;34m)\u001b[0m\u001b[0;34m.\u001b[0m\u001b[0mrecord\u001b[0m\u001b[0;34m(\u001b[0m\u001b[0minh_syns\u001b[0m\u001b[0;34m[\u001b[0m\u001b[0mi\u001b[0m\u001b[0;34m]\u001b[0m\u001b[0;34m.\u001b[0m\u001b[0m_ref_i\u001b[0m\u001b[0;34m)\u001b[0m\u001b[0;34m\u001b[0m\u001b[0;34m\u001b[0m\u001b[0m\n",
            "\u001b[0;31mValueError\u001b[0m: setting an array element with a sequence."
          ]
        }
      ]
    },
    {
      "cell_type": "markdown",
      "metadata": {
        "id": "8QVpz9dIyayt"
      },
      "source": [
        "Make `NetStim`s to drive synapses and `NetCons` to connect `NetStim`s to the synapses.  "
      ]
    },
    {
      "cell_type": "markdown",
      "metadata": {
        "id": "branCapMyayu"
      },
      "source": [
        "Define helper function to convert between `x` values (normalized distance along a cable) and the segment index (a number between `0` and `nseg-1`) within the dendrite."
      ]
    },
    {
      "cell_type": "code",
      "execution_count": 6,
      "metadata": {
        "id": "AcwgWb4Vyayu"
      },
      "outputs": [],
      "source": [
        "def xind(vec,val):\n",
        "    # finds closest value to x in x_vals vector, outputs index\n",
        "    # if x>1, outputs index for x = 1, and if x<0, outputs index for x = 0\n",
        "    return np.argmin(np.abs(vec-val))\n",
        "\n",
        "dend0_x_vals = np.array([seg.x for seg in cell.dend[0]])\n",
        "dend1_x_vals = np.array([seg.x for seg in cell.dend[1]])\n",
        "\n",
        "# def apfire_thresh(v_vec):\n",
        "    # from Hodapp et al. 2022, AP defined as the mV where dV > 10 mV/ms\n",
        "    # if neuron did not fire, returns 100 mV\n",
        "#     for v_vec"
      ]
    },
    {
      "cell_type": "markdown",
      "metadata": {
        "id": "4eZuK01cyayu"
      },
      "source": [
        "Set amplitude of current pulse, excitatory synapse, and/or inhibitory synapse, run, and plot"
      ]
    },
    {
      "cell_type": "code",
      "execution_count": 60,
      "metadata": {
        "id": "pMWvGgzHyayu",
        "outputId": "4c8fc4f7-0d93-460d-d9f5-26ae8ceb5b75",
        "colab": {
          "base_uri": "https://localhost:8080/",
          "height": 607
        }
      },
      "outputs": [
        {
          "output_type": "display_data",
          "data": {
            "text/plain": [
              "<Figure size 500x600 with 1 Axes>"
            ],
            "image/png": "[encoded data removed]"
          },
          "metadata": {}
        }
      ],
      "source": [
        "iclamp.amp=0\n",
        "h.run()\n",
        "\n",
        "fig = plt.figure(figsize=(5,6))\n",
        "ax0 = fig.add_subplot(111) # soma voltage\n",
        "ax0.plot(t_vec,cell.soma_v,label='soma')\n",
        "# Uncomment to plot other voltages\n",
        "ax0.plot(t_vec,cell.ais_v,label='Distal AIS')\n",
        "ax0.plot(t_vec,cell.dend0_vs[xind(dend0_x_vals,0.5)],label='dend[0](0.5)')\n",
        "ax0.plot(t_vec,cell.dend1_vs[xind(dend1_x_vals,0.5)],label='dend[1](0.5)',ls='--')\n",
        "# ax0.legend()\n",
        "ax0.set_ylim(-80,40)\n",
        "ax0.set_ylabel('Vm (mV)')\n",
        "ax0.set_title('Voltage')\n",
        "ax0.legend()\n",
        "# ax1 = fig.add_subplot(312) # injected current\n",
        "# ax1.plot(t_vec,iclamp_i)\n",
        "# ax1.set_ylabel('Current (nA)')\n",
        "# ax1.set_title('Somatic current injection')\n",
        "# ax2 = fig.add_subplot(212)\n",
        "# ax2.plot(t_vec,exc_syn_g,label='Excitatory synapse')\n",
        "# ax2.plot(t_vec,inh_syn_g,label='Inhibitory synapse')\n",
        "# ax2.set_ylabel('Conductance (uS)')\n",
        "# ax2.plot(t_vec,exc_syn_i,label='Excitatory synapse')\n",
        "# ax2.plot(t_vec,inh_syn_i,label='Inhibitory synapse')\n",
        "# ax2.set_xlabel('time (ms)')\n",
        "# ax2.legend()\n",
        "# ax2.set_title('Synaptic currents')\n",
        "fig.tight_layout()\n",
        "\n",
        "# print(apfire_thresh(cell.ais_v))"
      ]
    }
  ],
  "metadata": {
    "colab": {
      "provenance": [],
      "toc_visible": true,
      "include_colab_link": true
    },
    "kernelspec": {
      "display_name": "cmns_env",
      "language": "python",
      "name": "python3"
    },
    "language_info": {
      "codemirror_mode": {
        "name": "ipython",
        "version": 3
      },
      "file_extension": ".py",
      "mimetype": "text/x-python",
      "name": "python",
      "nbconvert_exporter": "python",
      "pygments_lexer": "ipython3",
      "version": "3.9.16"
    },
    "vscode": {
      "interpreter": {
        "hash": "d0488761690764cced0e7b1e141a742f06ea2f3fa8f54952eb1b54a94bfd6a2a"
      }
    }
  },
  "nbformat": 4,
  "nbformat_minor": 0
}