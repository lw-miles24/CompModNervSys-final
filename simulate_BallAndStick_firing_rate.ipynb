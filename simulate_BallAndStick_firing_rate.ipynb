{
  "cells": [
    {
      "cell_type": "markdown",
      "metadata": {
        "id": "view-in-github",
        "colab_type": "text"
      },
      "source": [
        "<a href=\"https://colab.research.google.com/github/lw-miles24/CompModNervSys-final/blob/main/simulate_BallAndStick_firing_rate.ipynb\" target=\"_parent\"><img src=\"https://colab.research.google.com/assets/colab-badge.svg\" alt=\"Open In Colab\"/></a>"
      ]
    },
    {
      "cell_type": "markdown",
      "source": [
        "# Initialize session"
      ],
      "metadata": {
        "id": "_zzZISAWYjKH"
      }
    },
    {
      "cell_type": "markdown",
      "metadata": {
        "id": "QvJ3jFMbyayn"
      },
      "source": [
        "Install neuron as usual."
      ]
    },
    {
      "cell_type": "code",
      "execution_count": 2,
      "metadata": {
        "id": "mpalx3RKyayo",
        "outputId": "61c98e10-b389-4d33-cad1-27c15de466fd",
        "colab": {
          "base_uri": "https://localhost:8080/"
        }
      },
      "outputs": [
        {
          "output_type": "stream",
          "name": "stdout",
          "text": [
            "Collecting neuron\n",
            "  Downloading NEURON-8.2.4-cp310-cp310-manylinux_2_17_x86_64.manylinux2014_x86_64.whl (15.0 MB)\n",
            "\u001b[2K     \u001b[90m━━━━━━━━━━━━━━━━━━━━━━━━━━━━━━━━━━━━━━━━\u001b[0m \u001b[32m15.0/15.0 MB\u001b[0m \u001b[31m23.8 MB/s\u001b[0m eta \u001b[36m0:00:00\u001b[0m\n",
            "\u001b[?25hRequirement already satisfied: numpy>=1.9.3 in /usr/local/lib/python3.10/dist-packages (from neuron) (1.25.2)\n",
            "Requirement already satisfied: packaging in /usr/local/lib/python3.10/dist-packages (from neuron) (24.0)\n",
            "Collecting find-libpython (from neuron)\n",
            "  Downloading find_libpython-0.4.0-py3-none-any.whl (8.7 kB)\n",
            "Requirement already satisfied: setuptools in /usr/local/lib/python3.10/dist-packages (from neuron) (67.7.2)\n",
            "Installing collected packages: find-libpython, neuron\n",
            "Successfully installed find-libpython-0.4.0 neuron-8.2.4\n"
          ]
        }
      ],
      "source": [
        "%pip install neuron # only need to run this cell once to install\n",
        "                    # neuron in the local jupyter environment"
      ]
    },
    {
      "cell_type": "markdown",
      "metadata": {
        "id": "D0EzkXEGyayp"
      },
      "source": [
        "Mount the rest of the model files from the github repository."
      ]
    },
    {
      "cell_type": "code",
      "execution_count": 3,
      "metadata": {
        "id": "dKMPgIzvyayp",
        "outputId": "25d0b519-2ea6-431b-daca-5dc593273c3c",
        "colab": {
          "base_uri": "https://localhost:8080/"
        }
      },
      "outputs": [
        {
          "output_type": "stream",
          "name": "stdout",
          "text": [
            "Cloning into 'CompModNervSys-final'...\n",
            "remote: Enumerating objects: 83, done.\u001b[K\n",
            "remote: Counting objects: 100% (83/83), done.\u001b[K\n",
            "remote: Compressing objects: 100% (64/64), done.\u001b[K\n",
            "remote: Total 83 (delta 33), reused 41 (delta 13), pack-reused 0\u001b[K\n",
            "Receiving objects: 100% (83/83), 492.87 KiB | 14.50 MiB/s, done.\n",
            "Resolving deltas: 100% (33/33), done.\n",
            "/content/CompModNervSys-final\n",
            "Mod files: \"mechanisms/mechanisms/kv.mod\" \"mechanisms/mechanisms/na.mod\"\n",
            "\n",
            "Creating 'x86_64' directory for .o files.\n",
            "\n",
            " -> \u001b[32mCompiling\u001b[0m mod_func.cpp\n",
            " -> \u001b[32mNMODL\u001b[0m ../mechanisms/kv.mod\n",
            " -> \u001b[32mNMODL\u001b[0m ../mechanisms/na.mod\n",
            "Translating kv.mod into /content/CompModNervSys-final/x86_64/kv.c\n",
            "Translating na.mod into /content/CompModNervSys-final/x86_64/na.c\n",
            "Thread Safe\n",
            "Thread Safe\n",
            " -> \u001b[32mCompiling\u001b[0m kv.c\n",
            " -> \u001b[32mCompiling\u001b[0m na.c\n",
            " => \u001b[32mLINKING\u001b[0m shared library ./libnrnmech.so\n",
            " => \u001b[32mLINKING\u001b[0m executable ./special LDFLAGS are:    -pthread\n",
            "Successfully created x86_64/special\n"
          ]
        }
      ],
      "source": [
        "repo_name = 'CompModNervSys-final'\n",
        "if 'google.colab' in str(get_ipython()):\n",
        "    import os\n",
        "    if not os.path.exists(repo_name):\n",
        "        !git clone https://github.com/lw-miles24/{repo_name}.git # downloads repository into our Google colab session's file system\n",
        "\n",
        "    os.chdir(repo_name) # Changing working directory to downloaded repository\n",
        "\n",
        "# Compile mechanisms\n",
        "!nrnivmodl mechanisms"
      ]
    },
    {
      "cell_type": "markdown",
      "metadata": {
        "id": "k33DevVwyayq"
      },
      "source": [
        "Import the packages we'll be using."
      ]
    },
    {
      "cell_type": "code",
      "execution_count": 4,
      "metadata": {
        "id": "mq218So0yayr"
      },
      "outputs": [],
      "source": [
        "from neuron import h # all NEURON hoc functions are accessed through h\n",
        "from neuron import gui # if you're running this notebook in a local environment (instead of on google colab), launches the GUI\n",
        "h.load_file('stdrun.hoc') # loads neuron standard hoc library, not always necessary\n",
        "import numpy as np\n",
        "import matplotlib.pyplot as plt\n",
        "import plotly\n",
        "if 'google.colab' in str(get_ipython()):\n",
        "    from google.colab import output\n",
        "    output.enable_custom_widget_manager()\n"
      ]
    },
    {
      "cell_type": "markdown",
      "source": [
        "# Dendritic AIS model"
      ],
      "metadata": {
        "id": "uh_mtOMbY2-q"
      }
    },
    {
      "cell_type": "markdown",
      "metadata": {
        "id": "GIVv9ladyays"
      },
      "source": [
        "Create the Ball and Stick neuron model"
      ]
    },
    {
      "cell_type": "code",
      "execution_count": 5,
      "metadata": {
        "id": "Tqv-x3Fyyays",
        "outputId": "a422234c-13b1-4353-c95a-ef5ed0f619fc",
        "colab": {
          "base_uri": "https://localhost:8080/"
        }
      },
      "outputs": [
        {
          "output_type": "stream",
          "name": "stdout",
          "text": [
            "\n",
            "|-----|       BallAndStick[0].soma(0-1)\n",
            "       `--------------------------------------------------------------------------------------------------------------------------------------------------------------------------------------------------------|       BallAndStick[0].dend[0](0-1)\n",
            "             `--------------------|       BallAndStick[0].ais_prox(0-1)\n",
            "                                   `--------------------|       BallAndStick[0].ais_dist(0-1)\n",
            "                                                         `------------------------|       BallAndStick[0].axon(0-1)\n",
            "       `----------|       BallAndStick[0].dend[1](0-1)\n",
            "    `--------------------|       BallAndStick[0].apic[0](0-1)\n",
            "                          `----|       BallAndStick[0].apic[1](0-1)\n",
            "                          `----|       BallAndStick[0].apic[2](0-1)\n",
            "\n"
          ]
        }
      ],
      "source": [
        "from ballandstick import BallAndStick\n",
        "\n",
        "ais_mode = 'dend' # set to either 'soma' or 'dend'\n",
        "ais_loc = 0.028 # if ais_mode is 'dend', sets how far along the basal dendrite to attach the AIS\n",
        "               # benchmark values from Hodapp et al. 2022, ranging 0 to 1 (along 200 µm basal dendrite)\n",
        "               # mean axonal distance: 0.028 (5.7 µm)\n",
        "               # 95th percentile:      0.06   (12 µm)\n",
        "cell_dAIS = BallAndStick(0,ais_mode,ais_loc)\n",
        "\n",
        "h.topology()\n",
        "# Time vector\n",
        "t_vec = h.Vector().record(h._ref_t)\n",
        "# Simulation parameter settings\n",
        "h.celsius = 37 # degC\n",
        "h.steps_per_ms = 1/0.025\n",
        "h.dt = 0.025 # ms\n",
        "h.tstop = 20 # ms\n",
        "h.v_init = -69 # mV\n",
        "\n",
        "# Stimulation\n",
        "iclamp = h.IClamp(cell_dAIS.soma(0.5))\n",
        "iclamp.delay = 0 # ms\n",
        "iclamp.dur = h.tstop # ms\n",
        "iclamp.amp = 1 # ms\n",
        "iclamp_i = h.Vector().record(iclamp._ref_i)"
      ]
    },
    {
      "cell_type": "markdown",
      "metadata": {
        "id": "pu3F7sP5yayt"
      },
      "source": [
        "Add excitatory synapse to basal dendritic branch with AIS (`dend[0]`), distal to AIS. Add inhibitory synapse to soma."
      ]
    },
    {
      "cell_type": "code",
      "execution_count": 6,
      "metadata": {
        "id": "sAMx3pw9yayt"
      },
      "outputs": [],
      "source": [
        "# Add excitatory synapse to basal dendrite\n",
        "exc_syn_loc = 0.438 # 0 to 1, sets how far along basal dendrite excitatory synapse is added\n",
        "                    # 0.438 = 87.6 µm along 200 µm basal dendrite (average stim\n",
        "                    # location used in Hodapp et al. 2022 simulations)\n",
        "exc_syn = h.Exp2Syn(cell_dAIS.dend[0](exc_syn_loc))\n",
        "exc_syn.tau1 = 0.175 # ms - rise time (taken from Hodapp 2022 supp materials)\n",
        "exc_syn.tau2 = 5 # ms - decay time\n",
        "exc_syn.e = 0 # mV - eversal potential\n",
        "\n",
        "# Add inhibitory synapse to soma\n",
        "inh_syn = h.Exp2Syn(cell_dAIS.soma(0.5))\n",
        "inh_syn.tau1 = 1.6 # ms\n",
        "inh_syn.tau2 = 11 # ms\n",
        "inh_syn.e = -75 # mV\n",
        "\n",
        "# synaptic current recordings\n",
        "exc_syn_i = h.Vector().record(exc_syn._ref_i)\n",
        "exc_syn_g = h.Vector().record(exc_syn._ref_g)\n",
        "inh_syn_i = h.Vector().record(inh_syn._ref_i)\n",
        "inh_syn_g = h.Vector().record(inh_syn._ref_g)"
      ]
    },
    {
      "cell_type": "markdown",
      "metadata": {
        "id": "8QVpz9dIyayt"
      },
      "source": [
        "Make `NetStim`s to drive synapses and `NetCons` to connect `NetStim`s to the synapses.  "
      ]
    },
    {
      "cell_type": "code",
      "execution_count": 60,
      "metadata": {
        "id": "pxkzQ8weyayu"
      },
      "outputs": [],
      "source": [
        "# NetStim to simulate excitatory presynaptic spikes\n",
        "estim = h.NetStim()\n",
        "estim.number = 1\n",
        "estim.interval = 10 # ms - interval between spikes\n",
        "estim.start = 5 # ms\n",
        "estim.noise = 0\n",
        "\n",
        "# NetCon to connect excitatory presynaptic spikes to excitatory postsynaptic conductance\n",
        "nc_estim = h.NetCon(estim,exc_syn)\n",
        "nc_estim.delay = 1 # ms - synaptic delay\n",
        "nc_estim.weight[0] = 1 # µS - peak conductance\n",
        "\n",
        "# NetStim to simulate inhibitory presynaptic spikes\n",
        "istim = h.NetStim()\n",
        "istim.number = 1\n",
        "istim.interval = 10 # ms - interval between spikes\n",
        "istim.start = 5 # ms\n",
        "istim.noise = 0\n",
        "\n",
        "# NetCon to connect inhibitory presynaptic spikes to excitatory postsynaptic conductance\n",
        "nc_istim = h.NetCon(istim,inh_syn)\n",
        "nc_istim.delay = 1 # ms - synaptic delay\n",
        "nc_istim.weight[0] = 1 # µS - peak conductance"
      ]
    },
    {
      "cell_type": "markdown",
      "metadata": {
        "id": "branCapMyayu"
      },
      "source": [
        "**Opt. 1** Define helper function to detect if the cell fired an AP. If it did, also determine at what voltage threshold this occurred.\n",
        "\n",
        "**Opt. 2** Define helper function to detect if the cell fired an AP, checking if it happened in the soma & AIS (1.0) vs. AIS only (0.5) vs. neither (0)."
      ]
    },
    {
      "cell_type": "code",
      "source": [
        "def get_spike_times(v_vec_AIS,t_vec,threshold=0):\n",
        "    spike_times = []\n",
        "    firing = False\n",
        "    for i in np.arange(0,len(t_vec)):\n",
        "        if v_vec_AIS[i] > threshold:\n",
        "            if not firing:\n",
        "                firing = True\n",
        "                spike_times.append(t_vec[i])\n",
        "        if firing and v_vec_AIS[i] < threshold:\n",
        "            firing = False\n",
        "    return np.array(spike_times)\n",
        "\n",
        "def hz_out(spike_times):\n",
        "    if len(spike_times) < 2:\n",
        "        return False,0\n",
        "    burst_duration = (spike_times[-1] - spike_times[0])*1e-3 # burst duration in s\n",
        "    hz = (len(spike_times)-1)/burst_duration\n",
        "    return True,hz"
      ],
      "metadata": {
        "id": "WiQlCl7yg7Xl"
      },
      "execution_count": 129,
      "outputs": []
    },
    {
      "cell_type": "code",
      "source": [
        "nc_estim.weight[0] = 0.0\n",
        "nc_istim.weight[0] = 0.0\n",
        "curr_range = np.linspace(0,20,21)\n",
        "\n",
        "hz_list = []\n",
        "for i in np.arange(0,len(curr_range)):\n",
        "    iclamp.amp = curr_range[i] # nA\n",
        "    h.run()\n",
        "    spike_times = get_spike_times(cell_dAIS.ais_v,t_vec)\n",
        "    did_burst,hz = hz_out(spike_times)\n",
        "    hz_list.append(hz)"
      ],
      "metadata": {
        "id": "tU7QGAvkvhcL"
      },
      "execution_count": 134,
      "outputs": []
    },
    {
      "cell_type": "code",
      "source": [
        "fig = plt.figure()\n",
        "ax = fig.add_subplot(111)\n",
        "ax.plot(curr_range,hz_list)\n",
        "ax.set_xlabel('current (nA)')\n",
        "ax.set_ylabel('frequency (Hz)')"
      ],
      "metadata": {
        "id": "_K4QFKgNvjS9",
        "outputId": "aeb53a1d-026e-4d93-c8cc-2e26c1a73705",
        "colab": {
          "base_uri": "https://localhost:8080/",
          "height": 467
        }
      },
      "execution_count": 133,
      "outputs": [
        {
          "output_type": "execute_result",
          "data": {
            "text/plain": [
              "Text(0, 0.5, 'frequency (Hz)')"
            ]
          },
          "metadata": {},
          "execution_count": 133
        },
        {
          "output_type": "display_data",
          "data": {
            "text/plain": [
              "<Figure size 640x480 with 1 Axes>"
            ],
            "image/png": "[encoded data removed]"
          },
          "metadata": {}
        }
      ]
    },
    {
      "cell_type": "code",
      "source": [
        "iclamp.amp = 0.5 # nA - with estim/istim weights at 0, 0.3 nA gives ~80 Hz firing rate baseline\n",
        "exc_range = np.linspace(0,0.12,5) #13\n",
        "inh_range = np.linspace(0,0.08,9) #9\n",
        "\n",
        "dAIS_fire_matrix = np.zeros((len(exc_range),len(inh_range)))\n",
        "\n",
        "for e in np.arange(0,len(exc_range)):\n",
        "    for i in np.arange(0,len(inh_range)):\n",
        "        nc_estim.weight[0] = exc_range[e]\n",
        "        nc_istim.weight[0] = inh_range[i]\n",
        "        h.run()\n",
        "        spike_times = get_spike_times(cell_dAIS.ais_v,t_vec)\n",
        "        did_burst,hz = hz_out(spike_times)\n",
        "        if did_burst:\n",
        "            dAIS_fire_matrix[e,i] = hz\n",
        "        else:\n",
        "            dAIS_fire_matrix[e,i] = np.nan"
      ],
      "metadata": {
        "id": "Szzbjelu35Kj"
      },
      "execution_count": 151,
      "outputs": []
    },
    {
      "cell_type": "code",
      "source": [
        "import plotly.graph_objects as go\n",
        "\n",
        "fig = go.Figure(data=go.Heatmap(z=dAIS_fire_matrix,x=inh_range*1e3,y=exc_range*1e3))\n",
        "fig.update_xaxes(title_text=\"Inhibitory weight (nS)\")\n",
        "fig.update_yaxes(title_text=\"Excitatory weight (nS)\")\n",
        "fig.update_traces(colorbar_title_text='firing frequency (Hz)',colorbar_title_side='right',selector=dict(type='heatmap'))\n",
        "fig.show()"
      ],
      "metadata": {
        "id": "dUlGDLqu4yx0",
        "outputId": "782672d6-0076-4884-f5cb-ef0d59b368f7",
        "colab": {
          "base_uri": "https://localhost:8080/",
          "height": 542
        }
      },
      "execution_count": 152,
      "outputs": [
        {
          "output_type": "display_data",
          "data": {
            "text/html": [
              "<html>\n",
              "<head><meta charset=\"utf-8\" /></head>\n",
              "<body>\n",
              "    <div>            <script src=\"https://cdnjs.cloudflare.com/ajax/libs/mathjax/2.7.5/MathJax.js?config=TeX-AMS-MML_SVG\"></script><script type=\"text/javascript\">if (window.MathJax && window.MathJax.Hub && window.MathJax.Hub.Config) {window.MathJax.Hub.Config({SVG: {font: \"STIX-Web\"}});}</script>                <script type=\"text/javascript\">window.PlotlyConfig = {MathJaxConfig: 'local'};</script>\n",
              "        <script charset=\"utf-8\" src=\"https://cdn.plot.ly/plotly-2.24.1.min.js\"></script>                <div id=\"036deb74-7fab-4148-9fdc-83a3566c8aa4\" class=\"plotly-graph-div\" style=\"height:525px; width:100%;\"></div>            <script type=\"text/javascript\">                                    window.PLOTLYENV=window.PLOTLYENV || {};                                    if (document.getElementById(\"036deb74-7fab-4148-9fdc-83a3566c8aa4\")) {                    Plotly.newPlot(                        \"036deb74-7fab-4148-9fdc-83a3566c8aa4\",                        [{\"x\":[0.0,10.0,20.0,30.0,40.0,50.0,60.0,70.0,80.0],\"y\":[0.0,30.0,60.0,90.0,120.0],\"z\":[[104.98687664042453,94.26551453260225,83.56545961002735,66.83375104427991,60.60606060606142,56.49717514124277,37.313432835822496,35.087719298247144,33.38898163606137],[125.1956181533673,115.52346570397137,105.913503971761,92.16589861751307,67.1704450042008,59.08419497784386,54.869684499313614,35.810205908685525,33.8409475465327],[134.7935973041335,124.41679626749857,114.12268188302417,104.4386422976547,92.0245398773021,63.69426751592519,56.537102473498074,36.630036630038205,34.334763948499365],[140.96916299560084,130.50570962480023,120.21036814425379,110.49723756905989,101.01010101010506,89.3521965748333,58.86681383370163,53.98110661268486,34.873583260681556],[137.64624913970974,135.24936601860236,124.90241998438978,115.1907847372212,107.52688172043477,96.23095429029935,84.44757213230088,55.248618784529945,35.52397868561433]],\"type\":\"heatmap\",\"colorbar\":{\"title\":{\"side\":\"right\",\"text\":\"firing frequency (Hz)\"}}}],                        {\"template\":{\"data\":{\"histogram2dcontour\":[{\"type\":\"histogram2dcontour\",\"colorbar\":{\"outlinewidth\":0,\"ticks\":\"\"},\"colorscale\":[[0.0,\"#0d0887\"],[0.1111111111111111,\"#46039f\"],[0.2222222222222222,\"#7201a8\"],[0.3333333333333333,\"#9c179e\"],[0.4444444444444444,\"#bd3786\"],[0.5555555555555556,\"#d8576b\"],[0.6666666666666666,\"#ed7953\"],[0.7777777777777778,\"#fb9f3a\"],[0.8888888888888888,\"#fdca26\"],[1.0,\"#f0f921\"]]}],\"choropleth\":[{\"type\":\"choropleth\",\"colorbar\":{\"outlinewidth\":0,\"ticks\":\"\"}}],\"histogram2d\":[{\"type\":\"histogram2d\",\"colorbar\":{\"outlinewidth\":0,\"ticks\":\"\"},\"colorscale\":[[0.0,\"#0d0887\"],[0.1111111111111111,\"#46039f\"],[0.2222222222222222,\"#7201a8\"],[0.3333333333333333,\"#9c179e\"],[0.4444444444444444,\"#bd3786\"],[0.5555555555555556,\"#d8576b\"],[0.6666666666666666,\"#ed7953\"],[0.7777777777777778,\"#fb9f3a\"],[0.8888888888888888,\"#fdca26\"],[1.0,\"#f0f921\"]]}],\"heatmap\":[{\"type\":\"heatmap\",\"colorbar\":{\"outlinewidth\":0,\"ticks\":\"\"},\"colorscale\":[[0.0,\"#0d0887\"],[0.1111111111111111,\"#46039f\"],[0.2222222222222222,\"#7201a8\"],[0.3333333333333333,\"#9c179e\"],[0.4444444444444444,\"#bd3786\"],[0.5555555555555556,\"#d8576b\"],[0.6666666666666666,\"#ed7953\"],[0.7777777777777778,\"#fb9f3a\"],[0.8888888888888888,\"#fdca26\"],[1.0,\"#f0f921\"]]}],\"heatmapgl\":[{\"type\":\"heatmapgl\",\"colorbar\":{\"outlinewidth\":0,\"ticks\":\"\"},\"colorscale\":[[0.0,\"#0d0887\"],[0.1111111111111111,\"#46039f\"],[0.2222222222222222,\"#7201a8\"],[0.3333333333333333,\"#9c179e\"],[0.4444444444444444,\"#bd3786\"],[0.5555555555555556,\"#d8576b\"],[0.6666666666666666,\"#ed7953\"],[0.7777777777777778,\"#fb9f3a\"],[0.8888888888888888,\"#fdca26\"],[1.0,\"#f0f921\"]]}],\"contourcarpet\":[{\"type\":\"contourcarpet\",\"colorbar\":{\"outlinewidth\":0,\"ticks\":\"\"}}],\"contour\":[{\"type\":\"contour\",\"colorbar\":{\"outlinewidth\":0,\"ticks\":\"\"},\"colorscale\":[[0.0,\"#0d0887\"],[0.1111111111111111,\"#46039f\"],[0.2222222222222222,\"#7201a8\"],[0.3333333333333333,\"#9c179e\"],[0.4444444444444444,\"#bd3786\"],[0.5555555555555556,\"#d8576b\"],[0.6666666666666666,\"#ed7953\"],[0.7777777777777778,\"#fb9f3a\"],[0.8888888888888888,\"#fdca26\"],[1.0,\"#f0f921\"]]}],\"surface\":[{\"type\":\"surface\",\"colorbar\":{\"outlinewidth\":0,\"ticks\":\"\"},\"colorscale\":[[0.0,\"#0d0887\"],[0.1111111111111111,\"#46039f\"],[0.2222222222222222,\"#7201a8\"],[0.3333333333333333,\"#9c179e\"],[0.4444444444444444,\"#bd3786\"],[0.5555555555555556,\"#d8576b\"],[0.6666666666666666,\"#ed7953\"],[0.7777777777777778,\"#fb9f3a\"],[0.8888888888888888,\"#fdca26\"],[1.0,\"#f0f921\"]]}],\"mesh3d\":[{\"type\":\"mesh3d\",\"colorbar\":{\"outlinewidth\":0,\"ticks\":\"\"}}],\"scatter\":[{\"fillpattern\":{\"fillmode\":\"overlay\",\"size\":10,\"solidity\":0.2},\"type\":\"scatter\"}],\"parcoords\":[{\"type\":\"parcoords\",\"line\":{\"colorbar\":{\"outlinewidth\":0,\"ticks\":\"\"}}}],\"scatterpolargl\":[{\"type\":\"scatterpolargl\",\"marker\":{\"colorbar\":{\"outlinewidth\":0,\"ticks\":\"\"}}}],\"bar\":[{\"error_x\":{\"color\":\"#2a3f5f\"},\"error_y\":{\"color\":\"#2a3f5f\"},\"marker\":{\"line\":{\"color\":\"#E5ECF6\",\"width\":0.5},\"pattern\":{\"fillmode\":\"overlay\",\"size\":10,\"solidity\":0.2}},\"type\":\"bar\"}],\"scattergeo\":[{\"type\":\"scattergeo\",\"marker\":{\"colorbar\":{\"outlinewidth\":0,\"ticks\":\"\"}}}],\"scatterpolar\":[{\"type\":\"scatterpolar\",\"marker\":{\"colorbar\":{\"outlinewidth\":0,\"ticks\":\"\"}}}],\"histogram\":[{\"marker\":{\"pattern\":{\"fillmode\":\"overlay\",\"size\":10,\"solidity\":0.2}},\"type\":\"histogram\"}],\"scattergl\":[{\"type\":\"scattergl\",\"marker\":{\"colorbar\":{\"outlinewidth\":0,\"ticks\":\"\"}}}],\"scatter3d\":[{\"type\":\"scatter3d\",\"line\":{\"colorbar\":{\"outlinewidth\":0,\"ticks\":\"\"}},\"marker\":{\"colorbar\":{\"outlinewidth\":0,\"ticks\":\"\"}}}],\"scattermapbox\":[{\"type\":\"scattermapbox\",\"marker\":{\"colorbar\":{\"outlinewidth\":0,\"ticks\":\"\"}}}],\"scatterternary\":[{\"type\":\"scatterternary\",\"marker\":{\"colorbar\":{\"outlinewidth\":0,\"ticks\":\"\"}}}],\"scattercarpet\":[{\"type\":\"scattercarpet\",\"marker\":{\"colorbar\":{\"outlinewidth\":0,\"ticks\":\"\"}}}],\"carpet\":[{\"aaxis\":{\"endlinecolor\":\"#2a3f5f\",\"gridcolor\":\"white\",\"linecolor\":\"white\",\"minorgridcolor\":\"white\",\"startlinecolor\":\"#2a3f5f\"},\"baxis\":{\"endlinecolor\":\"#2a3f5f\",\"gridcolor\":\"white\",\"linecolor\":\"white\",\"minorgridcolor\":\"white\",\"startlinecolor\":\"#2a3f5f\"},\"type\":\"carpet\"}],\"table\":[{\"cells\":{\"fill\":{\"color\":\"#EBF0F8\"},\"line\":{\"color\":\"white\"}},\"header\":{\"fill\":{\"color\":\"#C8D4E3\"},\"line\":{\"color\":\"white\"}},\"type\":\"table\"}],\"barpolar\":[{\"marker\":{\"line\":{\"color\":\"#E5ECF6\",\"width\":0.5},\"pattern\":{\"fillmode\":\"overlay\",\"size\":10,\"solidity\":0.2}},\"type\":\"barpolar\"}],\"pie\":[{\"automargin\":true,\"type\":\"pie\"}]},\"layout\":{\"autotypenumbers\":\"strict\",\"colorway\":[\"#636efa\",\"#EF553B\",\"#00cc96\",\"#ab63fa\",\"#FFA15A\",\"#19d3f3\",\"#FF6692\",\"#B6E880\",\"#FF97FF\",\"#FECB52\"],\"font\":{\"color\":\"#2a3f5f\"},\"hovermode\":\"closest\",\"hoverlabel\":{\"align\":\"left\"},\"paper_bgcolor\":\"white\",\"plot_bgcolor\":\"#E5ECF6\",\"polar\":{\"bgcolor\":\"#E5ECF6\",\"angularaxis\":{\"gridcolor\":\"white\",\"linecolor\":\"white\",\"ticks\":\"\"},\"radialaxis\":{\"gridcolor\":\"white\",\"linecolor\":\"white\",\"ticks\":\"\"}},\"ternary\":{\"bgcolor\":\"#E5ECF6\",\"aaxis\":{\"gridcolor\":\"white\",\"linecolor\":\"white\",\"ticks\":\"\"},\"baxis\":{\"gridcolor\":\"white\",\"linecolor\":\"white\",\"ticks\":\"\"},\"caxis\":{\"gridcolor\":\"white\",\"linecolor\":\"white\",\"ticks\":\"\"}},\"coloraxis\":{\"colorbar\":{\"outlinewidth\":0,\"ticks\":\"\"}},\"colorscale\":{\"sequential\":[[0.0,\"#0d0887\"],[0.1111111111111111,\"#46039f\"],[0.2222222222222222,\"#7201a8\"],[0.3333333333333333,\"#9c179e\"],[0.4444444444444444,\"#bd3786\"],[0.5555555555555556,\"#d8576b\"],[0.6666666666666666,\"#ed7953\"],[0.7777777777777778,\"#fb9f3a\"],[0.8888888888888888,\"#fdca26\"],[1.0,\"#f0f921\"]],\"sequentialminus\":[[0.0,\"#0d0887\"],[0.1111111111111111,\"#46039f\"],[0.2222222222222222,\"#7201a8\"],[0.3333333333333333,\"#9c179e\"],[0.4444444444444444,\"#bd3786\"],[0.5555555555555556,\"#d8576b\"],[0.6666666666666666,\"#ed7953\"],[0.7777777777777778,\"#fb9f3a\"],[0.8888888888888888,\"#fdca26\"],[1.0,\"#f0f921\"]],\"diverging\":[[0,\"#8e0152\"],[0.1,\"#c51b7d\"],[0.2,\"#de77ae\"],[0.3,\"#f1b6da\"],[0.4,\"#fde0ef\"],[0.5,\"#f7f7f7\"],[0.6,\"#e6f5d0\"],[0.7,\"#b8e186\"],[0.8,\"#7fbc41\"],[0.9,\"#4d9221\"],[1,\"#276419\"]]},\"xaxis\":{\"gridcolor\":\"white\",\"linecolor\":\"white\",\"ticks\":\"\",\"title\":{\"standoff\":15},\"zerolinecolor\":\"white\",\"automargin\":true,\"zerolinewidth\":2},\"yaxis\":{\"gridcolor\":\"white\",\"linecolor\":\"white\",\"ticks\":\"\",\"title\":{\"standoff\":15},\"zerolinecolor\":\"white\",\"automargin\":true,\"zerolinewidth\":2},\"scene\":{\"xaxis\":{\"backgroundcolor\":\"#E5ECF6\",\"gridcolor\":\"white\",\"linecolor\":\"white\",\"showbackground\":true,\"ticks\":\"\",\"zerolinecolor\":\"white\",\"gridwidth\":2},\"yaxis\":{\"backgroundcolor\":\"#E5ECF6\",\"gridcolor\":\"white\",\"linecolor\":\"white\",\"showbackground\":true,\"ticks\":\"\",\"zerolinecolor\":\"white\",\"gridwidth\":2},\"zaxis\":{\"backgroundcolor\":\"#E5ECF6\",\"gridcolor\":\"white\",\"linecolor\":\"white\",\"showbackground\":true,\"ticks\":\"\",\"zerolinecolor\":\"white\",\"gridwidth\":2}},\"shapedefaults\":{\"line\":{\"color\":\"#2a3f5f\"}},\"annotationdefaults\":{\"arrowcolor\":\"#2a3f5f\",\"arrowhead\":0,\"arrowwidth\":1},\"geo\":{\"bgcolor\":\"white\",\"landcolor\":\"#E5ECF6\",\"subunitcolor\":\"white\",\"showland\":true,\"showlakes\":true,\"lakecolor\":\"white\"},\"title\":{\"x\":0.05},\"mapbox\":{\"style\":\"light\"}}},\"xaxis\":{\"title\":{\"text\":\"Inhibitory weight (nS)\"}},\"yaxis\":{\"title\":{\"text\":\"Excitatory weight (nS)\"}}},                        {\"responsive\": true}                    ).then(function(){\n",
              "                            \n",
              "var gd = document.getElementById('036deb74-7fab-4148-9fdc-83a3566c8aa4');\n",
              "var x = new MutationObserver(function (mutations, observer) {{\n",
              "        var display = window.getComputedStyle(gd).display;\n",
              "        if (!display || display === 'none') {{\n",
              "            console.log([gd, 'removed!']);\n",
              "            Plotly.purge(gd);\n",
              "            observer.disconnect();\n",
              "        }}\n",
              "}});\n",
              "\n",
              "// Listen for the removal of the full notebook cells\n",
              "var notebookContainer = gd.closest('#notebook-container');\n",
              "if (notebookContainer) {{\n",
              "    x.observe(notebookContainer, {childList: true});\n",
              "}}\n",
              "\n",
              "// Listen for the clearing of the current output cell\n",
              "var outputEl = gd.closest('.output');\n",
              "if (outputEl) {{\n",
              "    x.observe(outputEl, {childList: true});\n",
              "}}\n",
              "\n",
              "                        })                };                            </script>        </div>\n",
              "</body>\n",
              "</html>"
            ]
          },
          "metadata": {}
        }
      ]
    },
    {
      "cell_type": "markdown",
      "source": [
        "# Somatic AIS model"
      ],
      "metadata": {
        "id": "OKwRhVT4hJym"
      }
    },
    {
      "cell_type": "markdown",
      "metadata": {
        "id": "KMmXe78whN0u"
      },
      "source": [
        "Create the Ball and Stick neuron model"
      ]
    },
    {
      "cell_type": "code",
      "execution_count": 4,
      "metadata": {
        "outputId": "21af3fff-a0b9-4549-8aad-ca75baa2fef9",
        "colab": {
          "base_uri": "https://localhost:8080/"
        },
        "id": "KfxCn86QhRcc"
      },
      "outputs": [
        {
          "output_type": "stream",
          "name": "stdout",
          "text": [
            "\n",
            "|-----|       BallAndStick[0].soma(0-1)\n",
            "       `--------------------------------------------------------------------------------------------------------------------------------------------------------------------------------------------------------|       BallAndStick[0].dend[0](0-1)\n",
            "       `----------|       BallAndStick[0].dend[1](0-1)\n",
            "       `--------------------|       BallAndStick[0].ais_prox(0-1)\n",
            "                             `--------------------|       BallAndStick[0].ais_dist(0-1)\n",
            "                                                   `------------------------|       BallAndStick[0].axon(0-1)\n",
            "    `--------------------|       BallAndStick[0].apic[0](0-1)\n",
            "                          `----|       BallAndStick[0].apic[1](0-1)\n",
            "                          `----|       BallAndStick[0].apic[2](0-1)\n",
            "\n"
          ]
        }
      ],
      "source": [
        "from ballandstick import BallAndStick\n",
        "\n",
        "ais_mode = 'soma' # set to either 'soma' or 'dend'\n",
        "ais_loc = 0 # if ais_mode is 'dend', sets how far along the basal dendrite to attach the AIS\n",
        "               # 0.06 = 12 µm along the 200 µm basal dendrite (95th percentile in Hodapp et al. 2022)\n",
        "cell_sAIS = BallAndStick(0,ais_mode,ais_loc)\n",
        "\n",
        "h.topology()\n",
        "# Time vector\n",
        "t_vec = h.Vector().record(h._ref_t)\n",
        "# Simulation parameter settings\n",
        "h.celsius = 37 # degC\n",
        "h.steps_per_ms = 1/0.025\n",
        "h.dt = 0.025 # ms\n",
        "h.tstop = 20 # ms\n",
        "h.v_init = -69 # mV\n",
        "\n",
        "# Stimulation\n",
        "iclamp = h.IClamp(cell_sAIS.soma(0.5))\n",
        "iclamp.delay = 0 # ms\n",
        "iclamp.dur = 20 # ms\n",
        "iclamp.amp = 1 # nA\n",
        "iclamp_i = h.Vector().record(iclamp._ref_i)"
      ]
    },
    {
      "cell_type": "markdown",
      "metadata": {
        "id": "6mYCHr1KhcfL"
      },
      "source": [
        "Add excitatory synapse to basal dendritic branch with AIS (`dend[0]`), distal to AIS. Add inhibitory synapse to soma."
      ]
    },
    {
      "cell_type": "code",
      "execution_count": 5,
      "metadata": {
        "id": "ahCDnA1qhfED"
      },
      "outputs": [],
      "source": [
        "# Add excitatory synapse to basal dendrite\n",
        "exc_syn_loc = 0.438 # 0 to 1, sets how far along basal dendrite excitatory synapse is added\n",
        "                    # 0.438 = 87.6 µm along 200 µm basal dendrite (average stim\n",
        "                    # location used in Hodapp et al. 2022 simulations)\n",
        "exc_syn = h.Exp2Syn(cell_sAIS.dend[0](exc_syn_loc))\n",
        "exc_syn.tau1 = 0.175 # ms - rise time (taken from Hodapp 2022 supp materials)\n",
        "exc_syn.tau2 = 5 # ms - decay time\n",
        "exc_syn.e = 0 # mV - eversal potential\n",
        "\n",
        "# Add inhibitory synapse to soma\n",
        "inh_syn = h.Exp2Syn(cell_sAIS.soma(0.5))\n",
        "inh_syn.tau1 = 1.6 # ms\n",
        "inh_syn.tau2 = 11 # ms\n",
        "inh_syn.e = -75 # mV\n",
        "\n",
        "# synaptic current recordings\n",
        "exc_syn_i = h.Vector().record(exc_syn._ref_i)\n",
        "exc_syn_g = h.Vector().record(exc_syn._ref_g)\n",
        "inh_syn_i = h.Vector().record(inh_syn._ref_i)\n",
        "inh_syn_g = h.Vector().record(inh_syn._ref_g)"
      ]
    },
    {
      "cell_type": "markdown",
      "metadata": {
        "id": "C0RKIGtjhkFv"
      },
      "source": [
        "Make `NetStim`s to drive synapses and `NetCons` to connect `NetStim`s to the synapses.  "
      ]
    },
    {
      "cell_type": "code",
      "execution_count": 6,
      "metadata": {
        "id": "YAdEQDufhmE1"
      },
      "outputs": [],
      "source": [
        "# NetStim to simulate excitatory presynaptic spikes\n",
        "estim = h.NetStim()\n",
        "estim.number = 1\n",
        "estim.interval = 10 # ms - interval between spikes\n",
        "estim.start = 5 # ms\n",
        "estim.noise = 0\n",
        "\n",
        "# NetCon to connect excitatory presynaptic spikes to excitatory postsynaptic conductance\n",
        "nc_estim = h.NetCon(estim,exc_syn)\n",
        "nc_estim.delay = 1 # ms - synaptic delay\n",
        "nc_estim.weight[0] = 1 # µS - peak conductance\n",
        "\n",
        "# NetStim to simulate inhibitory presynaptic spikes\n",
        "istim = h.NetStim()\n",
        "istim.number = 1\n",
        "istim.interval = 10 # ms - interval between spikes\n",
        "istim.start = 5 # ms\n",
        "istim.noise = 0\n",
        "\n",
        "# NetCon to connect inhibitory presynaptic spikes to excitatory postsynaptic conductance\n",
        "nc_istim = h.NetCon(istim,inh_syn)\n",
        "nc_istim.delay = 1 # ms - synaptic delay\n",
        "nc_istim.weight[0] = 1 # µS - peak conductance"
      ]
    },
    {
      "cell_type": "markdown",
      "metadata": {
        "id": "pFaAax4siIqh"
      },
      "source": [
        "**Opt. 1** Define helper function to detect if the cell fired an AP. If it did, also determine at what voltage threshold this occurred.\n",
        "\n",
        "**Opt. 2** Define helper function to detect if the cell fired an AP, checking if it happened in the soma & AIS (1.0) vs. AIS only (0.5) vs. neither (0)."
      ]
    },
    {
      "cell_type": "code",
      "source": [
        "def get_spike_times(v_vec_AIS,t_vec,threshold=0):\n",
        "    spike_times = []\n",
        "    firing = False\n",
        "    for i in np.arange(0,len(t_vec)):\n",
        "        if v_vec_AIS[i] > threshold:\n",
        "            if not firing:\n",
        "                firing = True\n",
        "                spike_times.append(t_vec[i])\n",
        "        if firing and v_vec_AIS[i] < threshold:\n",
        "            firing = False\n",
        "    return np.array(spike_times)\n",
        "\n",
        "def hz_out(spike_times):\n",
        "    if len(spike_times) < 2:\n",
        "        return False,0\n",
        "    burst_duration = (spike_times[-1] - spike_times[0])*1e-3 # burst duration in s\n",
        "    hz = (len(spike_times)-1)/burst_duration\n",
        "    return True,hz"
      ],
      "metadata": {
        "id": "xVyrpQo-i5oF"
      },
      "execution_count": 62,
      "outputs": []
    },
    {
      "cell_type": "markdown",
      "source": [
        "Simulate a range of excitatory and inhibitory weights from Hodapp et al. 2022."
      ],
      "metadata": {
        "id": "feeHdWeIiQX3"
      }
    },
    {
      "cell_type": "code",
      "source": [
        "exc_range = np.linspace(0,0.12,5) #13\n",
        "inh_range = np.linspace(0,0.08,9) #9\n",
        "iclamp.amp = 5 # nA\n",
        "\n",
        "sAIS_fire_matrix = np.zeros((len(exc_range),len(inh_range)))\n",
        "\n",
        "for e in np.arange(0,len(exc_range)):\n",
        "    for i in np.arange(0,len(inh_range)):\n",
        "        nc_estim.weight[0] = exc_range[e]\n",
        "        nc_istim.weight[0] = inh_range[i]\n",
        "        h.run()\n",
        "        did_burst,hz = hz_out(get_spike_times(cell_sAIS.ais_v,t_vec))\n",
        "        if did_burst:\n",
        "            sAIS_fire_matrix[e,i] = hz\n",
        "        else:\n",
        "            sAIS_fire_matrix[e,i] = np.nan\n"
      ],
      "metadata": {
        "id": "QFuMjMYLiSdv",
        "outputId": "ee7dd331-7d50-407a-b561-57f7949dea0d",
        "colab": {
          "base_uri": "https://localhost:8080/",
          "height": 221
        }
      },
      "execution_count": 1,
      "outputs": [
        {
          "output_type": "error",
          "ename": "NameError",
          "evalue": "name 'np' is not defined",
          "traceback": [
            "\u001b[0;31m---------------------------------------------------------------------------\u001b[0m",
            "\u001b[0;31mNameError\u001b[0m                                 Traceback (most recent call last)",
            "\u001b[0;32m<ipython-input-1-cab377f0d30c>\u001b[0m in \u001b[0;36m<cell line: 1>\u001b[0;34m()\u001b[0m\n\u001b[0;32m----> 1\u001b[0;31m \u001b[0mexc_range\u001b[0m \u001b[0;34m=\u001b[0m \u001b[0mnp\u001b[0m\u001b[0;34m.\u001b[0m\u001b[0mlinspace\u001b[0m\u001b[0;34m(\u001b[0m\u001b[0;36m0\u001b[0m\u001b[0;34m,\u001b[0m\u001b[0;36m0.12\u001b[0m\u001b[0;34m,\u001b[0m\u001b[0;36m5\u001b[0m\u001b[0;34m)\u001b[0m \u001b[0;31m#13\u001b[0m\u001b[0;34m\u001b[0m\u001b[0;34m\u001b[0m\u001b[0m\n\u001b[0m\u001b[1;32m      2\u001b[0m \u001b[0minh_range\u001b[0m \u001b[0;34m=\u001b[0m \u001b[0mnp\u001b[0m\u001b[0;34m.\u001b[0m\u001b[0mlinspace\u001b[0m\u001b[0;34m(\u001b[0m\u001b[0;36m0\u001b[0m\u001b[0;34m,\u001b[0m\u001b[0;36m0.08\u001b[0m\u001b[0;34m,\u001b[0m\u001b[0;36m9\u001b[0m\u001b[0;34m)\u001b[0m \u001b[0;31m#9\u001b[0m\u001b[0;34m\u001b[0m\u001b[0;34m\u001b[0m\u001b[0m\n\u001b[1;32m      3\u001b[0m \u001b[0miclamp\u001b[0m\u001b[0;34m.\u001b[0m\u001b[0mamp\u001b[0m \u001b[0;34m=\u001b[0m \u001b[0;36m5\u001b[0m \u001b[0;31m# nA\u001b[0m\u001b[0;34m\u001b[0m\u001b[0;34m\u001b[0m\u001b[0m\n\u001b[1;32m      4\u001b[0m \u001b[0;34m\u001b[0m\u001b[0m\n\u001b[1;32m      5\u001b[0m \u001b[0msAIS_fire_matrix\u001b[0m \u001b[0;34m=\u001b[0m \u001b[0mnp\u001b[0m\u001b[0;34m.\u001b[0m\u001b[0mzeros\u001b[0m\u001b[0;34m(\u001b[0m\u001b[0;34m(\u001b[0m\u001b[0mlen\u001b[0m\u001b[0;34m(\u001b[0m\u001b[0mexc_range\u001b[0m\u001b[0;34m)\u001b[0m\u001b[0;34m,\u001b[0m\u001b[0mlen\u001b[0m\u001b[0;34m(\u001b[0m\u001b[0minh_range\u001b[0m\u001b[0;34m)\u001b[0m\u001b[0;34m)\u001b[0m\u001b[0;34m)\u001b[0m\u001b[0;34m\u001b[0m\u001b[0;34m\u001b[0m\u001b[0m\n",
            "\u001b[0;31mNameError\u001b[0m: name 'np' is not defined"
          ]
        }
      ]
    },
    {
      "cell_type": "markdown",
      "source": [
        "Plot on heatmap."
      ],
      "metadata": {
        "id": "pWcL43r8iVr3"
      }
    },
    {
      "cell_type": "code",
      "source": [
        "import plotly.graph_objects as go\n",
        "\n",
        "fig = go.Figure(data=go.Heatmap(z=sAIS_fire_matrix,x=inh_range*1e3,y=exc_range*1e3))\n",
        "fig.update_xaxes(title_text=\"Inhibitory weight (nS)\")\n",
        "fig.update_yaxes(title_text=\"Excitatory weight (nS)\")\n",
        "fig.update_traces(colorbar_title_text='firing rate (Hz)',colorbar_title_side='right',selector=dict(type='heatmap'))\n",
        "fig.show()"
      ],
      "metadata": {
        "outputId": "e2f4f1b2-d8c0-4645-a1ed-225c363357fa",
        "colab": {
          "base_uri": "https://localhost:8080/",
          "height": 542
        },
        "id": "Ddk1Ay2qiVHC"
      },
      "execution_count": 44,
      "outputs": [
        {
          "output_type": "display_data",
          "data": {
            "text/html": [
              "<html>\n",
              "<head><meta charset=\"utf-8\" /></head>\n",
              "<body>\n",
              "    <div>            <script src=\"https://cdnjs.cloudflare.com/ajax/libs/mathjax/2.7.5/MathJax.js?config=TeX-AMS-MML_SVG\"></script><script type=\"text/javascript\">if (window.MathJax && window.MathJax.Hub && window.MathJax.Hub.Config) {window.MathJax.Hub.Config({SVG: {font: \"STIX-Web\"}});}</script>                <script type=\"text/javascript\">window.PlotlyConfig = {MathJaxConfig: 'local'};</script>\n",
              "        <script charset=\"utf-8\" src=\"https://cdn.plot.ly/plotly-2.24.1.min.js\"></script>                <div id=\"a76f0d5a-ed4a-4130-8b1c-dd7e3f7fb28d\" class=\"plotly-graph-div\" style=\"height:525px; width:100%;\"></div>            <script type=\"text/javascript\">                                    window.PLOTLYENV=window.PLOTLYENV || {};                                    if (document.getElementById(\"a76f0d5a-ed4a-4130-8b1c-dd7e3f7fb28d\")) {                    Plotly.newPlot(                        \"a76f0d5a-ed4a-4130-8b1c-dd7e3f7fb28d\",                        [{\"x\":[0.0,10.0,20.0,30.0,40.0,50.0,60.0,70.0,80.0],\"y\":[0.0,30.0,60.0,90.0,120.0],\"z\":[[258.7322121604218,245.0229709035284,240.60150375940472,235.64064801178827,231.2138728323762,226.3083451202326,221.60664819945225,216.80216802168647,212.2015915119426],[258.3979328165453,244.64831804281962,240.24024024024646,235.98820058997674,231.5484804631032,227.27272727273353,222.84122562674722,218.28103683493123,213.90374331551428],[258.06451612904004,244.27480916031155,240.24024024024646,235.98820058997674,231.88405797102072,227.59601706970753,223.15202231520848,218.8782489740145,214.4772117962529],[258.06451612904004,244.27480916031155,240.24024024024646,236.33677991137992,232.2206095791064,227.9202279202342,223.46368715084424,219.1780821917871,215.0537634408665],[258.06451612904004,244.27480916031155,240.24024024024646,236.33677991137992,232.2206095791064,227.9202279202342,223.77622377623004,219.47873799726275,215.3432032301543]],\"type\":\"heatmap\",\"colorbar\":{\"title\":{\"side\":\"right\",\"text\":\"firing rate (Hz)\"}}}],                        {\"template\":{\"data\":{\"histogram2dcontour\":[{\"type\":\"histogram2dcontour\",\"colorbar\":{\"outlinewidth\":0,\"ticks\":\"\"},\"colorscale\":[[0.0,\"#0d0887\"],[0.1111111111111111,\"#46039f\"],[0.2222222222222222,\"#7201a8\"],[0.3333333333333333,\"#9c179e\"],[0.4444444444444444,\"#bd3786\"],[0.5555555555555556,\"#d8576b\"],[0.6666666666666666,\"#ed7953\"],[0.7777777777777778,\"#fb9f3a\"],[0.8888888888888888,\"#fdca26\"],[1.0,\"#f0f921\"]]}],\"choropleth\":[{\"type\":\"choropleth\",\"colorbar\":{\"outlinewidth\":0,\"ticks\":\"\"}}],\"histogram2d\":[{\"type\":\"histogram2d\",\"colorbar\":{\"outlinewidth\":0,\"ticks\":\"\"},\"colorscale\":[[0.0,\"#0d0887\"],[0.1111111111111111,\"#46039f\"],[0.2222222222222222,\"#7201a8\"],[0.3333333333333333,\"#9c179e\"],[0.4444444444444444,\"#bd3786\"],[0.5555555555555556,\"#d8576b\"],[0.6666666666666666,\"#ed7953\"],[0.7777777777777778,\"#fb9f3a\"],[0.8888888888888888,\"#fdca26\"],[1.0,\"#f0f921\"]]}],\"heatmap\":[{\"type\":\"heatmap\",\"colorbar\":{\"outlinewidth\":0,\"ticks\":\"\"},\"colorscale\":[[0.0,\"#0d0887\"],[0.1111111111111111,\"#46039f\"],[0.2222222222222222,\"#7201a8\"],[0.3333333333333333,\"#9c179e\"],[0.4444444444444444,\"#bd3786\"],[0.5555555555555556,\"#d8576b\"],[0.6666666666666666,\"#ed7953\"],[0.7777777777777778,\"#fb9f3a\"],[0.8888888888888888,\"#fdca26\"],[1.0,\"#f0f921\"]]}],\"heatmapgl\":[{\"type\":\"heatmapgl\",\"colorbar\":{\"outlinewidth\":0,\"ticks\":\"\"},\"colorscale\":[[0.0,\"#0d0887\"],[0.1111111111111111,\"#46039f\"],[0.2222222222222222,\"#7201a8\"],[0.3333333333333333,\"#9c179e\"],[0.4444444444444444,\"#bd3786\"],[0.5555555555555556,\"#d8576b\"],[0.6666666666666666,\"#ed7953\"],[0.7777777777777778,\"#fb9f3a\"],[0.8888888888888888,\"#fdca26\"],[1.0,\"#f0f921\"]]}],\"contourcarpet\":[{\"type\":\"contourcarpet\",\"colorbar\":{\"outlinewidth\":0,\"ticks\":\"\"}}],\"contour\":[{\"type\":\"contour\",\"colorbar\":{\"outlinewidth\":0,\"ticks\":\"\"},\"colorscale\":[[0.0,\"#0d0887\"],[0.1111111111111111,\"#46039f\"],[0.2222222222222222,\"#7201a8\"],[0.3333333333333333,\"#9c179e\"],[0.4444444444444444,\"#bd3786\"],[0.5555555555555556,\"#d8576b\"],[0.6666666666666666,\"#ed7953\"],[0.7777777777777778,\"#fb9f3a\"],[0.8888888888888888,\"#fdca26\"],[1.0,\"#f0f921\"]]}],\"surface\":[{\"type\":\"surface\",\"colorbar\":{\"outlinewidth\":0,\"ticks\":\"\"},\"colorscale\":[[0.0,\"#0d0887\"],[0.1111111111111111,\"#46039f\"],[0.2222222222222222,\"#7201a8\"],[0.3333333333333333,\"#9c179e\"],[0.4444444444444444,\"#bd3786\"],[0.5555555555555556,\"#d8576b\"],[0.6666666666666666,\"#ed7953\"],[0.7777777777777778,\"#fb9f3a\"],[0.8888888888888888,\"#fdca26\"],[1.0,\"#f0f921\"]]}],\"mesh3d\":[{\"type\":\"mesh3d\",\"colorbar\":{\"outlinewidth\":0,\"ticks\":\"\"}}],\"scatter\":[{\"fillpattern\":{\"fillmode\":\"overlay\",\"size\":10,\"solidity\":0.2},\"type\":\"scatter\"}],\"parcoords\":[{\"type\":\"parcoords\",\"line\":{\"colorbar\":{\"outlinewidth\":0,\"ticks\":\"\"}}}],\"scatterpolargl\":[{\"type\":\"scatterpolargl\",\"marker\":{\"colorbar\":{\"outlinewidth\":0,\"ticks\":\"\"}}}],\"bar\":[{\"error_x\":{\"color\":\"#2a3f5f\"},\"error_y\":{\"color\":\"#2a3f5f\"},\"marker\":{\"line\":{\"color\":\"#E5ECF6\",\"width\":0.5},\"pattern\":{\"fillmode\":\"overlay\",\"size\":10,\"solidity\":0.2}},\"type\":\"bar\"}],\"scattergeo\":[{\"type\":\"scattergeo\",\"marker\":{\"colorbar\":{\"outlinewidth\":0,\"ticks\":\"\"}}}],\"scatterpolar\":[{\"type\":\"scatterpolar\",\"marker\":{\"colorbar\":{\"outlinewidth\":0,\"ticks\":\"\"}}}],\"histogram\":[{\"marker\":{\"pattern\":{\"fillmode\":\"overlay\",\"size\":10,\"solidity\":0.2}},\"type\":\"histogram\"}],\"scattergl\":[{\"type\":\"scattergl\",\"marker\":{\"colorbar\":{\"outlinewidth\":0,\"ticks\":\"\"}}}],\"scatter3d\":[{\"type\":\"scatter3d\",\"line\":{\"colorbar\":{\"outlinewidth\":0,\"ticks\":\"\"}},\"marker\":{\"colorbar\":{\"outlinewidth\":0,\"ticks\":\"\"}}}],\"scattermapbox\":[{\"type\":\"scattermapbox\",\"marker\":{\"colorbar\":{\"outlinewidth\":0,\"ticks\":\"\"}}}],\"scatterternary\":[{\"type\":\"scatterternary\",\"marker\":{\"colorbar\":{\"outlinewidth\":0,\"ticks\":\"\"}}}],\"scattercarpet\":[{\"type\":\"scattercarpet\",\"marker\":{\"colorbar\":{\"outlinewidth\":0,\"ticks\":\"\"}}}],\"carpet\":[{\"aaxis\":{\"endlinecolor\":\"#2a3f5f\",\"gridcolor\":\"white\",\"linecolor\":\"white\",\"minorgridcolor\":\"white\",\"startlinecolor\":\"#2a3f5f\"},\"baxis\":{\"endlinecolor\":\"#2a3f5f\",\"gridcolor\":\"white\",\"linecolor\":\"white\",\"minorgridcolor\":\"white\",\"startlinecolor\":\"#2a3f5f\"},\"type\":\"carpet\"}],\"table\":[{\"cells\":{\"fill\":{\"color\":\"#EBF0F8\"},\"line\":{\"color\":\"white\"}},\"header\":{\"fill\":{\"color\":\"#C8D4E3\"},\"line\":{\"color\":\"white\"}},\"type\":\"table\"}],\"barpolar\":[{\"marker\":{\"line\":{\"color\":\"#E5ECF6\",\"width\":0.5},\"pattern\":{\"fillmode\":\"overlay\",\"size\":10,\"solidity\":0.2}},\"type\":\"barpolar\"}],\"pie\":[{\"automargin\":true,\"type\":\"pie\"}]},\"layout\":{\"autotypenumbers\":\"strict\",\"colorway\":[\"#636efa\",\"#EF553B\",\"#00cc96\",\"#ab63fa\",\"#FFA15A\",\"#19d3f3\",\"#FF6692\",\"#B6E880\",\"#FF97FF\",\"#FECB52\"],\"font\":{\"color\":\"#2a3f5f\"},\"hovermode\":\"closest\",\"hoverlabel\":{\"align\":\"left\"},\"paper_bgcolor\":\"white\",\"plot_bgcolor\":\"#E5ECF6\",\"polar\":{\"bgcolor\":\"#E5ECF6\",\"angularaxis\":{\"gridcolor\":\"white\",\"linecolor\":\"white\",\"ticks\":\"\"},\"radialaxis\":{\"gridcolor\":\"white\",\"linecolor\":\"white\",\"ticks\":\"\"}},\"ternary\":{\"bgcolor\":\"#E5ECF6\",\"aaxis\":{\"gridcolor\":\"white\",\"linecolor\":\"white\",\"ticks\":\"\"},\"baxis\":{\"gridcolor\":\"white\",\"linecolor\":\"white\",\"ticks\":\"\"},\"caxis\":{\"gridcolor\":\"white\",\"linecolor\":\"white\",\"ticks\":\"\"}},\"coloraxis\":{\"colorbar\":{\"outlinewidth\":0,\"ticks\":\"\"}},\"colorscale\":{\"sequential\":[[0.0,\"#0d0887\"],[0.1111111111111111,\"#46039f\"],[0.2222222222222222,\"#7201a8\"],[0.3333333333333333,\"#9c179e\"],[0.4444444444444444,\"#bd3786\"],[0.5555555555555556,\"#d8576b\"],[0.6666666666666666,\"#ed7953\"],[0.7777777777777778,\"#fb9f3a\"],[0.8888888888888888,\"#fdca26\"],[1.0,\"#f0f921\"]],\"sequentialminus\":[[0.0,\"#0d0887\"],[0.1111111111111111,\"#46039f\"],[0.2222222222222222,\"#7201a8\"],[0.3333333333333333,\"#9c179e\"],[0.4444444444444444,\"#bd3786\"],[0.5555555555555556,\"#d8576b\"],[0.6666666666666666,\"#ed7953\"],[0.7777777777777778,\"#fb9f3a\"],[0.8888888888888888,\"#fdca26\"],[1.0,\"#f0f921\"]],\"diverging\":[[0,\"#8e0152\"],[0.1,\"#c51b7d\"],[0.2,\"#de77ae\"],[0.3,\"#f1b6da\"],[0.4,\"#fde0ef\"],[0.5,\"#f7f7f7\"],[0.6,\"#e6f5d0\"],[0.7,\"#b8e186\"],[0.8,\"#7fbc41\"],[0.9,\"#4d9221\"],[1,\"#276419\"]]},\"xaxis\":{\"gridcolor\":\"white\",\"linecolor\":\"white\",\"ticks\":\"\",\"title\":{\"standoff\":15},\"zerolinecolor\":\"white\",\"automargin\":true,\"zerolinewidth\":2},\"yaxis\":{\"gridcolor\":\"white\",\"linecolor\":\"white\",\"ticks\":\"\",\"title\":{\"standoff\":15},\"zerolinecolor\":\"white\",\"automargin\":true,\"zerolinewidth\":2},\"scene\":{\"xaxis\":{\"backgroundcolor\":\"#E5ECF6\",\"gridcolor\":\"white\",\"linecolor\":\"white\",\"showbackground\":true,\"ticks\":\"\",\"zerolinecolor\":\"white\",\"gridwidth\":2},\"yaxis\":{\"backgroundcolor\":\"#E5ECF6\",\"gridcolor\":\"white\",\"linecolor\":\"white\",\"showbackground\":true,\"ticks\":\"\",\"zerolinecolor\":\"white\",\"gridwidth\":2},\"zaxis\":{\"backgroundcolor\":\"#E5ECF6\",\"gridcolor\":\"white\",\"linecolor\":\"white\",\"showbackground\":true,\"ticks\":\"\",\"zerolinecolor\":\"white\",\"gridwidth\":2}},\"shapedefaults\":{\"line\":{\"color\":\"#2a3f5f\"}},\"annotationdefaults\":{\"arrowcolor\":\"#2a3f5f\",\"arrowhead\":0,\"arrowwidth\":1},\"geo\":{\"bgcolor\":\"white\",\"landcolor\":\"#E5ECF6\",\"subunitcolor\":\"white\",\"showland\":true,\"showlakes\":true,\"lakecolor\":\"white\"},\"title\":{\"x\":0.05},\"mapbox\":{\"style\":\"light\"}}},\"xaxis\":{\"title\":{\"text\":\"Inhibitory weight (nS)\"}},\"yaxis\":{\"title\":{\"text\":\"Excitatory weight (nS)\"}}},                        {\"responsive\": true}                    ).then(function(){\n",
              "                            \n",
              "var gd = document.getElementById('a76f0d5a-ed4a-4130-8b1c-dd7e3f7fb28d');\n",
              "var x = new MutationObserver(function (mutations, observer) {{\n",
              "        var display = window.getComputedStyle(gd).display;\n",
              "        if (!display || display === 'none') {{\n",
              "            console.log([gd, 'removed!']);\n",
              "            Plotly.purge(gd);\n",
              "            observer.disconnect();\n",
              "        }}\n",
              "}});\n",
              "\n",
              "// Listen for the removal of the full notebook cells\n",
              "var notebookContainer = gd.closest('#notebook-container');\n",
              "if (notebookContainer) {{\n",
              "    x.observe(notebookContainer, {childList: true});\n",
              "}}\n",
              "\n",
              "// Listen for the clearing of the current output cell\n",
              "var outputEl = gd.closest('.output');\n",
              "if (outputEl) {{\n",
              "    x.observe(outputEl, {childList: true});\n",
              "}}\n",
              "\n",
              "                        })                };                            </script>        </div>\n",
              "</body>\n",
              "</html>"
            ]
          },
          "metadata": {}
        }
      ]
    },
    {
      "cell_type": "markdown",
      "source": [
        "Get Hz out for a range of current clamps"
      ],
      "metadata": {
        "id": "Fgd1g_7XtyMM"
      }
    },
    {
      "cell_type": "code",
      "source": [
        "nc_estim.weight[0] = 0\n",
        "nc_istim.weight[0] = 0\n",
        "curr_range = np.linspace(0,20,21)\n",
        "\n",
        "hz_list = []\n",
        "for i in np.arange(0,len(curr_range)):\n",
        "    iclamp.amp = curr_range[i] # nA\n",
        "    h.run()\n",
        "    spike_times = get_spike_times(cell_sAIS.ais_v,t_vec)\n",
        "    did_burst,hz = hz_out(spike_times)\n",
        "    hz_list.append(hz)"
      ],
      "metadata": {
        "id": "-gbnSftnt1YF"
      },
      "execution_count": 56,
      "outputs": []
    },
    {
      "cell_type": "code",
      "source": [
        "fig = plt.figure()\n",
        "ax = fig.add_subplot(111)\n",
        "ax.plot(curr_range,hz_list)\n",
        "ax.set_xlabel('current (nA)')\n",
        "ax.set_ylabel('frequency (Hz)')"
      ],
      "metadata": {
        "id": "EMVqzoUDuw11",
        "outputId": "243e055f-290e-4c65-e575-4b245e81bb7b",
        "colab": {
          "base_uri": "https://localhost:8080/",
          "height": 469
        }
      },
      "execution_count": 57,
      "outputs": [
        {
          "output_type": "execute_result",
          "data": {
            "text/plain": [
              "Text(0, 0.5, 'frequency (Hz)')"
            ]
          },
          "metadata": {},
          "execution_count": 57
        },
        {
          "output_type": "display_data",
          "data": {
            "text/plain": [
              "<Figure size 640x480 with 1 Axes>"
            ],
            "image/png": "[encoded data removed]"
          },
          "metadata": {}
        }
      ]
    }
  ],
  "metadata": {
    "colab": {
      "provenance": [],
      "toc_visible": true,
      "include_colab_link": true
    },
    "kernelspec": {
      "display_name": "cmns_env",
      "language": "python",
      "name": "python3"
    },
    "language_info": {
      "codemirror_mode": {
        "name": "ipython",
        "version": 3
      },
      "file_extension": ".py",
      "mimetype": "text/x-python",
      "name": "python",
      "nbconvert_exporter": "python",
      "pygments_lexer": "ipython3",
      "version": "3.9.16"
    },
    "vscode": {
      "interpreter": {
        "hash": "d0488761690764cced0e7b1e141a742f06ea2f3fa8f54952eb1b54a94bfd6a2a"
      }
    }
  },
  "nbformat": 4,
  "nbformat_minor": 0
}